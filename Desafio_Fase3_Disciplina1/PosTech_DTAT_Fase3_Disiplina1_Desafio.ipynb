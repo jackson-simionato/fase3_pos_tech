{
 "cells": [
  {
   "cell_type": "code",
   "execution_count": 1,
   "metadata": {},
   "outputs": [],
   "source": [
    "from pyspark.sql import SparkSession\n",
    "import findspark\n",
    "import os, sys\n",
    "\n",
    "findspark.init()"
   ]
  },
  {
   "cell_type": "markdown",
   "metadata": {},
   "source": [
    "# Descrição do desafio\n",
    "\n",
    "O objetivo é realizar o processamento de uma grande base de dados utilizando o Apache Spark e a série histórica de preços de combustíveis no Brasil de acordo com a Agência Nacional de Gás Natural e Biocombustíveis (ANP). A base deve ser carregada no Apache Spark, explorada e pré-processada para depois insights serem extraídos. Algumas visualização também podem ser geradas no Matplotlib ou Seaborn.\n",
    "\n",
    "Fonte: https://www.gov.br/anp/pt-br/centrais-de-conteudo/dados-abertos/serie-historica-de-precos-de-combustiveis\n",
    "\n",
    "O repositório disponibiliza os dados em arquivos CSV organizados por semestre, compreendendo todo o período a partir do ano de 2004.\n",
    "\n",
    "## Colunas\n",
    "\n",
    "- Regiao - Sigla\n",
    "- Estado - Sigla\n",
    "- Municipio\n",
    "- Revenda\n",
    "- CNPJ da Revenda\n",
    "- Nome da Rua\n",
    "- Numero Rua\n",
    "- Complemento\n",
    "- Bairro\n",
    "- Cep\n",
    "- Produto\n",
    "- Data da Coleta\n",
    "- Valor de Venda\n",
    "- Valor de Compra\n",
    "- Unidade de Medida\n",
    "- Bandeira\n"
   ]
  },
  {
   "cell_type": "markdown",
   "metadata": {},
   "source": [
    "# Definição de pastas e caminhos"
   ]
  },
  {
   "cell_type": "code",
   "execution_count": 2,
   "metadata": {},
   "outputs": [],
   "source": [
    "# Definição do caminho das pastas raíz e data\n",
    "root = os.getcwd()\n",
    "\n",
    "data_folder = os.path.join(root, 'data')"
   ]
  },
  {
   "cell_type": "markdown",
   "metadata": {},
   "source": [
    "# Configuração do PySpark"
   ]
  },
  {
   "cell_type": "code",
   "execution_count": 3,
   "metadata": {},
   "outputs": [],
   "source": [
    "spark = SparkSession.builder.master('local[*]').getOrCreate()"
   ]
  },
  {
   "cell_type": "markdown",
   "metadata": {},
   "source": [
    "# Leitura dos dados"
   ]
  },
  {
   "cell_type": "code",
   "execution_count": 4,
   "metadata": {},
   "outputs": [
    {
     "name": "stdout",
     "output_type": "stream",
     "text": [
      "Número de arquivos: 39\n"
     ]
    }
   ],
   "source": [
    "list_csv = [os.path.join(data_folder,file) for file in os.listdir(data_folder) if file.endswith('.csv')]\n",
    "\n",
    "print(f'Número de arquivos: {len(list_csv)}')"
   ]
  },
  {
   "cell_type": "code",
   "execution_count": 5,
   "metadata": {},
   "outputs": [],
   "source": [
    "raw_data = spark.read.csv(list_csv, inferSchema=True, header=True, sep=';')"
   ]
  },
  {
   "cell_type": "markdown",
   "metadata": {},
   "source": [
    "# Análise de dados exploratória"
   ]
  },
  {
   "cell_type": "code",
   "execution_count": 6,
   "metadata": {},
   "outputs": [
    {
     "name": "stdout",
     "output_type": "stream",
     "text": [
      "+--------------+--------------+-------------+--------------------+-------------------+--------------------+----------+----------------+-----------------+---------+--------+--------------+--------------+---------------+-----------------+--------------------+\n",
      "|Regiao - Sigla|Estado - Sigla|    Municipio|             Revenda|    CNPJ da Revenda|         Nome da Rua|Numero Rua|     Complemento|           Bairro|      Cep| Produto|Data da Coleta|Valor de Venda|Valor de Compra|Unidade de Medida|            Bandeira|\n",
      "+--------------+--------------+-------------+--------------------+-------------------+--------------------+----------+----------------+-----------------+---------+--------+--------------+--------------+---------------+-----------------+--------------------+\n",
      "|            CO|            MS| CAMPO GRANDE|AUTO POSTO APAREC...| 86.807.609/0001-92|       RUA BRILHANTE|     2,787|            NULL|VILA BANDEIRANTES|79006-560|GASOLINA|    01/07/2004|          2,71|         2,0888|       R$ / litro|            LIQUIGÁS|\n",
      "|            CO|            MS| CAMPO GRANDE|AUTO POSTO APAREC...| 86.807.609/0001-92|       RUA BRILHANTE|     2,787|            NULL|VILA BANDEIRANTES|79006-560|  ETANOL|    01/07/2004|          1,71|         1,1877|       R$ / litro|            LIQUIGÁS|\n",
      "|            CO|            MS| CAMPO GRANDE|AUTO POSTO APAREC...| 86.807.609/0001-92|       RUA BRILHANTE|     2,787|            NULL|VILA BANDEIRANTES|79006-560|  DIESEL|    01/07/2004|          1,88|         1,5279|       R$ / litro|            LIQUIGÁS|\n",
      "|            CO|            MT|ALTA FLORESTA|AUTO POSTO BURIOL...| 04.481.758/0001-40|AVENIDA ARIOSTO D...|       S/N|    LOTE AC 35/2|           CENTRO|78580-000|GASOLINA|    01/07/2004|          2,69|         2,0735|       R$ / litro|                CBPI|\n",
      "|            CO|            MT|ALTA FLORESTA|AUTO POSTO BURIOL...| 04.481.758/0001-40|AVENIDA ARIOSTO D...|       S/N|    LOTE AC 35/2|           CENTRO|78580-000|  ETANOL|    01/07/2004|          1,69|           NULL|       R$ / litro|                CBPI|\n",
      "|            CO|            MT|ALTA FLORESTA|AUTO POSTO BURIOL...| 04.481.758/0001-40|AVENIDA ARIOSTO D...|       S/N|    LOTE AC 35/2|           CENTRO|78580-000|  DIESEL|    01/07/2004|          1,88|         1,5146|       R$ / litro|                CBPI|\n",
      "|            CO|            MT|ALTA FLORESTA|AUTO POSTO GONTIJ...| 36.947.737/0005-97| AVENIDA MATO GROSSO|      1341|                |      CIDADE BELA|78580-000|GASOLINA|    01/07/2004|          2,66|         1,9833|       R$ / litro|PETROBRAS DISTRIB...|\n",
      "|            CO|            MT|ALTA FLORESTA|AUTO POSTO GONTIJ...| 36.947.737/0005-97| AVENIDA MATO GROSSO|      1341|                |      CIDADE BELA|78580-000|  ETANOL|    01/07/2004|          1,68|         1,0508|       R$ / litro|PETROBRAS DISTRIB...|\n",
      "|            CO|            MT|ALTA FLORESTA|AUTO POSTO GONTIJ...| 36.947.737/0005-97| AVENIDA MATO GROSSO|      1341|                |      CIDADE BELA|78580-000|  DIESEL|    01/07/2004|          1,85|         1,4998|       R$ / litro|PETROBRAS DISTRIB...|\n",
      "|            CO|            MT|ALTA FLORESTA|VIDOTTO & MOLINA ...| 32.985.244/0001-67| RUA PAPA JOÃO XXIII|       777|             B-5|          SETOR B|78580-000|GASOLINA|    01/07/2004|           2,7|           2,05|       R$ / litro|              BRANCA|\n",
      "|            CO|            MT|ALTA FLORESTA|VIDOTTO & MOLINA ...| 32.985.244/0001-67| RUA PAPA JOÃO XXIII|       777|             B-5|          SETOR B|78580-000|  ETANOL|    01/07/2004|          1,65|          1,117|       R$ / litro|              BRANCA|\n",
      "|            CO|            MT|ALTA FLORESTA|VIDOTTO & MOLINA ...| 32.985.244/0001-67| RUA PAPA JOÃO XXIII|       777|             B-5|          SETOR B|78580-000|  DIESEL|    01/07/2004|           1,9|           1,55|       R$ / litro|              BRANCA|\n",
      "|            CO|            MT|ALTA FLORESTA| SARAVY E BRITO LTDA| 32.952.558/0001-63|      RODOVIA MT 208|       S/N|      KM 144/145|  JARDIM PANORAMA|78580-000|GASOLINA|    01/07/2004|          2,68|           2,09|       R$ / litro|PETROBRAS DISTRIB...|\n",
      "|            CO|            MT|ALTA FLORESTA| SARAVY E BRITO LTDA| 32.952.558/0001-63|      RODOVIA MT 208|       S/N|      KM 144/145|  JARDIM PANORAMA|78580-000|  ETANOL|    01/07/2004|          1,65|           0,95|       R$ / litro|PETROBRAS DISTRIB...|\n",
      "|            CO|            MT|ALTA FLORESTA| SARAVY E BRITO LTDA| 32.952.558/0001-63|      RODOVIA MT 208|       S/N|      KM 144/145|  JARDIM PANORAMA|78580-000|  DIESEL|    01/07/2004|          1,89|         1,5136|       R$ / litro|PETROBRAS DISTRIB...|\n",
      "|            CO|            MT|ALTA FLORESTA|   POSTO SAMUCA LTDA| 24.966.244/0001-91|AVENIDA ARIOSTO D...|      1681|ESQUINA C/ RUA G|           CENTRO|78580-000|GASOLINA|    01/07/2004|          2,69|         2,0161|       R$ / litro|            LIQUIGÁS|\n",
      "|            CO|            MT|ALTA FLORESTA|   POSTO SAMUCA LTDA| 24.966.244/0001-91|AVENIDA ARIOSTO D...|      1681|ESQUINA C/ RUA G|           CENTRO|78580-000|  ETANOL|    01/07/2004|           1,7|         1,5017|       R$ / litro|            LIQUIGÁS|\n",
      "|            CO|            MT|ALTA FLORESTA|   POSTO SAMUCA LTDA| 24.966.244/0001-91|AVENIDA ARIOSTO D...|      1681|ESQUINA C/ RUA G|           CENTRO|78580-000|  DIESEL|    01/07/2004|          1,87|         1,5133|       R$ / litro|            LIQUIGÁS|\n",
      "|            CO|            MT|ALTA FLORESTA|CODOPEL - COMERCI...| 24.957.987/0003-67|AVENIDA ARIOSTO D...|    2561 A|               0|           CENTRO|78580-000|GASOLINA|    01/07/2004|          2,71|           2,09|       R$ / litro|            LIQUIGÁS|\n",
      "|            CO|            MT|ALTA FLORESTA|CODOPEL - COMERCI...| 24.957.987/0003-67|AVENIDA ARIOSTO D...|    2561 A|               0|           CENTRO|78580-000|  ETANOL|    01/07/2004|          1,71|           1,12|       R$ / litro|            LIQUIGÁS|\n",
      "+--------------+--------------+-------------+--------------------+-------------------+--------------------+----------+----------------+-----------------+---------+--------+--------------+--------------+---------------+-----------------+--------------------+\n",
      "only showing top 20 rows\n",
      "\n"
     ]
    }
   ],
   "source": [
    "raw_data.show()"
   ]
  },
  {
   "cell_type": "code",
   "execution_count": 7,
   "metadata": {},
   "outputs": [
    {
     "name": "stdout",
     "output_type": "stream",
     "text": [
      "N columns: 16\n",
      "N lines: 22645940\n"
     ]
    }
   ],
   "source": [
    "print(f'N columns: {len(raw_data.columns)}')\n",
    "print(f'N lines: {raw_data.count()}')"
   ]
  },
  {
   "cell_type": "code",
   "execution_count": 8,
   "metadata": {},
   "outputs": [
    {
     "name": "stdout",
     "output_type": "stream",
     "text": [
      "root\n",
      " |-- Regiao - Sigla: string (nullable = true)\n",
      " |-- Estado - Sigla: string (nullable = true)\n",
      " |-- Municipio: string (nullable = true)\n",
      " |-- Revenda: string (nullable = true)\n",
      " |-- CNPJ da Revenda: string (nullable = true)\n",
      " |-- Nome da Rua: string (nullable = true)\n",
      " |-- Numero Rua: string (nullable = true)\n",
      " |-- Complemento: string (nullable = true)\n",
      " |-- Bairro: string (nullable = true)\n",
      " |-- Cep: string (nullable = true)\n",
      " |-- Produto: string (nullable = true)\n",
      " |-- Data da Coleta: string (nullable = true)\n",
      " |-- Valor de Venda: string (nullable = true)\n",
      " |-- Valor de Compra: string (nullable = true)\n",
      " |-- Unidade de Medida: string (nullable = true)\n",
      " |-- Bandeira: string (nullable = true)\n",
      "\n"
     ]
    }
   ],
   "source": [
    "raw_data.printSchema()"
   ]
  },
  {
   "cell_type": "markdown",
   "metadata": {},
   "source": [
    "Algumas colunas numéricas estão declaradas como string, o que dificultará a análise dessas informações do ponto de vista de extrair estatíticas descritivas e criar gráficos.\n",
    "\n",
    "Portanto, deve-se fazer a conversão destas colunas: **Valor de Venda** e **Valor de Compra**.\n",
    "\n",
    "Além disso, é importante transformar a coluna **Data da Coleta** para o tipo datetime."
   ]
  },
  {
   "cell_type": "markdown",
   "metadata": {},
   "source": [
    "Entretanto, antes será necessário realizar uma limpeza na base de dados. Visualizando os .csvs originais foi identificado que várias linhas da base estão com seus valores deslocados em relação às posições das colunas.\n",
    "\n",
    "Em resumo, algumas linhas estão, por exemplo, com o valor de **Data da Coleta** na coluna **Valor de Venda**, o número de **Valor de Venda** na coluna **Valor de Compra** e assim por diante.\n",
    "\n",
    "Uma das alternativas para tratar essa inconsistência é descartar as linhas que estão com esse problema, já que trata-se de um montante pequeno com relação à base como um todo."
   ]
  },
  {
   "cell_type": "markdown",
   "metadata": {},
   "source": [
    "# Pré-processamento"
   ]
  },
  {
   "cell_type": "code",
   "execution_count": 9,
   "metadata": {},
   "outputs": [],
   "source": [
    "raw_data.createOrReplaceTempView('raw_data_sql')"
   ]
  },
  {
   "cell_type": "code",
   "execution_count": 19,
   "metadata": {},
   "outputs": [],
   "source": [
    "unidade_unique = spark.sql('SELECT DISTINCT `Unidade de Medida` FROM raw_data_sql')"
   ]
  },
  {
   "cell_type": "code",
   "execution_count": 20,
   "metadata": {},
   "outputs": [
    {
     "name": "stdout",
     "output_type": "stream",
     "text": [
      "+-----------------+\n",
      "|Unidade de Medida|\n",
      "+-----------------+\n",
      "|       R$ / litro|\n",
      "|          R$ / m³|\n",
      "|          R$ / m�|\n",
      "|             NULL|\n",
      "+-----------------+\n",
      "\n"
     ]
    }
   ],
   "source": [
    "unidade_unique.show()"
   ]
  }
 ],
 "metadata": {
  "kernelspec": {
   "display_name": "pyspark_env",
   "language": "python",
   "name": "python3"
  },
  "language_info": {
   "codemirror_mode": {
    "name": "ipython",
    "version": 3
   },
   "file_extension": ".py",
   "mimetype": "text/x-python",
   "name": "python",
   "nbconvert_exporter": "python",
   "pygments_lexer": "ipython3",
   "version": "3.10.9"
  },
  "orig_nbformat": 4
 },
 "nbformat": 4,
 "nbformat_minor": 2
}
