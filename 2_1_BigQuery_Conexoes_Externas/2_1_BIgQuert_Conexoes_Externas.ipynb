{
 "cells": [
  {
   "cell_type": "code",
   "execution_count": 4,
   "metadata": {},
   "outputs": [],
   "source": [
    "from google.cloud import bigquery"
   ]
  },
  {
   "cell_type": "code",
   "execution_count": 7,
   "metadata": {},
   "outputs": [],
   "source": [
    "project_id = 'brave-tea-400210'\n",
    "dataset_id = 'ioma_liquor_sales'\n",
    "table_id = 'sales'\n",
    "client = bigquery.Client(project=project_id)"
   ]
  },
  {
   "cell_type": "code",
   "execution_count": 9,
   "metadata": {},
   "outputs": [
    {
     "name": "stdout",
     "output_type": "stream",
     "text": [
      "Row(('INV-43744900024', datetime.date(2022, 1, 12), '4499', \"CASEY'S GENERAL STORE #1316 / MILFORD\", '510 OKOBOJI AVE', 'MILFORD', '51351.0', 'POINT(-95.149937 43.320094)', '30', 'DICKINSON', '1082100.0', 'IMPORTED CORDIALS & LIQUEURS', '192', 'MAST-JAGERMEISTER US, INC', '65259', 'JAGERMEISTER LIQUEUR MINI MEISTERS', 12, 20, 4.93, 7.4, 1, 7.4, 0.02, 0.0), {'invoice_and_item_number': 0, 'date': 1, 'store_number': 2, 'store_name': 3, 'address': 4, 'city': 5, 'zip_code': 6, 'store_location': 7, 'county_number': 8, 'county': 9, 'category': 10, 'category_name': 11, 'vendor_number': 12, 'vendor_name': 13, 'item_number': 14, 'item_description': 15, 'pack': 16, 'bottle_volume_ml': 17, 'state_bottle_cost': 18, 'state_bottle_retail': 19, 'bottles_sold': 20, 'sale_dollars': 21, 'volume_sold_liters': 22, 'volume_sold_gallons': 23})\n",
      "Row(('INV-40509900020', datetime.date(2021, 9, 29), '3928', \"SMOKIN' JOE'S #12 TOBACCO AND LIQUOR OUTLET\", '465 HWY 965 UNIT G', 'NORTH LIBERTY', '52317.0', 'POINT(-91.60759 41.739524)', '52', 'JOHNSON', '1082100.0', 'IMPORTED CORDIALS & LIQUEURS', '192', 'MAST-JAGERMEISTER US, INC', '65259', 'JAGERMEISTER LIQUEUR MINI MEISTERS', 12, 20, 4.93, 7.4, 1, 7.4, 0.02, 0.0), {'invoice_and_item_number': 0, 'date': 1, 'store_number': 2, 'store_name': 3, 'address': 4, 'city': 5, 'zip_code': 6, 'store_location': 7, 'county_number': 8, 'county': 9, 'category': 10, 'category_name': 11, 'vendor_number': 12, 'vendor_name': 13, 'item_number': 14, 'item_description': 15, 'pack': 16, 'bottle_volume_ml': 17, 'state_bottle_cost': 18, 'state_bottle_retail': 19, 'bottles_sold': 20, 'sale_dollars': 21, 'volume_sold_liters': 22, 'volume_sold_gallons': 23})\n",
      "Row(('INV-30364300147', datetime.date(2020, 9, 18), '2551', 'HY-VEE FOOD STORE / CHARITON', '2001 WEST COURT', 'CHARITON', '50049.0', None, '59', 'LUCAS', '1082000.0', 'IMPORTED CORDIALS & LIQUEURS', '192.0', 'MAST-JAGERMEISTER US, INC', '65259', 'JAGERMEISTER LIQUEUR MINI MEISTERS', 12, 20, 4.93, 7.4, 1, 7.4, 0.02, 0.0), {'invoice_and_item_number': 0, 'date': 1, 'store_number': 2, 'store_name': 3, 'address': 4, 'city': 5, 'zip_code': 6, 'store_location': 7, 'county_number': 8, 'county': 9, 'category': 10, 'category_name': 11, 'vendor_number': 12, 'vendor_name': 13, 'item_number': 14, 'item_description': 15, 'pack': 16, 'bottle_volume_ml': 17, 'state_bottle_cost': 18, 'state_bottle_retail': 19, 'bottles_sold': 20, 'sale_dollars': 21, 'volume_sold_liters': 22, 'volume_sold_gallons': 23})\n",
      "Row(('INV-16490500001', datetime.date(2018, 12, 20), '2648', 'HY-VEE #4 / WDM', '555 S 51ST ST', 'WEST DES MOINES', '50265', 'POINT(-93.773557 41.561197)', '77', 'POLK', '1701100.0', 'TEMPORARY & SPECIALTY PACKAGES', '420.0', 'MOET HENNESSY USA', '287', 'ARDBEG 10YR WAREHOUSE GIFT BOX', 6, 750, 26.49, 39.74, 24, 953.76, 18.0, 4.75), {'invoice_and_item_number': 0, 'date': 1, 'store_number': 2, 'store_name': 3, 'address': 4, 'city': 5, 'zip_code': 6, 'store_location': 7, 'county_number': 8, 'county': 9, 'category': 10, 'category_name': 11, 'vendor_number': 12, 'vendor_name': 13, 'item_number': 14, 'item_description': 15, 'pack': 16, 'bottle_volume_ml': 17, 'state_bottle_cost': 18, 'state_bottle_retail': 19, 'bottles_sold': 20, 'sale_dollars': 21, 'volume_sold_liters': 22, 'volume_sold_gallons': 23})\n",
      "Row(('INV-24570200001', datetime.date(2020, 1, 15), '5230', 'POINT LIQUOR & TOBACCO', '3221, CENTER POINT RD NE', 'CEDAR RAPIDS', '52402.0', 'POINT(-91.663629 42.01133)', '57', 'LINN', '1701100.0', 'TEMPORARY & SPECIALTY PACKAGES', '85.0', 'BROWN FORMAN CORP.', '470', 'JACK DANIELS W/GLASS', 6, 750, 15.57, 23.36, 24, 560.64, 18.0, 4.75), {'invoice_and_item_number': 0, 'date': 1, 'store_number': 2, 'store_name': 3, 'address': 4, 'city': 5, 'zip_code': 6, 'store_location': 7, 'county_number': 8, 'county': 9, 'category': 10, 'category_name': 11, 'vendor_number': 12, 'vendor_name': 13, 'item_number': 14, 'item_description': 15, 'pack': 16, 'bottle_volume_ml': 17, 'state_bottle_cost': 18, 'state_bottle_retail': 19, 'bottles_sold': 20, 'sale_dollars': 21, 'volume_sold_liters': 22, 'volume_sold_gallons': 23})\n",
      "Row(('INV-23067600012', datetime.date(2019, 11, 6), '3629', 'WAL-MART 1965 / COUNCIL BLUFFS', '3200 MANAWA DR', 'COUNCIL BLUFFS', '51503.0', None, '78', 'POTTAWATTAMIE', '1701100.0', 'TEMPORARY & SPECIALTY PACKAGES', '305.0', 'MHW LTD', '614', 'RUMCHATA W/2 COCKTAIL GLASSES', 6, 750, 13.0, 19.5, 24, 468.0, 18.0, 4.75), {'invoice_and_item_number': 0, 'date': 1, 'store_number': 2, 'store_name': 3, 'address': 4, 'city': 5, 'zip_code': 6, 'store_location': 7, 'county_number': 8, 'county': 9, 'category': 10, 'category_name': 11, 'vendor_number': 12, 'vendor_name': 13, 'item_number': 14, 'item_description': 15, 'pack': 16, 'bottle_volume_ml': 17, 'state_bottle_cost': 18, 'state_bottle_retail': 19, 'bottles_sold': 20, 'sale_dollars': 21, 'volume_sold_liters': 22, 'volume_sold_gallons': 23})\n",
      "Row(('INV-16380300002', datetime.date(2018, 12, 18), '3644', 'WAL-MART 2764 / ALTOONA', '3501  8TH ST SW', 'ALTOONA', '50009', 'POINT(-93.505276 41.644195)', '77', 'POLK', '1701100.0', 'TEMPORARY & SPECIALTY PACKAGES', '260.0', 'DIAGEO AMERICAS', '1876', 'KETEL ONE W/GLASSES', 6, 750, 12.5, 18.75, 24, 450.0, 18.0, 4.75), {'invoice_and_item_number': 0, 'date': 1, 'store_number': 2, 'store_name': 3, 'address': 4, 'city': 5, 'zip_code': 6, 'store_location': 7, 'county_number': 8, 'county': 9, 'category': 10, 'category_name': 11, 'vendor_number': 12, 'vendor_name': 13, 'item_number': 14, 'item_description': 15, 'pack': 16, 'bottle_volume_ml': 17, 'state_bottle_cost': 18, 'state_bottle_retail': 19, 'bottles_sold': 20, 'sale_dollars': 21, 'volume_sold_liters': 22, 'volume_sold_gallons': 23})\n",
      "Row(('INV-23643600002', datetime.date(2019, 12, 3), '5054', \"CORK 'N BOTTLE / MANCHESTER\", '900 E MAIN ST', 'MANCHESTER', '52087.0', 'POINT(-91.445038 42.484073)', '28', 'DELAWARE', '1701100.0', 'TEMPORARY & SPECIALTY PACKAGES', '259.0', 'HEAVEN HILL BRANDS', '2229', 'CHRISTIAN BROS HOLIDAY NOG', 12, 750, 4.47, 6.71, 24, 161.04, 18.0, 4.75), {'invoice_and_item_number': 0, 'date': 1, 'store_number': 2, 'store_name': 3, 'address': 4, 'city': 5, 'zip_code': 6, 'store_location': 7, 'county_number': 8, 'county': 9, 'category': 10, 'category_name': 11, 'vendor_number': 12, 'vendor_name': 13, 'item_number': 14, 'item_description': 15, 'pack': 16, 'bottle_volume_ml': 17, 'state_bottle_cost': 18, 'state_bottle_retail': 19, 'bottles_sold': 20, 'sale_dollars': 21, 'volume_sold_liters': 22, 'volume_sold_gallons': 23})\n",
      "Row(('INV-40845300013', datetime.date(2021, 10, 11), '4982', 'KIMMES COUNTRY STORE ALTA 05', '101 E  HWY 7', 'ALTA', '51002.0', 'POINT(-95.303734 42.675619)', '11', 'BUENA VISTA', '1701100.0', 'TEMPORARY & SPECIALTY PACKAGES', '259.0', 'HEAVEN HILL BRANDS', '2229', 'CHRISTIAN BROS HOLIDAY NOG', 12, 750, 4.5, 6.75, 24, 162.0, 18.0, 4.75), {'invoice_and_item_number': 0, 'date': 1, 'store_number': 2, 'store_name': 3, 'address': 4, 'city': 5, 'zip_code': 6, 'store_location': 7, 'county_number': 8, 'county': 9, 'category': 10, 'category_name': 11, 'vendor_number': 12, 'vendor_name': 13, 'item_number': 14, 'item_description': 15, 'pack': 16, 'bottle_volume_ml': 17, 'state_bottle_cost': 18, 'state_bottle_retail': 19, 'bottles_sold': 20, 'sale_dollars': 21, 'volume_sold_liters': 22, 'volume_sold_gallons': 23})\n",
      "Row(('INV-42371900001', datetime.date(2021, 11, 26), '2524', 'HY-VEE FOOD STORE / DUBUQUE', '3500 DODGE ST', 'DUBUQUE', '52001.0', None, '31', 'DUBUQUE', '1701100.0', 'TEMPORARY & SPECIALTY PACKAGES', '259', 'HEAVEN HILL BRANDS', '2229', 'CHRISTIAN BROS HOLIDAY NOG', 12, 750, 4.5, 6.75, 24, 162.0, 18.0, 4.75), {'invoice_and_item_number': 0, 'date': 1, 'store_number': 2, 'store_name': 3, 'address': 4, 'city': 5, 'zip_code': 6, 'store_location': 7, 'county_number': 8, 'county': 9, 'category': 10, 'category_name': 11, 'vendor_number': 12, 'vendor_name': 13, 'item_number': 14, 'item_description': 15, 'pack': 16, 'bottle_volume_ml': 17, 'state_bottle_cost': 18, 'state_bottle_retail': 19, 'bottles_sold': 20, 'sale_dollars': 21, 'volume_sold_liters': 22, 'volume_sold_gallons': 23})\n"
     ]
    }
   ],
   "source": [
    "query = f\"\"\"SELECT * FROM {project_id}.{dataset_id}.{table_id} LIMIT 10\"\"\"\n",
    "query_job = client.query(query)\n",
    "results = query_job.result()\n",
    "\n",
    "for row in results:\n",
    "    print(row)"
   ]
  }
 ],
 "metadata": {
  "kernelspec": {
   "display_name": "pyspark_env",
   "language": "python",
   "name": "python3"
  },
  "language_info": {
   "codemirror_mode": {
    "name": "ipython",
    "version": 3
   },
   "file_extension": ".py",
   "mimetype": "text/x-python",
   "name": "python",
   "nbconvert_exporter": "python",
   "pygments_lexer": "ipython3",
   "version": "3.10.9"
  },
  "orig_nbformat": 4
 },
 "nbformat": 4,
 "nbformat_minor": 2
}
