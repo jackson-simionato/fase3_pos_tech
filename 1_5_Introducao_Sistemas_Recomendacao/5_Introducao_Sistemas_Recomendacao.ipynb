{
 "cells": [
  {
   "cell_type": "code",
   "execution_count": 1,
   "metadata": {},
   "outputs": [],
   "source": [
    "from scipy import stats\n",
    "import numpy as np"
   ]
  },
  {
   "cell_type": "code",
   "execution_count": 2,
   "metadata": {},
   "outputs": [
    {
     "name": "stdout",
     "output_type": "stream",
     "text": [
      "[[ 8  0  3  4  6]\n",
      " [ 5  6  1  8  9]\n",
      " [ 8  0  0  5 10]]\n"
     ]
    }
   ],
   "source": [
    "matrix = np.array([[8,0,3,4,6], [5,6,1,8,9], [8,0,0,5,10]])\n",
    "\n",
    "novoUser = [8,0,2,3,0]\n",
    "nao_assistidos = [0,1,0,0,1]\n",
    "\n",
    "nome_filmes = ['Round 6','A Invocação do Mal','9 Desconhecidos', 'You', 'La Casa de Papel']\n",
    "\n",
    "print(matrix)"
   ]
  },
  {
   "cell_type": "code",
   "execution_count": 3,
   "metadata": {},
   "outputs": [
    {
     "name": "stdout",
     "output_type": "stream",
     "text": [
      "[0, 0, 0]\n"
     ]
    }
   ],
   "source": [
    "similarity = [0] * 3\n",
    "print(similarity)"
   ]
  },
  {
   "cell_type": "code",
   "execution_count": 17,
   "metadata": {},
   "outputs": [
    {
     "name": "stdout",
     "output_type": "stream",
     "text": [
      "user: 0\n",
      "Dados do usuário: [8 0 3 4 6]\n",
      "[8, 3, 4] [8, 2, 3]\n",
      "user: 1\n",
      "Dados do usuário: [5 6 1 8 9]\n",
      "[5, 1, 8] [8, 2, 3]\n",
      "user: 2\n",
      "Dados do usuário: [ 8  0  0  5 10]\n",
      "[8, 0, 5] [8, 2, 3]\n",
      "\n",
      "[0.9994237971287663, 0.236215438142997, 0.8723686098443353]\n"
     ]
    }
   ],
   "source": [
    "#criando um vetor com 3 posições e preencher com zero (vamos colocar os valores da similaridade entre o novoUser e cada outro usuário da matriz )\n",
    "similarity =[0] * 3\n",
    "\n",
    "#para cada usuário no sistema...\n",
    "for i in range(0,3):\n",
    "  #para verificar o processo\n",
    "  print('user:', i)\n",
    "\n",
    "  #vamos pegar os dados desse usuário\n",
    "  temp = matrix[i,:]\n",
    "\n",
    "  print(f'Dados do usuário: {temp}')\n",
    "\n",
    "  #MAS QUEREMOS APENAS COMPARAR OS DADOS QUE O NOVO USER ASSISTIU (OU SEJA... QUE NOVOUSER != 0)\n",
    "  tempUser= [t for n,t in zip(novoUser,temp) if n != 0]\n",
    "  tempNovoUser= [n for n in novoUser if n != 0]\n",
    "  \n",
    "  print(tempUser, tempNovoUser)\n",
    "\n",
    "  #vamos usar a biblioteca scipy.stats que ja calcula o pearson!!!\n",
    "  similarity[i] = stats.pearsonr(tempUser,tempNovoUser)[0] #a função retorna dois valores e o primeiro é o coefieciente de pearson\n",
    "print()\n",
    "\n",
    "print(similarity)"
   ]
  },
  {
   "cell_type": "code",
   "execution_count": 18,
   "metadata": {},
   "outputs": [
    {
     "name": "stdout",
     "output_type": "stream",
     "text": [
      "[[0. 0. 0. 0. 0.]\n",
      " [0. 0. 0. 0. 0.]\n",
      " [0. 0. 0. 0. 0.]]\n"
     ]
    }
   ],
   "source": [
    "pesos_nota = np.zeros((3,5))\n",
    "print(pesos_nota)"
   ]
  },
  {
   "cell_type": "code",
   "execution_count": 20,
   "metadata": {},
   "outputs": [
    {
     "name": "stdout",
     "output_type": "stream",
     "text": [
      "nota_peso[ 0 ][ 0 ] =  0  *  8  *  0.9994237971287663\n",
      "0.0\n",
      "nota_peso[ 0 ][ 1 ] =  1  *  0  *  0.9994237971287663\n",
      "0.0\n",
      "nota_peso[ 0 ][ 2 ] =  0  *  3  *  0.9994237971287663\n",
      "0.0\n",
      "nota_peso[ 0 ][ 3 ] =  0  *  4  *  0.9994237971287663\n",
      "0.0\n",
      "nota_peso[ 0 ][ 4 ] =  1  *  6  *  0.9994237971287663\n",
      "5.996542782772598\n",
      "nota_peso[ 1 ][ 0 ] =  0  *  5  *  0.236215438142997\n",
      "0.0\n",
      "nota_peso[ 1 ][ 1 ] =  1  *  6  *  0.236215438142997\n",
      "1.417292628857982\n",
      "nota_peso[ 1 ][ 2 ] =  0  *  1  *  0.236215438142997\n",
      "0.0\n",
      "nota_peso[ 1 ][ 3 ] =  0  *  8  *  0.236215438142997\n",
      "0.0\n",
      "nota_peso[ 1 ][ 4 ] =  1  *  9  *  0.236215438142997\n",
      "2.125938943286973\n",
      "nota_peso[ 2 ][ 0 ] =  0  *  8  *  0.8723686098443353\n",
      "0.0\n",
      "nota_peso[ 2 ][ 1 ] =  1  *  0  *  0.8723686098443353\n",
      "0.0\n",
      "nota_peso[ 2 ][ 2 ] =  0  *  0  *  0.8723686098443353\n",
      "0.0\n",
      "nota_peso[ 2 ][ 3 ] =  0  *  5  *  0.8723686098443353\n",
      "0.0\n",
      "nota_peso[ 2 ][ 4 ] =  1  *  10  *  0.8723686098443353\n",
      "8.723686098443352\n",
      "[[0.         0.         0.         0.         5.99654278]\n",
      " [0.         1.41729263 0.         0.         2.12593894]\n",
      " [0.         0.         0.         0.         8.7236861 ]]\n"
     ]
    }
   ],
   "source": [
    "pesos_nota = np.zeros((3,5))\n",
    "\n",
    "for nUser in range(3):\n",
    "  for nFilme in range(5):\n",
    "    #print('nota_peso[',nUser, '][',nFilme, '] = , nao_assistidos[',nFilme, '], * ,matrix[',nUser,'][',nFilme, '], * similarity[',nUser,']')\n",
    "    print('nota_peso[',nUser, '][',nFilme, '] = ', nao_assistidos[nFilme], ' * ' ,matrix[nUser][nFilme], ' * ', similarity[nUser])\n",
    "    pesos_nota[nUser][nFilme] = nao_assistidos[nFilme] * matrix[nUser][nFilme] * similarity[nUser]\n",
    "    print(nao_assistidos[nFilme] * matrix[nUser][nFilme] * similarity[nUser])\n",
    "\n",
    "print(pesos_nota)"
   ]
  },
  {
   "cell_type": "code",
   "execution_count": 22,
   "metadata": {},
   "outputs": [
    {
     "name": "stdout",
     "output_type": "stream",
     "text": [
      "[ 0.          1.41729263  0.          0.         16.84616782]\n"
     ]
    }
   ],
   "source": [
    "notas_acumuladas = np.sum(pesos_nota.T,axis=1)\n",
    "print(notas_acumuladas)"
   ]
  },
  {
   "cell_type": "code",
   "execution_count": 29,
   "metadata": {},
   "outputs": [
    {
     "name": "stdout",
     "output_type": "stream",
     "text": [
      "[[0. 0. 0. 0. 1.]\n",
      " [0. 1. 0. 0. 1.]\n",
      " [0. 0. 0. 0. 1.]]\n",
      "\n",
      "\n",
      "[[0.         0.         0.         0.         0.9994238 ]\n",
      " [0.         0.23621544 0.         0.         0.23621544]\n",
      " [0.         0.         0.         0.         0.87236861]]\n",
      "\n",
      "\n",
      "[0.         0.23621544 0.         0.         2.10800785]\n"
     ]
    }
   ],
   "source": [
    "temp_peso = pesos_nota\n",
    "temp_peso[pesos_nota > 0] = 1\n",
    "print(temp_peso)\n",
    "\n",
    "temp_similaridade = np.zeros((3,5))\n",
    "\n",
    "\n",
    "for nUser in range(3):\n",
    "  for nFilme in range(5):\n",
    "    temp_similaridade[nUser][nFilme] = temp_peso[nUser][nFilme] * similarity[nUser]\n",
    "\n",
    "print('\\n')\n",
    "print(temp_similaridade)\n",
    "\n",
    "print('\\n')\n",
    "similaridade_acumulada = np.sum(temp_similaridade.T,axis=1)\n",
    "print(similaridade_acumulada)"
   ]
  },
  {
   "cell_type": "code",
   "execution_count": 30,
   "metadata": {},
   "outputs": [
    {
     "name": "stdout",
     "output_type": "stream",
     "text": [
      "5.999999999999999\n",
      "7.991510972567143\n",
      "[0, 5.999999999999999, 0, 0, 7.991510972567143]\n"
     ]
    }
   ],
   "source": [
    "nota_final =[0] * 5\n",
    "\n",
    "#agora a normalização para cada filme com nota acumulada, eu normalizo pela soma dos pesos (similaridade)\n",
    "for nFilme in range(5):\n",
    "  if(similaridade_acumulada[nFilme] > 0):\n",
    "    nota_final[nFilme] =  notas_acumuladas[nFilme] / similaridade_acumulada[nFilme]\n",
    "    print(notas_acumuladas[nFilme] / similaridade_acumulada[nFilme])\n",
    "  else:\n",
    "    nota_final[nFilme] = 0\n",
    "\n",
    "print(nota_final)"
   ]
  },
  {
   "cell_type": "code",
   "execution_count": 37,
   "metadata": {},
   "outputs": [
    {
     "name": "stdout",
     "output_type": "stream",
     "text": [
      "[4, 1]\n",
      "La Casa de Papel nota:  7.991510972567143\n",
      "A Invocação do Mal nota:  5.999999999999999\n"
     ]
    }
   ],
   "source": [
    "nAssistidos = sum(nao_assistidos)\n",
    "\n",
    "notasOrdenadasIndex = sorted(range(len(nota_final)),key=nota_final.__getitem__)[::-1][0:nAssistidos]\n",
    "print(notasOrdenadasIndex)\n",
    "\n",
    "for i in notasOrdenadasIndex:\n",
    "  print(nome_filmes[i], 'nota: ', nota_final[i])"
   ]
  },
  {
   "cell_type": "code",
   "execution_count": 36,
   "metadata": {},
   "outputs": [
    {
     "name": "stdout",
     "output_type": "stream",
     "text": [
      "2\n"
     ]
    },
    {
     "data": {
      "text/plain": [
       "[4, 1]"
      ]
     },
     "execution_count": 36,
     "metadata": {},
     "output_type": "execute_result"
    }
   ],
   "source": [
    "nAssistidos = sum(nao_assistidos)\n",
    "print(nAssistidos)\n",
    "\n",
    "sorted(range(len(nota_final)),key=nota_final.__getitem__)[::-1][0:nAssistidos]"
   ]
  }
 ],
 "metadata": {
  "kernelspec": {
   "display_name": "gis",
   "language": "python",
   "name": "python3"
  },
  "language_info": {
   "codemirror_mode": {
    "name": "ipython",
    "version": 3
   },
   "file_extension": ".py",
   "mimetype": "text/x-python",
   "name": "python",
   "nbconvert_exporter": "python",
   "pygments_lexer": "ipython3",
   "version": "3.10.9"
  },
  "orig_nbformat": 4
 },
 "nbformat": 4,
 "nbformat_minor": 2
}
