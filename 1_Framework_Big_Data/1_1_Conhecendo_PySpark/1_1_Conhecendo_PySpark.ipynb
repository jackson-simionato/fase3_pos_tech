{
 "cells": [
  {
   "cell_type": "markdown",
   "metadata": {},
   "source": [
    "# Importação de pacotes"
   ]
  },
  {
   "cell_type": "code",
   "execution_count": 5,
   "metadata": {},
   "outputs": [],
   "source": [
    "from pyspark.sql import Row,DataFrame\n",
    "from pyspark.sql.types import StringType, StructField, StructType, IntegerType\n",
    "from pyspark.sql.functions import col, expr, lit,substring,concat, concat_ws, when, coalesce\n",
    "from pyspark.sql import functions as functions\n",
    "from functools import reduce\n",
    "\n",
    "import findspark\n",
    "findspark.init()\n",
    "from pyspark.sql import SparkSession\n",
    "spark = SparkSession.builder.master('local[*]').getOrCreate()"
   ]
  },
  {
   "cell_type": "code",
   "execution_count": 6,
   "metadata": {},
   "outputs": [
    {
     "data": {
      "text/html": [
       "\n",
       "            <div>\n",
       "                <p><b>SparkSession - in-memory</b></p>\n",
       "                \n",
       "        <div>\n",
       "            <p><b>SparkContext</b></p>\n",
       "\n",
       "            <p><a href=\"http://GAIVOTA-0335:4040\">Spark UI</a></p>\n",
       "\n",
       "            <dl>\n",
       "              <dt>Version</dt>\n",
       "                <dd><code>v3.3.1</code></dd>\n",
       "              <dt>Master</dt>\n",
       "                <dd><code>local[*]</code></dd>\n",
       "              <dt>AppName</dt>\n",
       "                <dd><code>pyspark-shell</code></dd>\n",
       "            </dl>\n",
       "        </div>\n",
       "        \n",
       "            </div>\n",
       "        "
      ],
      "text/plain": [
       "<pyspark.sql.session.SparkSession at 0x1f3e3ec3a88>"
      ]
     },
     "execution_count": 6,
     "metadata": {},
     "output_type": "execute_result"
    }
   ],
   "source": [
    "spark"
   ]
  },
  {
   "cell_type": "markdown",
   "metadata": {},
   "source": [
    "# Leitura dos dados"
   ]
  },
  {
   "cell_type": "code",
   "execution_count": 7,
   "metadata": {},
   "outputs": [],
   "source": [
    "dados_path = './banklist.csv'\n",
    "\n",
    "dados = spark.read.csv(dados_path, sep=',', inferSchema=True, header=True)"
   ]
  },
  {
   "cell_type": "code",
   "execution_count": 9,
   "metadata": {},
   "outputs": [
    {
     "name": "stdout",
     "output_type": "stream",
     "text": [
      "Length: 553\n",
      "N cols: 7\n",
      "Columns: ['Bank Name', 'City', 'ST', 'CERT', 'Acquiring Institution', 'Closing Date', 'Updated Date']\n"
     ]
    }
   ],
   "source": [
    "print(f'Length: {dados.count()}')\n",
    "print(f'N cols: {len(dados.columns)}')\n",
    "print(f'Columns: {dados.columns}')"
   ]
  },
  {
   "cell_type": "code",
   "execution_count": 10,
   "metadata": {},
   "outputs": [
    {
     "name": "stdout",
     "output_type": "stream",
     "text": [
      "+--------------------+------------------+---+-----+---------------------+------------+------------+\n",
      "|           Bank Name|              City| ST| CERT|Acquiring Institution|Closing Date|Updated Date|\n",
      "+--------------------+------------------+---+-----+---------------------+------------+------------+\n",
      "| Fayette County Bank|        Saint Elmo| IL| 1802| United Fidelity B...|   26-May-17|   26-Jul-17|\n",
      "|Guaranty Bank, (d...|         Milwaukee| WI|30003| First-Citizens Ba...|    5-May-17|   26-Jul-17|\n",
      "|      First NBC Bank|       New Orleans| LA|58302|         Whitney Bank|   28-Apr-17|   26-Jul-17|\n",
      "|       Proficio Bank|Cottonwood Heights| UT|35495|    Cache Valley Bank|    3-Mar-17|   18-May-17|\n",
      "|Seaway Bank and T...|           Chicago| IL|19328|  State Bank of Texas|   27-Jan-17|   18-May-17|\n",
      "+--------------------+------------------+---+-----+---------------------+------------+------------+\n",
      "only showing top 5 rows\n",
      "\n"
     ]
    }
   ],
   "source": [
    "dados.show(5)"
   ]
  },
  {
   "cell_type": "markdown",
   "metadata": {},
   "source": [
    "# SQL + Spark"
   ]
  },
  {
   "cell_type": "code",
   "execution_count": 14,
   "metadata": {},
   "outputs": [
    {
     "name": "stdout",
     "output_type": "stream",
     "text": [
      "+--------------------+------------------+------------+\n",
      "|           Bank Name|              City|Closing Date|\n",
      "+--------------------+------------------+------------+\n",
      "| Fayette County Bank|        Saint Elmo|   26-May-17|\n",
      "|Guaranty Bank, (d...|         Milwaukee|    5-May-17|\n",
      "|      First NBC Bank|       New Orleans|   28-Apr-17|\n",
      "|       Proficio Bank|Cottonwood Heights|    3-Mar-17|\n",
      "|Seaway Bank and T...|           Chicago|   27-Jan-17|\n",
      "|Harvest Community...|        Pennsville|   13-Jan-17|\n",
      "|         Allied Bank|          Mulberry|   23-Sep-16|\n",
      "|The Woodbury Bank...|          Woodbury|   19-Aug-16|\n",
      "|First CornerStone...|   King of Prussia|    6-May-16|\n",
      "|  Trust Company Bank|           Memphis|   29-Apr-16|\n",
      "|North Milwaukee S...|         Milwaukee|   11-Mar-16|\n",
      "|Hometown National...|          Longview|    2-Oct-15|\n",
      "| The Bank of Georgia|    Peachtree City|    2-Oct-15|\n",
      "|        Premier Bank|            Denver|   10-Jul-15|\n",
      "|      Edgebrook Bank|           Chicago|    8-May-15|\n",
      "|          Doral Bank|          San Juan|   27-Feb-15|\n",
      "|Capitol City Bank...|           Atlanta|   13-Feb-15|\n",
      "|Highland Communit...|           Chicago|   23-Jan-15|\n",
      "|First National Ba...|         Crestview|   16-Jan-15|\n",
      "|  Northern Star Bank|           Mankato|   19-Dec-14|\n",
      "+--------------------+------------------+------------+\n",
      "only showing top 20 rows\n",
      "\n"
     ]
    }
   ],
   "source": [
    "dados.createOrReplaceTempView('banklist')\n",
    "\n",
    "df_check = spark.sql('''select `Bank Name`, City, `Closing Date` from banklist''')\n",
    "df_check.show()"
   ]
  },
  {
   "cell_type": "markdown",
   "metadata": {},
   "source": [
    "# Operações básicas"
   ]
  },
  {
   "cell_type": "code",
   "execution_count": 19,
   "metadata": {},
   "outputs": [
    {
     "name": "stdout",
     "output_type": "stream",
     "text": [
      "+-------+--------------------+-------+----+-----------------+---------------------+------------+------------+\n",
      "|summary|           Bank Name|   City|  ST|             CERT|Acquiring Institution|Closing Date|Updated Date|\n",
      "+-------+--------------------+-------+----+-----------------+---------------------+------------+------------+\n",
      "|  count|                 553|    553| 553|              553|                  553|         553|         553|\n",
      "|   mean|                null|   null|null|31729.65280289331|                 null|        null|        null|\n",
      "| stddev|                null|   null|null|16420.59489355429|                 null|        null|        null|\n",
      "|    min|1st American Stat...|Acworth|  AL|               91|      1st United Bank|    1-Aug-08|    1-Aug-13|\n",
      "|    max|               ebank|Wyoming|  WY|            58701|  Your Community Bank|    9-Sep-11|    9-Sep-12|\n",
      "+-------+--------------------+-------+----+-----------------+---------------------+------------+------------+\n",
      "\n"
     ]
    }
   ],
   "source": [
    "dados.describe().show()"
   ]
  },
  {
   "cell_type": "code",
   "execution_count": 20,
   "metadata": {},
   "outputs": [
    {
     "name": "stdout",
     "output_type": "stream",
     "text": [
      "+-------+-----------------+----+\n",
      "|summary|             CERT|  ST|\n",
      "+-------+-----------------+----+\n",
      "|  count|              553| 553|\n",
      "|   mean|31729.65280289331|null|\n",
      "| stddev|16420.59489355429|null|\n",
      "|    min|               91|  AL|\n",
      "|    max|            58701|  WY|\n",
      "+-------+-----------------+----+\n",
      "\n"
     ]
    }
   ],
   "source": [
    "dados.describe('CERT','ST').show()"
   ]
  },
  {
   "cell_type": "code",
   "execution_count": 24,
   "metadata": {},
   "outputs": [
    {
     "name": "stdout",
     "output_type": "stream",
     "text": [
      "[('Bank Name', 'string'), ('City', 'string'), ('ST', 'string'), ('CERT', 'int'), ('Acquiring Institution', 'string'), ('Closing Date', 'string'), ('Updated Date', 'string')]\n",
      "root\n",
      " |-- Bank Name: string (nullable = true)\n",
      " |-- City: string (nullable = true)\n",
      " |-- ST: string (nullable = true)\n",
      " |-- CERT: integer (nullable = true)\n",
      " |-- Acquiring Institution: string (nullable = true)\n",
      " |-- Closing Date: string (nullable = true)\n",
      " |-- Updated Date: string (nullable = true)\n",
      "\n",
      "None\n"
     ]
    }
   ],
   "source": [
    "print(dados.dtypes)\n",
    "print(dados.printSchema())"
   ]
  },
  {
   "cell_type": "markdown",
   "metadata": {},
   "source": [
    "# Remover duplicados"
   ]
  },
  {
   "cell_type": "code",
   "execution_count": 26,
   "metadata": {},
   "outputs": [
    {
     "name": "stdout",
     "output_type": "stream",
     "text": [
      "Length: 553\n",
      "N cols: 7\n"
     ]
    }
   ],
   "source": [
    "dados = dados.dropDuplicates()\n",
    "\n",
    "print(f'Length: {dados.count()}')\n",
    "print(f'N cols: {len(dados.columns)}')"
   ]
  },
  {
   "cell_type": "markdown",
   "metadata": {},
   "source": [
    "Não há dados duplicados"
   ]
  },
  {
   "cell_type": "markdown",
   "metadata": {},
   "source": [
    "# Seleção de colunas"
   ]
  },
  {
   "cell_type": "code",
   "execution_count": 30,
   "metadata": {},
   "outputs": [
    {
     "name": "stdout",
     "output_type": "stream",
     "text": [
      "+--------------------+-----+\n",
      "|           Bank Name| CERT|\n",
      "+--------------------+-----+\n",
      "|              InBank|20203|\n",
      "|       Bank of Alamo| 9961|\n",
      "|First Community B...|34943|\n",
      "|The National Repu...|  916|\n",
      "|           NOVA Bank|27148|\n",
      "+--------------------+-----+\n",
      "only showing top 5 rows\n",
      "\n"
     ]
    }
   ],
   "source": [
    "select = dados.select('Bank Name', 'CERT')\n",
    "select.show(5)"
   ]
  },
  {
   "cell_type": "code",
   "execution_count": 29,
   "metadata": {},
   "outputs": [
    {
     "name": "stdout",
     "output_type": "stream",
     "text": [
      "Length: 553\n",
      "N cols: 2\n"
     ]
    }
   ],
   "source": [
    "print(f'Length: {select.count()}')\n",
    "print(f'N cols: {len(select.columns)}')"
   ]
  },
  {
   "cell_type": "markdown",
   "metadata": {},
   "source": [
    "# Renomear colunas"
   ]
  },
  {
   "cell_type": "code",
   "execution_count": 33,
   "metadata": {},
   "outputs": [],
   "source": [
    "renamed = dados \\\n",
    "    .withColumnRenamed('Bank Name', 'bank_name')\\\n",
    "    .withColumnRenamed('Acquiring Institution', 'acq_institution')\\\n",
    "    .withColumnRenamed('Closing Date', 'closing_date')\\\n",
    "    .withColumnRenamed('Update Date', 'update_date')\\\n",
    "    .withColumnRenamed('ST', 'state')\\\n",
    "    .withColumnRenamed('CERT', 'cert')\\\n",
    "    .withColumnRenamed('City', 'cty')"
   ]
  },
  {
   "cell_type": "code",
   "execution_count": 34,
   "metadata": {},
   "outputs": [
    {
     "name": "stdout",
     "output_type": "stream",
     "text": [
      "+--------------------+----------+-----+-----+--------------------+------------+------------+\n",
      "|           bank_name|       cty|state| cert|     acq_institution|closing_date|Updated Date|\n",
      "+--------------------+----------+-----+-----+--------------------+------------+------------+\n",
      "|              InBank|Oak Forest|   IL|20203|MB Financial Bank...|    4-Sep-09|   17-Oct-15|\n",
      "|       Bank of Alamo|     Alamo|   TN| 9961|         No Acquirer|    8-Nov-02|   18-Mar-05|\n",
      "|First Community B...|Fort Myers|   FL|34943|             C1 Bank|    2-Aug-13|    9-Feb-17|\n",
      "|The National Repu...|   Chicago|   IL|  916| State Bank of Texas|   24-Oct-14|    6-Jan-16|\n",
      "|           NOVA Bank|    Berwyn|   PA|27148|         No Acquirer|   26-Oct-12|   24-Jan-13|\n",
      "+--------------------+----------+-----+-----+--------------------+------------+------------+\n",
      "only showing top 5 rows\n",
      "\n"
     ]
    }
   ],
   "source": [
    "renamed.show(5)"
   ]
  }
 ],
 "metadata": {
  "kernelspec": {
   "display_name": "gis",
   "language": "python",
   "name": "python3"
  },
  "language_info": {
   "codemirror_mode": {
    "name": "ipython",
    "version": 3
   },
   "file_extension": ".py",
   "mimetype": "text/x-python",
   "name": "python",
   "nbconvert_exporter": "python",
   "pygments_lexer": "ipython3",
   "version": "3.7.13"
  },
  "orig_nbformat": 4
 },
 "nbformat": 4,
 "nbformat_minor": 2
}
