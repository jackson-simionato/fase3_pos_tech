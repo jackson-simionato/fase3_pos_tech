{
 "cells": [
  {
   "cell_type": "markdown",
   "metadata": {},
   "source": [
    "# Importação de pacotes"
   ]
  },
  {
   "cell_type": "code",
   "execution_count": 1,
   "metadata": {},
   "outputs": [],
   "source": [
    "from pyspark.sql import Row,DataFrame\n",
    "from pyspark.sql.types import StringType, StructField, StructType, IntegerType\n",
    "from pyspark.sql.functions import col, expr, lit,substring,concat, concat_ws, when, coalesce\n",
    "from pyspark.sql import functions as functions\n",
    "from functools import reduce\n",
    "\n",
    "import findspark\n",
    "findspark.init()\n",
    "from pyspark.sql import SparkSession\n",
    "spark = SparkSession.builder.master('local[*]').getOrCreate()"
   ]
  },
  {
   "cell_type": "code",
   "execution_count": 2,
   "metadata": {},
   "outputs": [
    {
     "data": {
      "text/html": [
       "\n",
       "            <div>\n",
       "                <p><b>SparkSession - in-memory</b></p>\n",
       "                \n",
       "        <div>\n",
       "            <p><b>SparkContext</b></p>\n",
       "\n",
       "            <p><a href=\"http://GAIVOTA-0335:4040\">Spark UI</a></p>\n",
       "\n",
       "            <dl>\n",
       "              <dt>Version</dt>\n",
       "                <dd><code>v3.3.1</code></dd>\n",
       "              <dt>Master</dt>\n",
       "                <dd><code>local[*]</code></dd>\n",
       "              <dt>AppName</dt>\n",
       "                <dd><code>pyspark-shell</code></dd>\n",
       "            </dl>\n",
       "        </div>\n",
       "        \n",
       "            </div>\n",
       "        "
      ],
      "text/plain": [
       "<pyspark.sql.session.SparkSession at 0x2943ce28508>"
      ]
     },
     "execution_count": 2,
     "metadata": {},
     "output_type": "execute_result"
    }
   ],
   "source": [
    "spark"
   ]
  },
  {
   "cell_type": "markdown",
   "metadata": {},
   "source": [
    "# Leitura dos dados"
   ]
  },
  {
   "cell_type": "code",
   "execution_count": 3,
   "metadata": {},
   "outputs": [],
   "source": [
    "dados_path = './banklist.csv'\n",
    "\n",
    "dados = spark.read.csv(dados_path, sep=',', inferSchema=True, header=True)"
   ]
  },
  {
   "cell_type": "code",
   "execution_count": 4,
   "metadata": {},
   "outputs": [
    {
     "name": "stdout",
     "output_type": "stream",
     "text": [
      "Length: 553\n",
      "N cols: 7\n",
      "Columns: ['Bank Name', 'City', 'ST', 'CERT', 'Acquiring Institution', 'Closing Date', 'Updated Date']\n"
     ]
    }
   ],
   "source": [
    "print(f'Length: {dados.count()}')\n",
    "print(f'N cols: {len(dados.columns)}')\n",
    "print(f'Columns: {dados.columns}')"
   ]
  },
  {
   "cell_type": "code",
   "execution_count": 5,
   "metadata": {},
   "outputs": [
    {
     "name": "stdout",
     "output_type": "stream",
     "text": [
      "+--------------------+------------------+---+-----+---------------------+------------+------------+\n",
      "|           Bank Name|              City| ST| CERT|Acquiring Institution|Closing Date|Updated Date|\n",
      "+--------------------+------------------+---+-----+---------------------+------------+------------+\n",
      "| Fayette County Bank|        Saint Elmo| IL| 1802| United Fidelity B...|   26-May-17|   26-Jul-17|\n",
      "|Guaranty Bank, (d...|         Milwaukee| WI|30003| First-Citizens Ba...|    5-May-17|   26-Jul-17|\n",
      "|      First NBC Bank|       New Orleans| LA|58302|         Whitney Bank|   28-Apr-17|   26-Jul-17|\n",
      "|       Proficio Bank|Cottonwood Heights| UT|35495|    Cache Valley Bank|    3-Mar-17|   18-May-17|\n",
      "|Seaway Bank and T...|           Chicago| IL|19328|  State Bank of Texas|   27-Jan-17|   18-May-17|\n",
      "+--------------------+------------------+---+-----+---------------------+------------+------------+\n",
      "only showing top 5 rows\n",
      "\n"
     ]
    }
   ],
   "source": [
    "dados.show(5)"
   ]
  },
  {
   "cell_type": "markdown",
   "metadata": {},
   "source": [
    "# SQL + Spark"
   ]
  },
  {
   "cell_type": "code",
   "execution_count": 6,
   "metadata": {},
   "outputs": [
    {
     "name": "stdout",
     "output_type": "stream",
     "text": [
      "+--------------------+------------------+------------+\n",
      "|           Bank Name|              City|Closing Date|\n",
      "+--------------------+------------------+------------+\n",
      "| Fayette County Bank|        Saint Elmo|   26-May-17|\n",
      "|Guaranty Bank, (d...|         Milwaukee|    5-May-17|\n",
      "|      First NBC Bank|       New Orleans|   28-Apr-17|\n",
      "|       Proficio Bank|Cottonwood Heights|    3-Mar-17|\n",
      "|Seaway Bank and T...|           Chicago|   27-Jan-17|\n",
      "|Harvest Community...|        Pennsville|   13-Jan-17|\n",
      "|         Allied Bank|          Mulberry|   23-Sep-16|\n",
      "|The Woodbury Bank...|          Woodbury|   19-Aug-16|\n",
      "|First CornerStone...|   King of Prussia|    6-May-16|\n",
      "|  Trust Company Bank|           Memphis|   29-Apr-16|\n",
      "|North Milwaukee S...|         Milwaukee|   11-Mar-16|\n",
      "|Hometown National...|          Longview|    2-Oct-15|\n",
      "| The Bank of Georgia|    Peachtree City|    2-Oct-15|\n",
      "|        Premier Bank|            Denver|   10-Jul-15|\n",
      "|      Edgebrook Bank|           Chicago|    8-May-15|\n",
      "|          Doral Bank|          San Juan|   27-Feb-15|\n",
      "|Capitol City Bank...|           Atlanta|   13-Feb-15|\n",
      "|Highland Communit...|           Chicago|   23-Jan-15|\n",
      "|First National Ba...|         Crestview|   16-Jan-15|\n",
      "|  Northern Star Bank|           Mankato|   19-Dec-14|\n",
      "+--------------------+------------------+------------+\n",
      "only showing top 20 rows\n",
      "\n"
     ]
    }
   ],
   "source": [
    "dados.createOrReplaceTempView('banklist')\n",
    "\n",
    "df_check = spark.sql('''select `Bank Name`, City, `Closing Date` from banklist''')\n",
    "df_check.show()"
   ]
  },
  {
   "cell_type": "markdown",
   "metadata": {},
   "source": [
    "# Operações básicas"
   ]
  },
  {
   "cell_type": "code",
   "execution_count": 7,
   "metadata": {},
   "outputs": [
    {
     "name": "stdout",
     "output_type": "stream",
     "text": [
      "+-------+--------------------+-------+----+-----------------+---------------------+------------+------------+\n",
      "|summary|           Bank Name|   City|  ST|             CERT|Acquiring Institution|Closing Date|Updated Date|\n",
      "+-------+--------------------+-------+----+-----------------+---------------------+------------+------------+\n",
      "|  count|                 553|    553| 553|              553|                  553|         553|         553|\n",
      "|   mean|                null|   null|null|31729.65280289331|                 null|        null|        null|\n",
      "| stddev|                null|   null|null|16420.59489355429|                 null|        null|        null|\n",
      "|    min|1st American Stat...|Acworth|  AL|               91|      1st United Bank|    1-Aug-08|    1-Aug-13|\n",
      "|    max|               ebank|Wyoming|  WY|            58701|  Your Community Bank|    9-Sep-11|    9-Sep-12|\n",
      "+-------+--------------------+-------+----+-----------------+---------------------+------------+------------+\n",
      "\n"
     ]
    }
   ],
   "source": [
    "dados.describe().show()"
   ]
  },
  {
   "cell_type": "code",
   "execution_count": 8,
   "metadata": {},
   "outputs": [
    {
     "name": "stdout",
     "output_type": "stream",
     "text": [
      "+-------+-----------------+----+\n",
      "|summary|             CERT|  ST|\n",
      "+-------+-----------------+----+\n",
      "|  count|              553| 553|\n",
      "|   mean|31729.65280289331|null|\n",
      "| stddev|16420.59489355429|null|\n",
      "|    min|               91|  AL|\n",
      "|    max|            58701|  WY|\n",
      "+-------+-----------------+----+\n",
      "\n"
     ]
    }
   ],
   "source": [
    "dados.describe('CERT','ST').show()"
   ]
  },
  {
   "cell_type": "code",
   "execution_count": 9,
   "metadata": {},
   "outputs": [
    {
     "name": "stdout",
     "output_type": "stream",
     "text": [
      "[('Bank Name', 'string'), ('City', 'string'), ('ST', 'string'), ('CERT', 'int'), ('Acquiring Institution', 'string'), ('Closing Date', 'string'), ('Updated Date', 'string')]\n",
      "root\n",
      " |-- Bank Name: string (nullable = true)\n",
      " |-- City: string (nullable = true)\n",
      " |-- ST: string (nullable = true)\n",
      " |-- CERT: integer (nullable = true)\n",
      " |-- Acquiring Institution: string (nullable = true)\n",
      " |-- Closing Date: string (nullable = true)\n",
      " |-- Updated Date: string (nullable = true)\n",
      "\n",
      "None\n"
     ]
    }
   ],
   "source": [
    "print(dados.dtypes)\n",
    "print(dados.printSchema())"
   ]
  },
  {
   "cell_type": "markdown",
   "metadata": {},
   "source": [
    "# Remover duplicados"
   ]
  },
  {
   "cell_type": "code",
   "execution_count": 10,
   "metadata": {},
   "outputs": [
    {
     "name": "stdout",
     "output_type": "stream",
     "text": [
      "Length: 553\n",
      "N cols: 7\n"
     ]
    }
   ],
   "source": [
    "dados = dados.dropDuplicates()\n",
    "\n",
    "print(f'Length: {dados.count()}')\n",
    "print(f'N cols: {len(dados.columns)}')"
   ]
  },
  {
   "cell_type": "markdown",
   "metadata": {},
   "source": [
    "Não há dados duplicados"
   ]
  },
  {
   "cell_type": "markdown",
   "metadata": {},
   "source": [
    "# Seleção de colunas"
   ]
  },
  {
   "cell_type": "code",
   "execution_count": 11,
   "metadata": {},
   "outputs": [
    {
     "name": "stdout",
     "output_type": "stream",
     "text": [
      "+--------------------+-----+\n",
      "|           Bank Name| CERT|\n",
      "+--------------------+-----+\n",
      "|              InBank|20203|\n",
      "|       Bank of Alamo| 9961|\n",
      "|First Community B...|34943|\n",
      "|The National Repu...|  916|\n",
      "|           NOVA Bank|27148|\n",
      "+--------------------+-----+\n",
      "only showing top 5 rows\n",
      "\n"
     ]
    }
   ],
   "source": [
    "select = dados.select('Bank Name', 'CERT')\n",
    "select.show(5)"
   ]
  },
  {
   "cell_type": "code",
   "execution_count": 12,
   "metadata": {},
   "outputs": [
    {
     "name": "stdout",
     "output_type": "stream",
     "text": [
      "Length: 553\n",
      "N cols: 2\n"
     ]
    }
   ],
   "source": [
    "print(f'Length: {select.count()}')\n",
    "print(f'N cols: {len(select.columns)}')"
   ]
  },
  {
   "cell_type": "markdown",
   "metadata": {},
   "source": [
    "# Renomear colunas"
   ]
  },
  {
   "cell_type": "code",
   "execution_count": 31,
   "metadata": {},
   "outputs": [],
   "source": [
    "renamed = dados \\\n",
    "    .withColumnRenamed('Bank Name', 'bank_name')\\\n",
    "    .withColumnRenamed('Acquiring Institution', 'acq_institution')\\\n",
    "    .withColumnRenamed('Closing Date', 'closing_date')\\\n",
    "    .withColumnRenamed('Updated Date', 'updated_date')\\\n",
    "    .withColumnRenamed('ST', 'state')\\\n",
    "    .withColumnRenamed('CERT', 'cert')\\\n",
    "    .withColumnRenamed('City', 'city')"
   ]
  },
  {
   "cell_type": "code",
   "execution_count": 32,
   "metadata": {},
   "outputs": [
    {
     "name": "stdout",
     "output_type": "stream",
     "text": [
      "+--------------------+----------+-----+-----+--------------------+------------+------------+\n",
      "|           bank_name|      city|state| cert|     acq_institution|closing_date|updated_date|\n",
      "+--------------------+----------+-----+-----+--------------------+------------+------------+\n",
      "|              InBank|Oak Forest|   IL|20203|MB Financial Bank...|    4-Sep-09|   17-Oct-15|\n",
      "|       Bank of Alamo|     Alamo|   TN| 9961|         No Acquirer|    8-Nov-02|   18-Mar-05|\n",
      "|First Community B...|Fort Myers|   FL|34943|             C1 Bank|    2-Aug-13|    9-Feb-17|\n",
      "|The National Repu...|   Chicago|   IL|  916| State Bank of Texas|   24-Oct-14|    6-Jan-16|\n",
      "|           NOVA Bank|    Berwyn|   PA|27148|         No Acquirer|   26-Oct-12|   24-Jan-13|\n",
      "+--------------------+----------+-----+-----+--------------------+------------+------------+\n",
      "only showing top 5 rows\n",
      "\n"
     ]
    }
   ],
   "source": [
    "renamed.show(5)"
   ]
  },
  {
   "cell_type": "markdown",
   "metadata": {},
   "source": [
    "# Add colunas"
   ]
  },
  {
   "cell_type": "code",
   "execution_count": 33,
   "metadata": {},
   "outputs": [
    {
     "name": "stdout",
     "output_type": "stream",
     "text": [
      "+--------------------+----------+---+-----+---------------------+------------+------------+-----+\n",
      "|           Bank Name|      City| ST| CERT|Acquiring Institution|Closing Date|Updated Date|state|\n",
      "+--------------------+----------+---+-----+---------------------+------------+------------+-----+\n",
      "|              InBank|Oak Forest| IL|20203| MB Financial Bank...|    4-Sep-09|   17-Oct-15|   IL|\n",
      "|       Bank of Alamo|     Alamo| TN| 9961|          No Acquirer|    8-Nov-02|   18-Mar-05|   TN|\n",
      "|First Community B...|Fort Myers| FL|34943|              C1 Bank|    2-Aug-13|    9-Feb-17|   FL|\n",
      "|The National Repu...|   Chicago| IL|  916|  State Bank of Texas|   24-Oct-14|    6-Jan-16|   IL|\n",
      "|           NOVA Bank|    Berwyn| PA|27148|          No Acquirer|   26-Oct-12|   24-Jan-13|   PA|\n",
      "+--------------------+----------+---+-----+---------------------+------------+------------+-----+\n",
      "only showing top 5 rows\n",
      "\n"
     ]
    }
   ],
   "source": [
    "add_column = dados.withColumn('state', col('ST'))\n",
    "add_column.show(5)"
   ]
  },
  {
   "cell_type": "markdown",
   "metadata": {},
   "source": [
    "# Add constant column"
   ]
  },
  {
   "cell_type": "code",
   "execution_count": 34,
   "metadata": {},
   "outputs": [
    {
     "name": "stdout",
     "output_type": "stream",
     "text": [
      "+--------------------+----------+---+-----+---------------------+------------+------------+-----+-------+\n",
      "|           Bank Name|      City| ST| CERT|Acquiring Institution|Closing Date|Updated Date|state|country|\n",
      "+--------------------+----------+---+-----+---------------------+------------+------------+-----+-------+\n",
      "|              InBank|Oak Forest| IL|20203| MB Financial Bank...|    4-Sep-09|   17-Oct-15|   IL|     US|\n",
      "|       Bank of Alamo|     Alamo| TN| 9961|          No Acquirer|    8-Nov-02|   18-Mar-05|   TN|     US|\n",
      "|First Community B...|Fort Myers| FL|34943|              C1 Bank|    2-Aug-13|    9-Feb-17|   FL|     US|\n",
      "|The National Repu...|   Chicago| IL|  916|  State Bank of Texas|   24-Oct-14|    6-Jan-16|   IL|     US|\n",
      "|           NOVA Bank|    Berwyn| PA|27148|          No Acquirer|   26-Oct-12|   24-Jan-13|   PA|     US|\n",
      "+--------------------+----------+---+-----+---------------------+------------+------------+-----+-------+\n",
      "only showing top 5 rows\n",
      "\n"
     ]
    }
   ],
   "source": [
    "add_column = add_column.withColumn('country', lit('US'))\n",
    "add_column.show(5)"
   ]
  },
  {
   "cell_type": "markdown",
   "metadata": {},
   "source": [
    "# Drop column"
   ]
  },
  {
   "cell_type": "code",
   "execution_count": 35,
   "metadata": {},
   "outputs": [
    {
     "name": "stdout",
     "output_type": "stream",
     "text": [
      "+--------------------+----------+---+---------------------+------------+------------+-----+-------+\n",
      "|           Bank Name|      City| ST|Acquiring Institution|Closing Date|Updated Date|state|country|\n",
      "+--------------------+----------+---+---------------------+------------+------------+-----+-------+\n",
      "|              InBank|Oak Forest| IL| MB Financial Bank...|    4-Sep-09|   17-Oct-15|   IL|     US|\n",
      "|       Bank of Alamo|     Alamo| TN|          No Acquirer|    8-Nov-02|   18-Mar-05|   TN|     US|\n",
      "|First Community B...|Fort Myers| FL|              C1 Bank|    2-Aug-13|    9-Feb-17|   FL|     US|\n",
      "|The National Repu...|   Chicago| IL|  State Bank of Texas|   24-Oct-14|    6-Jan-16|   IL|     US|\n",
      "|           NOVA Bank|    Berwyn| PA|          No Acquirer|   26-Oct-12|   24-Jan-13|   PA|     US|\n",
      "+--------------------+----------+---+---------------------+------------+------------+-----+-------+\n",
      "only showing top 5 rows\n",
      "\n"
     ]
    }
   ],
   "source": [
    "drop_column = add_column.drop('CERT')\n",
    "drop_column.show(5)"
   ]
  },
  {
   "cell_type": "markdown",
   "metadata": {},
   "source": [
    "# Drop multiple columns"
   ]
  },
  {
   "cell_type": "code",
   "execution_count": 36,
   "metadata": {},
   "outputs": [
    {
     "name": "stdout",
     "output_type": "stream",
     "text": [
      "+--------------------+----------+---------------------+------------+------------+-----+-------+\n",
      "|           Bank Name|      City|Acquiring Institution|Closing Date|Updated Date|state|country|\n",
      "+--------------------+----------+---------------------+------------+------------+-----+-------+\n",
      "|              InBank|Oak Forest| MB Financial Bank...|    4-Sep-09|   17-Oct-15|   IL|     US|\n",
      "|       Bank of Alamo|     Alamo|          No Acquirer|    8-Nov-02|   18-Mar-05|   TN|     US|\n",
      "|First Community B...|Fort Myers|              C1 Bank|    2-Aug-13|    9-Feb-17|   FL|     US|\n",
      "|The National Repu...|   Chicago|  State Bank of Texas|   24-Oct-14|    6-Jan-16|   IL|     US|\n",
      "|           NOVA Bank|    Berwyn|          No Acquirer|   26-Oct-12|   24-Jan-13|   PA|     US|\n",
      "+--------------------+----------+---------------------+------------+------------+-----+-------+\n",
      "only showing top 5 rows\n",
      "\n"
     ]
    }
   ],
   "source": [
    "drop_column = add_column.drop(*['CERT','ST'])\n",
    "drop_column.show(5)"
   ]
  },
  {
   "cell_type": "markdown",
   "metadata": {},
   "source": [
    "# Filter data"
   ]
  },
  {
   "cell_type": "code",
   "execution_count": 37,
   "metadata": {},
   "outputs": [
    {
     "name": "stdout",
     "output_type": "stream",
     "text": [
      "5\n",
      "+--------------------+-------------+-----+-----+--------------------+------------+------------+\n",
      "|           bank_name|         city|state| cert|     acq_institution|closing_date|updated_date|\n",
      "+--------------------+-------------+-----+-----+--------------------+------------+------------+\n",
      "|  LibertyPointe Bank|     New York|   NY|58071|Valley National Bank|   11-Mar-10|   23-Aug-12|\n",
      "|       Reliance Bank| White Plains|   NY|26778|    Union State Bank|   19-Mar-04|    9-Apr-08|\n",
      "|            USA Bank| Port Chester|   NY|58072|    New Century Bank|    9-Jul-10|   14-Sep-12|\n",
      "|The Park Avenue Bank|     New York|   NY|27096|Valley National Bank|   12-Mar-10|   23-Aug-12|\n",
      "|Waterford Village...|Williamsville|   NY|58065|    Evans Bank, N.A.|   24-Jul-09|    1-Nov-13|\n",
      "+--------------------+-------------+-----+-----+--------------------+------------+------------+\n",
      "\n"
     ]
    }
   ],
   "source": [
    "# Equal\n",
    "df_select = renamed.where(renamed['state'] == 'NY')\n",
    "print(df_select.count())\n",
    "df_select.show()"
   ]
  },
  {
   "cell_type": "code",
   "execution_count": 38,
   "metadata": {},
   "outputs": [
    {
     "name": "stdout",
     "output_type": "stream",
     "text": [
      "9\n",
      "+--------------------+-------------+-----+----+--------------------+------------+------------+\n",
      "|           bank_name|         city|state|cert|     acq_institution|closing_date|updated_date|\n",
      "+--------------------+-------------+-----+----+--------------------+------------+------------+\n",
      "|Barnes Banking Co...|    Kaysville|   UT|1252|         No Acquirer|   15-Jan-10|   23-Aug-12|\n",
      "|     Mainstreet Bank|  Forest Lake|   MN|1909|        Central Bank|   28-Aug-09|   21-Aug-12|\n",
      "|     Bank of Ephraim|      Ephraim|   UT|1249|       Far West Bank|   25-Jun-04|    9-Apr-08|\n",
      "| Citizens State Bank|New Baltimore|   MI|1006|         No Acquirer|   18-Dec-09|   21-Mar-14|\n",
      "|      Heartland Bank|      Leawood|   KS|1361|        Metcalf Bank|   20-Jul-12|   30-Jul-13|\n",
      "|Glasgow Savings Bank|      Glasgow|   MO|1056|Regional Missouri...|   13-Jul-12|   19-Aug-14|\n",
      "|           Hume Bank|         Hume|   MO|1971|       Security Bank|    7-Mar-08|   28-Aug-12|\n",
      "| Fayette County Bank|   Saint Elmo|   IL|1802|United Fidelity B...|   26-May-17|   26-Jul-17|\n",
      "|The Farmers Bank ...|    Lynchburg|   TN|1690|Clayton Bank and ...|   15-Jun-12|    8-Aug-16|\n",
      "+--------------------+-------------+-----+----+--------------------+------------+------------+\n",
      "\n"
     ]
    }
   ],
   "source": [
    "# Between\n",
    "df_select = renamed.where(renamed['CERT'].between('1000','2000'))\n",
    "print(df_select.count())\n",
    "df_select.show()"
   ]
  },
  {
   "cell_type": "code",
   "execution_count": 39,
   "metadata": {},
   "outputs": [
    {
     "name": "stdout",
     "output_type": "stream",
     "text": [
      "21\n",
      "+--------------------+-------------+-----+-----+--------------------+------------+------------+\n",
      "|           bank_name|         city|state| cert|     acq_institution|closing_date|updated_date|\n",
      "+--------------------+-------------+-----+-----+--------------------+------------+------------+\n",
      "|    Copper Star Bank|   Scottsdale|   AZ|35463|  Stearns Bank, N.A.|   12-Nov-10|   20-Aug-12|\n",
      "|Towne Bank of Ari...|         Mesa|   AZ|57697|Commerce Bank of ...|    7-May-10|   23-Aug-12|\n",
      "|Western National ...|      Phoenix|   AZ|57917|  Washington Federal|   16-Dec-11|    5-Feb-15|\n",
      "|  LibertyPointe Bank|     New York|   NY|58071|Valley National Bank|   11-Mar-10|   23-Aug-12|\n",
      "|       Reliance Bank| White Plains|   NY|26778|    Union State Bank|   19-Mar-04|    9-Apr-08|\n",
      "|            USA Bank| Port Chester|   NY|58072|    New Century Bank|    9-Jul-10|   14-Sep-12|\n",
      "|      Bank USA, N.A.|      Phoenix|   AZ|32218|      U.S. Bank N.A.|   30-Oct-09|   22-Aug-12|\n",
      "|The Park Avenue Bank|     New York|   NY|27096|Valley National Bank|   12-Mar-10|   23-Aug-12|\n",
      "|Sunrise Bank of A...|      Phoenix|   AZ|34707|First Fidelity Ba...|   23-Aug-13|    3-May-17|\n",
      "|Community Bank of...|      Phoenix|   AZ|57645|       MidFirst Bank|   14-Aug-09|   21-Aug-12|\n",
      "|Valley Capital Ba...|         Mesa|   AZ|58399|Enterprise Bank &...|   11-Dec-09|   20-Oct-16|\n",
      "|First Arizona Sav...|   Scottsdale|   AZ|32582|         No Acquirer|   22-Oct-10|   20-Aug-12|\n",
      "|Central Arizona Bank|   Scottsdale|   AZ|34527|  Western State Bank|   14-May-13|    7-Dec-15|\n",
      "|Union Bank, Natio...|      Gilbert|   AZ|34485|       MidFirst Bank|   14-Aug-09|   21-Aug-12|\n",
      "|   Desert Hills Bank|      Phoenix|   AZ|57060|New York Communit...|   26-Mar-10|   23-Aug-12|\n",
      "|    Gold Canyon Bank|  Gold Canyon|   AZ|58066|First Scottsdale ...|    5-Apr-13|    7-Oct-15|\n",
      "|        NextBank, NA|      Phoenix|   AZ|22314|         No Acquirer|    7-Feb-02|    5-Feb-15|\n",
      "|         Legacy Bank|   Scottsdale|   AZ|57820|Enterprise Bank &...|    7-Jan-11|   12-Apr-16|\n",
      "|         Summit Bank|     Prescott|   AZ|57442|  The Foothills Bank|   15-Jul-11|   19-Aug-14|\n",
      "|Waterford Village...|Williamsville|   NY|58065|    Evans Bank, N.A.|   24-Jul-09|    1-Nov-13|\n",
      "+--------------------+-------------+-----+-----+--------------------+------------+------------+\n",
      "only showing top 20 rows\n",
      "\n"
     ]
    }
   ],
   "source": [
    "# Is in\n",
    "df_select = renamed.where(renamed['state'].isin('NY','AZ'))\n",
    "print(df_select.count())\n",
    "df_select.show()"
   ]
  },
  {
   "cell_type": "markdown",
   "metadata": {},
   "source": [
    "# Filter with logical operations"
   ]
  },
  {
   "cell_type": "code",
   "execution_count": 40,
   "metadata": {},
   "outputs": [
    {
     "name": "stdout",
     "output_type": "stream",
     "text": [
      "+--------------------+--------+-----+-----+--------------------+------------+------------+\n",
      "|           bank_name|    city|state| cert|     acq_institution|closing_date|updated_date|\n",
      "+--------------------+--------+-----+-----+--------------------+------------+------------+\n",
      "|  LibertyPointe Bank|New York|   NY|58071|Valley National Bank|   11-Mar-10|   23-Aug-12|\n",
      "|The Park Avenue Bank|New York|   NY|27096|Valley National Bank|   12-Mar-10|   23-Aug-12|\n",
      "+--------------------+--------+-----+-----+--------------------+------------+------------+\n",
      "\n"
     ]
    }
   ],
   "source": [
    "df_select = renamed.where((renamed['state'] == 'NY') & (renamed['city'] == 'New York'))\n",
    "df_select.show()"
   ]
  },
  {
   "cell_type": "markdown",
   "metadata": {},
   "source": [
    "# Replace values"
   ]
  },
  {
   "cell_type": "code",
   "execution_count": 44,
   "metadata": {},
   "outputs": [
    {
     "name": "stdout",
     "output_type": "stream",
     "text": [
      "+--------------------+---------------+-----+-----+--------------------+------------+------------+\n",
      "|           bank_name|           city|state| cert|     acq_institution|closing_date|updated_date|\n",
      "+--------------------+---------------+-----+-----+--------------------+------------+------------+\n",
      "|              InBank|     Oak Forest|   IL|20203|MB Financial Bank...|    4-Sep-09|   17-Oct-15|\n",
      "|       Bank of Alamo|          Alamo|   TN| 9961|         No Acquirer|    8-Nov-02|   18-Mar-05|\n",
      "|First Community B...|     Fort Myers|   FL|34943|             C1 Bank|    2-Aug-13|    9-Feb-17|\n",
      "|The National Repu...|        Chicago|   IL|  916| State Bank of Texas|   24-Oct-14|    6-Jan-16|\n",
      "|           NOVA Bank|         Berwyn|   PA|27148|         No Acquirer|   26-Oct-12|   24-Jan-13|\n",
      "|First Cherokee St...|      Woodstock|   GA|32711|Community & South...|   20-Jul-12|    6-Jun-16|\n",
      "|Net 1st National ...|     Boca Raton|   FL|26652|      Bank Leumi USA|    1-Mar-02|    9-Apr-08|\n",
      "|       Waccamaw Bank|     Whiteville|   NC|34515|First Community Bank|    8-Jun-12|   21-Mar-14|\n",
      "|Olde Cypress Comm...|      Clewiston|   FL|28864|CenterState Bank ...|   16-Jul-10|   11-Jul-16|\n",
      "|Bank of Florida -...|Fort Lauderdale|   FL|57360|            EverBank|   28-May-10|    8-Aug-16|\n",
      "|First National Ba...|       Danville|   IL| 3644|First Financial B...|    2-Jul-09|   20-Aug-12|\n",
      "|       The RiverBank|        Wyoming|   MN|10216|        Central Bank|    7-Oct-11|    7-Nov-12|\n",
      "|      Shoreline Bank|      Shoreline|   WA|35250|GBC International...|    1-Oct-10|   20-Aug-12|\n",
      "|Appalachian Commu...|    McCaysville|   GA|58495|Peoples Bank of E...|   17-Dec-10|   21-Mar-14|\n",
      "|        Premier Bank|         Denver|   CO|34112|United Fidelity B...|   10-Jul-15|   17-Aug-16|\n",
      "|Patriot Bank of G...|        Cumming|   GA|58273|Georgia Commerce ...|    2-Sep-11|   28-Jun-17|\n",
      "|    Bank of Illinois|         Normal|   IL|   17|Heartland Bank an...|    5-Mar-10|   23-Aug-12|\n",
      "|The Bank of Miami...|   Coral Gables|   FL|19040|     1st United Bank|   17-Dec-10|   21-Mar-14|\n",
      "|    Copper Star Bank|     Scottsdale|   AZ|35463|  Stearns Bank, N.A.|   12-Nov-10|   20-Aug-12|\n",
      "|       Meridian Bank|         Eldred|   IL|13789|       National Bank|   10-Oct-08|   31-May-12|\n",
      "+--------------------+---------------+-----+-----+--------------------+------------+------------+\n",
      "only showing top 20 rows\n",
      "\n"
     ]
    }
   ],
   "source": [
    "replaced = renamed.na.replace(9268, 17)\n",
    "\n",
    "replaced.show(20)"
   ]
  },
  {
   "cell_type": "markdown",
   "metadata": {},
   "source": [
    "# Aula Parte 2"
   ]
  },
  {
   "cell_type": "markdown",
   "metadata": {},
   "source": [
    "## Criação spark e importação dos dados de COVID-19"
   ]
  },
  {
   "cell_type": "code",
   "execution_count": 45,
   "metadata": {},
   "outputs": [
    {
     "data": {
      "text/html": [
       "\n",
       "            <div>\n",
       "                <p><b>SparkSession - in-memory</b></p>\n",
       "                \n",
       "        <div>\n",
       "            <p><b>SparkContext</b></p>\n",
       "\n",
       "            <p><a href=\"http://GAIVOTA-0335:4040\">Spark UI</a></p>\n",
       "\n",
       "            <dl>\n",
       "              <dt>Version</dt>\n",
       "                <dd><code>v3.3.1</code></dd>\n",
       "              <dt>Master</dt>\n",
       "                <dd><code>local[*]</code></dd>\n",
       "              <dt>AppName</dt>\n",
       "                <dd><code>pyspark-shell</code></dd>\n",
       "            </dl>\n",
       "        </div>\n",
       "        \n",
       "            </div>\n",
       "        "
      ],
      "text/plain": [
       "<pyspark.sql.session.SparkSession at 0x2943ce28508>"
      ]
     },
     "execution_count": 45,
     "metadata": {},
     "output_type": "execute_result"
    }
   ],
   "source": [
    "'''!sudo apt update\n",
    "!apt-get install openjdk-8-jdk-headless -qq > /dev/null\n",
    "#Check this site for the latest download link https://www.apache.org/dyn/closer.lua/spark/spark-3.2.1/spark-3.2.1-bin-hadoop3.2.tgz\n",
    "!wget -q https://dlcdn.apache.org/spark/spark-3.2.1/spark-3.2.1-bin-hadoop3.2.tgz\n",
    "!tar xf spark-3.2.1-bin-hadoop3.2.tgz\n",
    "!pip install -q findspark\n",
    "!pip install pyspark\n",
    "!pip install py4j'''\n",
    "\n",
    "import os\n",
    "import sys\n",
    "# os.environ[\"JAVA_HOME\"] = \"/usr/lib/jvm/java-8-openjdk-amd64\"\n",
    "# os.environ[\"SPARK_HOME\"] = \"/content/spark-3.2.1-bin-hadoop3.2\"\n",
    "\n",
    "import findspark\n",
    "findspark.init()\n",
    "findspark.find()\n",
    "\n",
    "import pyspark\n",
    "\n",
    "from pyspark.sql import DataFrame, SparkSession\n",
    "from typing import List\n",
    "import pyspark.sql.types as T\n",
    "import pyspark.sql.functions as F\n",
    "\n",
    "spark= SparkSession.builder.appName(\"Our First Spark Example\").getOrCreate()\n",
    "\n",
    "spark"
   ]
  },
  {
   "cell_type": "code",
   "execution_count": 47,
   "metadata": {},
   "outputs": [],
   "source": [
    "\n",
    "\n",
    "import requests\n",
    "path = \"https://raw.githubusercontent.com/owid/covid-19-data/master/public/data/owid-covid-data.csv\"\n",
    "req = requests.get(path)\n",
    "url_content = req.content\n",
    "\n",
    "csv_file_name = 'owid-covid-data.csv'\n",
    "csv_file = open(csv_file_name, 'wb')\n",
    "\n",
    "csv_file.write(url_content)\n",
    "csv_file.close()\n",
    "\n",
    "df = spark.read.csv('./'+csv_file_name, header=True, inferSchema=True)"
   ]
  },
  {
   "cell_type": "markdown",
   "metadata": {},
   "source": [
    "## Schema"
   ]
  },
  {
   "cell_type": "code",
   "execution_count": 50,
   "metadata": {},
   "outputs": [
    {
     "name": "stdout",
     "output_type": "stream",
     "text": [
      "root\n",
      " |-- iso_code: string (nullable = true)\n",
      " |-- continent: string (nullable = true)\n",
      " |-- location: string (nullable = true)\n",
      " |-- date: timestamp (nullable = true)\n",
      " |-- total_cases: double (nullable = true)\n",
      " |-- new_cases: double (nullable = true)\n",
      " |-- new_cases_smoothed: double (nullable = true)\n",
      " |-- total_deaths: double (nullable = true)\n",
      " |-- new_deaths: double (nullable = true)\n",
      " |-- new_deaths_smoothed: double (nullable = true)\n",
      " |-- total_cases_per_million: double (nullable = true)\n",
      " |-- new_cases_per_million: double (nullable = true)\n",
      " |-- new_cases_smoothed_per_million: double (nullable = true)\n",
      " |-- total_deaths_per_million: double (nullable = true)\n",
      " |-- new_deaths_per_million: double (nullable = true)\n",
      " |-- new_deaths_smoothed_per_million: double (nullable = true)\n",
      " |-- reproduction_rate: double (nullable = true)\n",
      " |-- icu_patients: double (nullable = true)\n",
      " |-- icu_patients_per_million: double (nullable = true)\n",
      " |-- hosp_patients: double (nullable = true)\n",
      " |-- hosp_patients_per_million: double (nullable = true)\n",
      " |-- weekly_icu_admissions: double (nullable = true)\n",
      " |-- weekly_icu_admissions_per_million: double (nullable = true)\n",
      " |-- weekly_hosp_admissions: double (nullable = true)\n",
      " |-- weekly_hosp_admissions_per_million: double (nullable = true)\n",
      " |-- total_tests: double (nullable = true)\n",
      " |-- new_tests: double (nullable = true)\n",
      " |-- total_tests_per_thousand: double (nullable = true)\n",
      " |-- new_tests_per_thousand: double (nullable = true)\n",
      " |-- new_tests_smoothed: double (nullable = true)\n",
      " |-- new_tests_smoothed_per_thousand: double (nullable = true)\n",
      " |-- positive_rate: double (nullable = true)\n",
      " |-- tests_per_case: double (nullable = true)\n",
      " |-- tests_units: string (nullable = true)\n",
      " |-- total_vaccinations: double (nullable = true)\n",
      " |-- people_vaccinated: double (nullable = true)\n",
      " |-- people_fully_vaccinated: double (nullable = true)\n",
      " |-- total_boosters: double (nullable = true)\n",
      " |-- new_vaccinations: double (nullable = true)\n",
      " |-- new_vaccinations_smoothed: double (nullable = true)\n",
      " |-- total_vaccinations_per_hundred: double (nullable = true)\n",
      " |-- people_vaccinated_per_hundred: double (nullable = true)\n",
      " |-- people_fully_vaccinated_per_hundred: double (nullable = true)\n",
      " |-- total_boosters_per_hundred: double (nullable = true)\n",
      " |-- new_vaccinations_smoothed_per_million: double (nullable = true)\n",
      " |-- new_people_vaccinated_smoothed: double (nullable = true)\n",
      " |-- new_people_vaccinated_smoothed_per_hundred: double (nullable = true)\n",
      " |-- stringency_index: double (nullable = true)\n",
      " |-- population_density: double (nullable = true)\n",
      " |-- median_age: double (nullable = true)\n",
      " |-- aged_65_older: double (nullable = true)\n",
      " |-- aged_70_older: double (nullable = true)\n",
      " |-- gdp_per_capita: double (nullable = true)\n",
      " |-- extreme_poverty: double (nullable = true)\n",
      " |-- cardiovasc_death_rate: double (nullable = true)\n",
      " |-- diabetes_prevalence: double (nullable = true)\n",
      " |-- female_smokers: double (nullable = true)\n",
      " |-- male_smokers: double (nullable = true)\n",
      " |-- handwashing_facilities: double (nullable = true)\n",
      " |-- hospital_beds_per_thousand: double (nullable = true)\n",
      " |-- life_expectancy: double (nullable = true)\n",
      " |-- human_development_index: double (nullable = true)\n",
      " |-- population: double (nullable = true)\n",
      " |-- excess_mortality_cumulative_absolute: double (nullable = true)\n",
      " |-- excess_mortality_cumulative: double (nullable = true)\n",
      " |-- excess_mortality: double (nullable = true)\n",
      " |-- excess_mortality_cumulative_per_million: double (nullable = true)\n",
      "\n"
     ]
    }
   ],
   "source": [
    "df.printSchema()"
   ]
  },
  {
   "cell_type": "markdown",
   "metadata": {},
   "source": [
    "## Conversão variável date para datetime"
   ]
  },
  {
   "cell_type": "code",
   "execution_count": 55,
   "metadata": {},
   "outputs": [
    {
     "name": "stdout",
     "output_type": "stream",
     "text": [
      "+-------------------+\n",
      "|               date|\n",
      "+-------------------+\n",
      "|2020-01-03 00:00:00|\n",
      "|2020-01-04 00:00:00|\n",
      "|2020-01-05 00:00:00|\n",
      "|2020-01-06 00:00:00|\n",
      "|2020-01-07 00:00:00|\n",
      "+-------------------+\n",
      "only showing top 5 rows\n",
      "\n"
     ]
    }
   ],
   "source": [
    "df.select('date').show(5)"
   ]
  },
  {
   "cell_type": "code",
   "execution_count": 56,
   "metadata": {},
   "outputs": [
    {
     "data": {
      "text/plain": [
       "DataFrame[date: date]"
      ]
     },
     "execution_count": 56,
     "metadata": {},
     "output_type": "execute_result"
    }
   ],
   "source": [
    "df.select(F.to_date(df.date).alias('date'))"
   ]
  },
  {
   "cell_type": "code",
   "execution_count": 57,
   "metadata": {},
   "outputs": [
    {
     "name": "stdout",
     "output_type": "stream",
     "text": [
      "+-------------------+\n",
      "|               date|\n",
      "+-------------------+\n",
      "|2020-01-03 00:00:00|\n",
      "|2020-01-04 00:00:00|\n",
      "|2020-01-05 00:00:00|\n",
      "|2020-01-06 00:00:00|\n",
      "|2020-01-07 00:00:00|\n",
      "+-------------------+\n",
      "only showing top 5 rows\n",
      "\n"
     ]
    }
   ],
   "source": [
    "df.select('date').show(5)"
   ]
  },
  {
   "cell_type": "markdown",
   "metadata": {},
   "source": [
    "## Estatísticas"
   ]
  },
  {
   "cell_type": "code",
   "execution_count": 58,
   "metadata": {},
   "outputs": [
    {
     "name": "stdout",
     "output_type": "stream",
     "text": [
      "+-------+--------+-------------+-----------+-----------------+------------------+------------------+-----------------+-----------------+-------------------+-----------------------+---------------------+------------------------------+------------------------+----------------------+-------------------------------+------------------+------------------+------------------------+------------------+-------------------------+---------------------+---------------------------------+----------------------+----------------------------------+-------------------+------------------+------------------------+----------------------+------------------+-------------------------------+-------------------+------------------+-------------+--------------------+--------------------+-----------------------+--------------------+-----------------+-------------------------+------------------------------+-----------------------------+-----------------------------------+--------------------------+-------------------------------------+------------------------------+------------------------------------------+------------------+------------------+------------------+-----------------+-----------------+------------------+------------------+---------------------+-------------------+------------------+------------------+----------------------+--------------------------+-----------------+-----------------------+--------------------+------------------------------------+---------------------------+------------------+---------------------------------------+\n",
      "|summary|iso_code|    continent|   location|      total_cases|         new_cases|new_cases_smoothed|     total_deaths|       new_deaths|new_deaths_smoothed|total_cases_per_million|new_cases_per_million|new_cases_smoothed_per_million|total_deaths_per_million|new_deaths_per_million|new_deaths_smoothed_per_million| reproduction_rate|      icu_patients|icu_patients_per_million|     hosp_patients|hosp_patients_per_million|weekly_icu_admissions|weekly_icu_admissions_per_million|weekly_hosp_admissions|weekly_hosp_admissions_per_million|        total_tests|         new_tests|total_tests_per_thousand|new_tests_per_thousand|new_tests_smoothed|new_tests_smoothed_per_thousand|      positive_rate|    tests_per_case|  tests_units|  total_vaccinations|   people_vaccinated|people_fully_vaccinated|      total_boosters| new_vaccinations|new_vaccinations_smoothed|total_vaccinations_per_hundred|people_vaccinated_per_hundred|people_fully_vaccinated_per_hundred|total_boosters_per_hundred|new_vaccinations_smoothed_per_million|new_people_vaccinated_smoothed|new_people_vaccinated_smoothed_per_hundred|  stringency_index|population_density|        median_age|    aged_65_older|    aged_70_older|    gdp_per_capita|   extreme_poverty|cardiovasc_death_rate|diabetes_prevalence|    female_smokers|      male_smokers|handwashing_facilities|hospital_beds_per_thousand|  life_expectancy|human_development_index|          population|excess_mortality_cumulative_absolute|excess_mortality_cumulative|  excess_mortality|excess_mortality_cumulative_per_million|\n",
      "+-------+--------+-------------+-----------+-----------------+------------------+------------------+-----------------+-----------------+-------------------+-----------------------+---------------------+------------------------------+------------------------+----------------------+-------------------------------+------------------+------------------+------------------------+------------------+-------------------------+---------------------+---------------------------------+----------------------+----------------------------------+-------------------+------------------+------------------------+----------------------+------------------+-------------------------------+-------------------+------------------+-------------+--------------------+--------------------+-----------------------+--------------------+-----------------+-------------------------+------------------------------+-----------------------------+-----------------------------------+--------------------------+-------------------------------------+------------------------------+------------------------------------------+------------------+------------------+------------------+-----------------+-----------------+------------------+------------------+---------------------+-------------------+------------------+------------------+----------------------+--------------------------+-----------------+-----------------------+--------------------+------------------------------------+---------------------------+------------------+---------------------------------------+\n",
      "|  count|  339615|       323458|     339615|           301840|            330177|            328918|           280505|           330220|             328990|                 301840|               330177|                        328918|                  280505|                330220|                         328990|            184817|             37344|                   37344|             38445|                    38445|                10061|                            10061|                 22935|                             22935|              79387|             75403|                   79387|                 75403|            103965|                         103965|              95927|             94348|       106788|               78503|               75151|                  71747|               46817|            64609|                   177758|                         78503|                        75151|                              71747|                     46817|                               177758|                        177453|                                    177453|            197651|            288224|            268071|           258678|           265385|            262705|            169264|               263279|             276685|            197481|            194792|                128949|                    232399|           312390|                 255196|              339615|                               11752|                      11752|             11752|                                  11752|\n",
      "|   mean|    null|         null|       null|6455497.504760801| 9886.895895231952|  9924.51501478194|84724.40270583412|88.10294954878566|  88.42809027022096|      98330.69785706559|   149.40248694488108|            149.96915615138101|        857.138011286785|    0.9348039004300107|             0.9382228031247206|0.9114953710968153| 679.5090509854327|       16.37140552699229| 3956.593159058395|       131.09933715697775|     343.926051088361|               10.412406917801393|    4343.5097013298455|                 86.52358984085453|2.110457393801252E7| 67285.41211888121|       924.2547618627739|    3.2724657904857897| 142178.3636993219|              2.826308834703998|0.09816250586383392|2403.6328072667216|         null| 4.266984189553775E8|1.8968484234545115E8|   1.7255843917101762E8|1.0862933705617617E8|809102.3290718012|       309751.11811001477|            118.00508413691215|            51.83066719005743|                  46.90384559633141|         34.23583292393789|                   2009.1508174034361|            114703.01098318992|                       0.08116074678928768| 42.71402122933904|405.93208182868545|30.509368040557852|8.700388610550217|5.499945893701583|18990.586736526177|13.846236648076804|   264.26916809162867|  8.560836077126345|10.791487950739185| 32.91081656331097|    50.790630536105006|         3.097242819461358|73.71608079643184|     0.7224892788287711|1.2841650956473948E8|                   51199.82561454949|          9.764985534377132|11.640143805309732|                     1627.4122886500788|\n",
      "| stddev|    null|         null|       null|3.9563212476243E7|111965.60543221561|  95927.3363777647|434307.5854534068|622.9821901411357|  567.6010717544062|      148239.4756252289|   1181.2998238588505|             608.7148160963146|      1089.5823758461663|     5.184423071927551|             2.8093749451068875|0.3999249955670577|2182.5513498405635|      23.104712841497562|10037.135254309227|        153.7051133767104|    529.9219531587297|               13.906959390487765|     11123.82482694945|                 89.65679225156245|8.409869431109451E7|247734.00456983934|       2195.428504333425|     9.033842747139177|1138214.6555840874|              7.308232579855921| 0.1159775734550082| 33443.66067673283|         null|1.5472581780208704E9| 6.809148794786265E8|    6.257465437637268E8|3.5835457617394775E8|3327198.273237822|       2011122.3218546046|             84.96793611351053|            29.83874221910487|                 29.490506780139228|        30.355918731833487|                   3219.4145265940647|             818243.1129822508|                       0.18226400229741724|24.911007214295772|1848.5073584429738| 9.083587071568529|6.094086687699535|4.135551546771558| 19951.91021612746| 20.08983312536667|   120.92675219075159|  4.941049037761744|10.779989180976807|13.573912198248243|     31.95584781718435|         2.548379979679761|7.395931679044144|     0.1489864710636198| 6.606650667360272E8|                  144739.41664455048|          12.58355500268585|25.533260200833066|                     1916.0336393990021|\n",
      "|    min|     ABW|       Africa|Afghanistan|              1.0|               0.0|               0.0|              1.0|              0.0|                0.0|                    0.0|                  0.0|                           0.0|                     0.0|                   0.0|                            0.0|             -0.07|               0.0|                     0.0|               0.0|                      0.0|                  0.0|                              0.0|                   0.0|                               0.0|                0.0|               1.0|                     0.0|                   0.0|               0.0|                            0.0|                0.0|               1.0|people tested|                 0.0|                 0.0|                    1.0|                 1.0|              0.0|                      0.0|                           0.0|                          0.0|                                0.0|                       0.0|                                  0.0|                           0.0|                                       0.0|               0.0|             0.137|              15.1|            1.144|            0.526|            661.24|               0.1|                79.37|               0.99|               0.1|               7.7|                 1.188|                       0.1|            53.28|                  0.394|                47.0|                          -37726.098|                     -44.23|            -95.92|                             -2142.3403|\n",
      "|    max|     ZWE|South America|   Zimbabwe|     7.70436563E8|         8401961.0|       6402036.286|        6956887.0|          27939.0|            14822.0|             737554.506|           228872.025|                     37241.781|                6501.224|               603.656|                        148.641|              5.87|           28891.0|                 180.675|          154497.0|                 1526.846|               4838.0|                          224.976|              153977.0|                           708.691|            9.214E9|       3.5855632E7|               32925.826|               531.062|       1.4769984E7|                        147.603|                1.0|         1023631.9|units unclear|     1.3502116609E10|       5.621649761E9|          5.169351954E9|       2.792608072E9|      4.9672561E7|              4.3690864E7|                         406.9|                       129.07|                             126.89|                    150.47|                             117113.0|                   2.1070833E7|                                    11.711|             100.0|         20546.766|              48.2|           27.049|           18.493|          116935.6|              77.6|              724.417|              30.53|              44.0|              78.1|                 100.0|                      13.8|            86.75|                  0.957|       7.975105024E9|                           1289776.5|                      76.55|            386.92|                              10292.916|\n",
      "+-------+--------+-------------+-----------+-----------------+------------------+------------------+-----------------+-----------------+-------------------+-----------------------+---------------------+------------------------------+------------------------+----------------------+-------------------------------+------------------+------------------+------------------------+------------------+-------------------------+---------------------+---------------------------------+----------------------+----------------------------------+-------------------+------------------+------------------------+----------------------+------------------+-------------------------------+-------------------+------------------+-------------+--------------------+--------------------+-----------------------+--------------------+-----------------+-------------------------+------------------------------+-----------------------------+-----------------------------------+--------------------------+-------------------------------------+------------------------------+------------------------------------------+------------------+------------------+------------------+-----------------+-----------------+------------------+------------------+---------------------+-------------------+------------------+------------------+----------------------+--------------------------+-----------------+-----------------------+--------------------+------------------------------------+---------------------------+------------------+---------------------------------------+\n",
      "\n"
     ]
    }
   ],
   "source": [
    "df.describe().show()"
   ]
  },
  {
   "cell_type": "markdown",
   "metadata": {},
   "source": [
    "# Groupby location -> new cases"
   ]
  },
  {
   "cell_type": "code",
   "execution_count": 65,
   "metadata": {},
   "outputs": [
    {
     "name": "stdout",
     "output_type": "stream",
     "text": [
      "+-------------------+--------------+\n",
      "|location           |sum(new_cases)|\n",
      "+-------------------+--------------+\n",
      "|World              |7.70452934E8  |\n",
      "|High income        |4.25238868E8  |\n",
      "|Asia               |3.00438143E8  |\n",
      "|Europe             |2.49217367E8  |\n",
      "|Upper middle income|2.442881E8    |\n",
      "|European Union     |1.83832173E8  |\n",
      "|North America      |1.24412723E8  |\n",
      "|United States      |1.03436829E8  |\n",
      "|China              |9.9306563E7   |\n",
      "|Lower middle income|9.7396408E7   |\n",
      "|South America      |6.8818417E7   |\n",
      "|India              |4.499808E7    |\n",
      "|France             |3.899749E7    |\n",
      "|Germany            |3.8437756E7   |\n",
      "|Brazil             |3.7717635E7   |\n",
      "|South Korea        |3.4436542E7   |\n",
      "|Japan              |3.3803572E7   |\n",
      "|Italy              |2.5955703E7   |\n",
      "|United Kingdom     |2.4688073E7   |\n",
      "|Russia             |2.2994849E7   |\n",
      "+-------------------+--------------+\n",
      "only showing top 20 rows\n",
      "\n"
     ]
    }
   ],
   "source": [
    "df.groupBy('location').sum('new_cases').orderBy(F.desc(\"sum(new_cases)\")).show(truncate=False)"
   ]
  }
 ],
 "metadata": {
  "kernelspec": {
   "display_name": "gis",
   "language": "python",
   "name": "python3"
  },
  "language_info": {
   "codemirror_mode": {
    "name": "ipython",
    "version": 3
   },
   "file_extension": ".py",
   "mimetype": "text/x-python",
   "name": "python",
   "nbconvert_exporter": "python",
   "pygments_lexer": "ipython3",
   "version": "3.7.13"
  },
  "orig_nbformat": 4
 },
 "nbformat": 4,
 "nbformat_minor": 2
}
