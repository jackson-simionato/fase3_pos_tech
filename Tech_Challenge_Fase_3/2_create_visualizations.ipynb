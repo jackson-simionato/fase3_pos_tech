{
 "cells": [
  {
   "cell_type": "code",
   "execution_count": 39,
   "metadata": {},
   "outputs": [],
   "source": [
    "from google.cloud import bigquery\n",
    "import plotly.express as px\n",
    "import plotly\n",
    "from plotly.subplots import make_subplots\n",
    "import plotly.graph_objects as go\n",
    "import numpy as np\n",
    "import pandas as pd\n",
    "\n",
    "dict_uf = {\"11\":\"Rondônia\",\n",
    "           \"12\":\"Acre\",\n",
    "           \"13\":\"Amazonas\",\n",
    "           \"14\":\"Roraima\",\n",
    "           \"15\":\"Pará\",\n",
    "           \"16\":\"Amapá\",\n",
    "           \"17\":\"Tocantins\",\n",
    "           \"21\":\"Maranhão\",\n",
    "           \"22\":\"Piauí\",\n",
    "           \"23\":\"Ceará\",\n",
    "           \"24\":\"Rio Grande do Norte\",\n",
    "           \"25\":\"Paraíba\",\n",
    "           \"26\":\"Pernambuco\",\n",
    "           \"27\":\"Alagoas\",\n",
    "           \"28\":\"Sergipe\",\n",
    "           \"29\":\"Bahia\",\n",
    "           \"31\":\"Minas Gerais\",\n",
    "           \"32\":\"Espírito Santo\",\n",
    "           \"33\":\"Rio de Janeiro\",\n",
    "           \"35\":\"São Paulo\",\n",
    "           \"41\":\"Paraná\",\n",
    "           \"42\":\"Santa Catarina\",\n",
    "           \"43\":\"Rio Grande do Sul\",\n",
    "           \"50\":\"Mato Grosso do Sul\",\n",
    "           \"51\":\"Mato Grosso\",\n",
    "           \"52\":\"Goiás\",\n",
    "           \"53\":\"Distrito Federal\"}\n",
    "\n",
    "dict_sexo = {'1': 'Homem', '2':'Mulher'}\n",
    "\n",
    "dict_tipo_moradia = {'1':'Urbana','2':'Rural'}\n",
    "\n",
    "dict_regiao_moradia = {'1':'Capital', '2':'Região Metropolitana', '4':'Outras regiões'}\n",
    "\n",
    "dict_cor_raca = {'1':'Branca', '2':'Preta', '3':'Amarela', '4': 'Parda', '5':'Indígena', '9':'Ignorado'}\n",
    "\n",
    "dict_escolaridade = {'1':'Sem instrução','2':'Fundamental incompleto','3':'Fundamental completo', '4':'Médio incompleto',\n",
    "                     '5':'Médio completo','6':'Superior incompleto','7':'Superior completo','8':'Pós-graduação'}\n",
    "\n",
    "dict_trabalhou = {'1':'Sim', '2':'Não', '0':'Não aplicável'}\n",
    "\n",
    "dict_restricao_contato = {'1':'Sem restrições', '2':'Poucas restrições', '3':'Restrições moderadas', '4':'Muitas restrições', '9':'Sem resposta'}\n",
    "\n",
    "dict_mes = {'9':'Setembro/2020', '10':'Outubro/2020', '11':'Novembro/2020'}\n",
    "\n",
    "dict_sintomas = {'1':'Com sintomas', '0':'Sem sintomas'}\n",
    "\n",
    "dict_procura_medico = {'1':'Procurou atendimento', '2':'Não procurou atendimento'}\n",
    "\n",
    "dict_internacao = {'1':'Internado', '2':'Não internado', '3':'Não foi atendido', '9':'Sem resposta', '0':'Não se aplica'}\n",
    "\n",
    "dict_atividade_trabalho = {'10':'Serviços de entregas', '18':'Administração pública','20':'Saúde',\n",
    "                           '24':'Serviço doméstico','16':'Escritórios','14':'Instituições financeiras','11':'Hospedagem',\n",
    "                           '15':'Imobiliárias','13':'Informação e comunicação','22':'Artes e esportes','12':'Serviços de alimentação'}"
   ]
  },
  {
   "cell_type": "markdown",
   "metadata": {},
   "source": [
    "# Conexão com Big Query"
   ]
  },
  {
   "cell_type": "code",
   "execution_count": 2,
   "metadata": {},
   "outputs": [],
   "source": [
    "project_id = 'brave-tea-400210'\n",
    "dataset_id = 'fase_3_tech_challenge'\n",
    "table_id = 'pnad-covid-19'\n",
    "location = 'US'\n",
    "\n",
    "client = bigquery.Client(project=project_id, location='US')"
   ]
  },
  {
   "cell_type": "markdown",
   "metadata": {},
   "source": [
    "# Visualizações"
   ]
  },
  {
   "cell_type": "markdown",
   "metadata": {},
   "source": [
    "## Distribuição da variável sexo ('A003') nas zonas rurais e urbanas ('V1022')"
   ]
  },
  {
   "cell_type": "code",
   "execution_count": 3,
   "metadata": {},
   "outputs": [],
   "source": [
    "query_sql = f'''WITH cont_sexo AS (\n",
    "SELECT\n",
    "    uf,\n",
    "    sexo,\n",
    "    zona_moradia,\n",
    "    COUNT(sexo) AS n_sexo,\n",
    "FROM\n",
    "    `{dataset_id}.{table_id}`\n",
    "GROUP BY\n",
    "    uf, zona_moradia, sexo\n",
    "ORDER BY\n",
    "    uf\n",
    ")\n",
    "\n",
    "SELECT\n",
    "    uf,\n",
    "    sexo,\n",
    "    zona_moradia,\n",
    "    n_sexo,\n",
    "    ROUND(SUM(n_sexo)/SUM(n_sexo) OVER (PARTITION BY uf, zona_moradia),4) AS proportion\n",
    "FROM\n",
    "    cont_sexo\n",
    "GROUP BY\n",
    "    uf, sexo,zona_moradia, n_sexo\n",
    "ORDER BY uf, sexo\n",
    "'''\n",
    "\n",
    "query_job = client.query(query_sql)\n",
    "df_results = query_job.to_dataframe()"
   ]
  },
  {
   "cell_type": "code",
   "execution_count": 4,
   "metadata": {},
   "outputs": [
    {
     "data": {
      "text/html": [
       "<div>\n",
       "<style scoped>\n",
       "    .dataframe tbody tr th:only-of-type {\n",
       "        vertical-align: middle;\n",
       "    }\n",
       "\n",
       "    .dataframe tbody tr th {\n",
       "        vertical-align: top;\n",
       "    }\n",
       "\n",
       "    .dataframe thead th {\n",
       "        text-align: right;\n",
       "    }\n",
       "</style>\n",
       "<table border=\"1\" class=\"dataframe\">\n",
       "  <thead>\n",
       "    <tr style=\"text-align: right;\">\n",
       "      <th></th>\n",
       "      <th>uf</th>\n",
       "      <th>sexo</th>\n",
       "      <th>zona_moradia</th>\n",
       "      <th>n_sexo</th>\n",
       "      <th>proportion</th>\n",
       "    </tr>\n",
       "  </thead>\n",
       "  <tbody>\n",
       "    <tr>\n",
       "      <th>0</th>\n",
       "      <td>Rondônia</td>\n",
       "      <td>Homem</td>\n",
       "      <td>Urbana</td>\n",
       "      <td>5763</td>\n",
       "      <td>0.4784</td>\n",
       "    </tr>\n",
       "    <tr>\n",
       "      <th>1</th>\n",
       "      <td>Rondônia</td>\n",
       "      <td>Homem</td>\n",
       "      <td>Rural</td>\n",
       "      <td>2382</td>\n",
       "      <td>0.5205</td>\n",
       "    </tr>\n",
       "    <tr>\n",
       "      <th>2</th>\n",
       "      <td>Rondônia</td>\n",
       "      <td>Mulher</td>\n",
       "      <td>Urbana</td>\n",
       "      <td>6283</td>\n",
       "      <td>0.5216</td>\n",
       "    </tr>\n",
       "    <tr>\n",
       "      <th>3</th>\n",
       "      <td>Rondônia</td>\n",
       "      <td>Mulher</td>\n",
       "      <td>Rural</td>\n",
       "      <td>2194</td>\n",
       "      <td>0.4795</td>\n",
       "    </tr>\n",
       "    <tr>\n",
       "      <th>4</th>\n",
       "      <td>Acre</td>\n",
       "      <td>Homem</td>\n",
       "      <td>Rural</td>\n",
       "      <td>1640</td>\n",
       "      <td>0.5273</td>\n",
       "    </tr>\n",
       "  </tbody>\n",
       "</table>\n",
       "</div>"
      ],
      "text/plain": [
       "         uf    sexo zona_moradia  n_sexo  proportion\n",
       "0  Rondônia   Homem       Urbana    5763      0.4784\n",
       "1  Rondônia   Homem        Rural    2382      0.5205\n",
       "2  Rondônia  Mulher       Urbana    6283      0.5216\n",
       "3  Rondônia  Mulher        Rural    2194      0.4795\n",
       "4      Acre   Homem        Rural    1640      0.5273"
      ]
     },
     "execution_count": 4,
     "metadata": {},
     "output_type": "execute_result"
    }
   ],
   "source": [
    "df_results['uf'] = df_results['uf'].astype(str).replace(dict_uf)\n",
    "df_results['sexo'] = df_results['sexo'].astype(str).replace(dict_sexo)\n",
    "df_results['zona_moradia'] = df_results['zona_moradia'].astype(str).replace(dict_tipo_moradia)\n",
    "df_results.head()"
   ]
  },
  {
   "cell_type": "code",
   "execution_count": 5,
   "metadata": {},
   "outputs": [
    {
     "data": {
      "application/vnd.plotly.v1+json": {
       "config": {
        "plotlyServerURL": "https://plot.ly"
       },
       "data": [
        {
         "alignmentgroup": "True",
         "hovertemplate": "Sexo=Mulher<br>Proporção (%)=%{x}<br>Estado=%{y}<extra></extra>",
         "legendgroup": "Mulher",
         "marker": {
          "color": "#DC3912",
          "pattern": {
           "shape": ""
          }
         },
         "name": "Mulher",
         "offsetgroup": "Mulher",
         "orientation": "h",
         "showlegend": true,
         "textposition": "auto",
         "type": "bar",
         "x": [
          0.5142,
          0.5323,
          0.5388,
          0.5256,
          0.5148,
          0.5216,
          0.5404,
          0.53,
          0.5374,
          0.5402,
          0.5394,
          0.5266,
          0.538,
          0.5237,
          0.5255,
          0.5272,
          0.5158,
          0.5301,
          0.5246,
          0.5267,
          0.5341,
          0.5404,
          0.5411,
          0.5164,
          0.5235,
          0.5424,
          0.5254
         ],
         "xaxis": "x",
         "y": [
          "Tocantins",
          "São Paulo",
          "Sergipe",
          "Santa Catarina",
          "Roraima",
          "Rondônia",
          "Rio de Janeiro",
          "Rio Grande do Sul",
          "Rio Grande do Norte",
          "Piauí",
          "Pernambuco",
          "Pará",
          "Paraíba",
          "Paraná",
          "Minas Gerais",
          "Mato Grosso do Sul",
          "Mato Grosso",
          "Maranhão",
          "Goiás",
          "Espírito Santo",
          "Distrito Federal",
          "Ceará",
          "Bahia",
          "Amazonas",
          "Amapá",
          "Alagoas",
          "Acre"
         ],
         "yaxis": "y"
        },
        {
         "alignmentgroup": "True",
         "hovertemplate": "Sexo=Homem<br>Proporção (%)=%{x}<br>Estado=%{y}<extra></extra>",
         "legendgroup": "Homem",
         "marker": {
          "color": "#3366CC",
          "pattern": {
           "shape": ""
          }
         },
         "name": "Homem",
         "offsetgroup": "Homem",
         "orientation": "h",
         "showlegend": true,
         "textposition": "auto",
         "type": "bar",
         "x": [
          0.4858,
          0.4677,
          0.4612,
          0.4744,
          0.4852,
          0.4784,
          0.4596,
          0.47,
          0.4626,
          0.4598,
          0.4606,
          0.4734,
          0.462,
          0.4763,
          0.4745,
          0.4728,
          0.4842,
          0.4699,
          0.4754,
          0.4733,
          0.4659,
          0.4596,
          0.4589,
          0.4836,
          0.4765,
          0.4576,
          0.4746
         ],
         "xaxis": "x",
         "y": [
          "Tocantins",
          "São Paulo",
          "Sergipe",
          "Santa Catarina",
          "Roraima",
          "Rondônia",
          "Rio de Janeiro",
          "Rio Grande do Sul",
          "Rio Grande do Norte",
          "Piauí",
          "Pernambuco",
          "Pará",
          "Paraíba",
          "Paraná",
          "Minas Gerais",
          "Mato Grosso do Sul",
          "Mato Grosso",
          "Maranhão",
          "Goiás",
          "Espírito Santo",
          "Distrito Federal",
          "Ceará",
          "Bahia",
          "Amazonas",
          "Amapá",
          "Alagoas",
          "Acre"
         ],
         "yaxis": "y"
        },
        {
         "alignmentgroup": "True",
         "hovertemplate": "Sexo=Mulher<br>Proporção (%)=%{x}<br>Estado=%{y}<extra></extra>",
         "legendgroup": "Mulher",
         "marker": {
          "color": "#DC3912",
          "pattern": {
           "shape": ""
          }
         },
         "name": "Mulher",
         "offsetgroup": "Mulher",
         "orientation": "h",
         "showlegend": true,
         "textposition": "auto",
         "type": "bar",
         "x": [
          0.463,
          0.4836,
          0.5055,
          0.4932,
          0.4717,
          0.4795,
          0.5043,
          0.4863,
          0.4964,
          0.4986,
          0.4974,
          0.4805,
          0.5074,
          0.4855,
          0.4849,
          0.4722,
          0.4694,
          0.5045,
          0.4761,
          0.4803,
          0.488,
          0.4899,
          0.5007,
          0.47,
          0.4649,
          0.4987,
          0.4727
         ],
         "xaxis": "x2",
         "y": [
          "Tocantins",
          "São Paulo",
          "Sergipe",
          "Santa Catarina",
          "Roraima",
          "Rondônia",
          "Rio de Janeiro",
          "Rio Grande do Sul",
          "Rio Grande do Norte",
          "Piauí",
          "Pernambuco",
          "Pará",
          "Paraíba",
          "Paraná",
          "Minas Gerais",
          "Mato Grosso do Sul",
          "Mato Grosso",
          "Maranhão",
          "Goiás",
          "Espírito Santo",
          "Distrito Federal",
          "Ceará",
          "Bahia",
          "Amazonas",
          "Amapá",
          "Alagoas",
          "Acre"
         ],
         "yaxis": "y2"
        },
        {
         "alignmentgroup": "True",
         "hovertemplate": "Sexo=Homem<br>Proporção (%)=%{x}<br>Estado=%{y}<extra></extra>",
         "legendgroup": "Homem",
         "marker": {
          "color": "#3366CC",
          "pattern": {
           "shape": ""
          }
         },
         "name": "Homem",
         "offsetgroup": "Homem",
         "orientation": "h",
         "showlegend": true,
         "textposition": "auto",
         "type": "bar",
         "x": [
          0.537,
          0.5164,
          0.4945,
          0.5068,
          0.5283,
          0.5205,
          0.4957,
          0.5137,
          0.5036,
          0.5014,
          0.5026,
          0.5195,
          0.4926,
          0.5145,
          0.5151,
          0.5278,
          0.5306,
          0.4955,
          0.5239,
          0.5197,
          0.512,
          0.5101,
          0.4993,
          0.53,
          0.5351,
          0.5013,
          0.5273
         ],
         "xaxis": "x2",
         "y": [
          "Tocantins",
          "São Paulo",
          "Sergipe",
          "Santa Catarina",
          "Roraima",
          "Rondônia",
          "Rio de Janeiro",
          "Rio Grande do Sul",
          "Rio Grande do Norte",
          "Piauí",
          "Pernambuco",
          "Pará",
          "Paraíba",
          "Paraná",
          "Minas Gerais",
          "Mato Grosso do Sul",
          "Mato Grosso",
          "Maranhão",
          "Goiás",
          "Espírito Santo",
          "Distrito Federal",
          "Ceará",
          "Bahia",
          "Amazonas",
          "Amapá",
          "Alagoas",
          "Acre"
         ],
         "yaxis": "y2"
        }
       ],
       "layout": {
        "annotations": [
         {
          "font": {
           "size": 16
          },
          "showarrow": false,
          "text": "Zona Urbana",
          "x": 0.225,
          "xanchor": "center",
          "xref": "paper",
          "y": 1,
          "yanchor": "bottom",
          "yref": "paper"
         },
         {
          "font": {
           "size": 16
          },
          "showarrow": false,
          "text": "Zona Rural",
          "x": 0.775,
          "xanchor": "center",
          "xref": "paper",
          "y": 1,
          "yanchor": "bottom",
          "yref": "paper"
         }
        ],
        "barmode": "stack",
        "height": 800,
        "shapes": [
         {
          "type": "line",
          "x0": 0.5,
          "x1": 0.5,
          "xref": "x",
          "y0": 0,
          "y1": 1,
          "yref": "y domain"
         },
         {
          "type": "line",
          "x0": 0.5,
          "x1": 0.5,
          "xref": "x2",
          "y0": 0,
          "y1": 1,
          "yref": "y2 domain"
         }
        ],
        "template": {
         "data": {
          "bar": [
           {
            "error_x": {
             "color": "#2a3f5f"
            },
            "error_y": {
             "color": "#2a3f5f"
            },
            "marker": {
             "line": {
              "color": "#E5ECF6",
              "width": 0.5
             },
             "pattern": {
              "fillmode": "overlay",
              "size": 10,
              "solidity": 0.2
             }
            },
            "type": "bar"
           }
          ],
          "barpolar": [
           {
            "marker": {
             "line": {
              "color": "#E5ECF6",
              "width": 0.5
             },
             "pattern": {
              "fillmode": "overlay",
              "size": 10,
              "solidity": 0.2
             }
            },
            "type": "barpolar"
           }
          ],
          "carpet": [
           {
            "aaxis": {
             "endlinecolor": "#2a3f5f",
             "gridcolor": "white",
             "linecolor": "white",
             "minorgridcolor": "white",
             "startlinecolor": "#2a3f5f"
            },
            "baxis": {
             "endlinecolor": "#2a3f5f",
             "gridcolor": "white",
             "linecolor": "white",
             "minorgridcolor": "white",
             "startlinecolor": "#2a3f5f"
            },
            "type": "carpet"
           }
          ],
          "choropleth": [
           {
            "colorbar": {
             "outlinewidth": 0,
             "ticks": ""
            },
            "type": "choropleth"
           }
          ],
          "contour": [
           {
            "colorbar": {
             "outlinewidth": 0,
             "ticks": ""
            },
            "colorscale": [
             [
              0,
              "#0d0887"
             ],
             [
              0.1111111111111111,
              "#46039f"
             ],
             [
              0.2222222222222222,
              "#7201a8"
             ],
             [
              0.3333333333333333,
              "#9c179e"
             ],
             [
              0.4444444444444444,
              "#bd3786"
             ],
             [
              0.5555555555555556,
              "#d8576b"
             ],
             [
              0.6666666666666666,
              "#ed7953"
             ],
             [
              0.7777777777777778,
              "#fb9f3a"
             ],
             [
              0.8888888888888888,
              "#fdca26"
             ],
             [
              1,
              "#f0f921"
             ]
            ],
            "type": "contour"
           }
          ],
          "contourcarpet": [
           {
            "colorbar": {
             "outlinewidth": 0,
             "ticks": ""
            },
            "type": "contourcarpet"
           }
          ],
          "heatmap": [
           {
            "colorbar": {
             "outlinewidth": 0,
             "ticks": ""
            },
            "colorscale": [
             [
              0,
              "#0d0887"
             ],
             [
              0.1111111111111111,
              "#46039f"
             ],
             [
              0.2222222222222222,
              "#7201a8"
             ],
             [
              0.3333333333333333,
              "#9c179e"
             ],
             [
              0.4444444444444444,
              "#bd3786"
             ],
             [
              0.5555555555555556,
              "#d8576b"
             ],
             [
              0.6666666666666666,
              "#ed7953"
             ],
             [
              0.7777777777777778,
              "#fb9f3a"
             ],
             [
              0.8888888888888888,
              "#fdca26"
             ],
             [
              1,
              "#f0f921"
             ]
            ],
            "type": "heatmap"
           }
          ],
          "heatmapgl": [
           {
            "colorbar": {
             "outlinewidth": 0,
             "ticks": ""
            },
            "colorscale": [
             [
              0,
              "#0d0887"
             ],
             [
              0.1111111111111111,
              "#46039f"
             ],
             [
              0.2222222222222222,
              "#7201a8"
             ],
             [
              0.3333333333333333,
              "#9c179e"
             ],
             [
              0.4444444444444444,
              "#bd3786"
             ],
             [
              0.5555555555555556,
              "#d8576b"
             ],
             [
              0.6666666666666666,
              "#ed7953"
             ],
             [
              0.7777777777777778,
              "#fb9f3a"
             ],
             [
              0.8888888888888888,
              "#fdca26"
             ],
             [
              1,
              "#f0f921"
             ]
            ],
            "type": "heatmapgl"
           }
          ],
          "histogram": [
           {
            "marker": {
             "pattern": {
              "fillmode": "overlay",
              "size": 10,
              "solidity": 0.2
             }
            },
            "type": "histogram"
           }
          ],
          "histogram2d": [
           {
            "colorbar": {
             "outlinewidth": 0,
             "ticks": ""
            },
            "colorscale": [
             [
              0,
              "#0d0887"
             ],
             [
              0.1111111111111111,
              "#46039f"
             ],
             [
              0.2222222222222222,
              "#7201a8"
             ],
             [
              0.3333333333333333,
              "#9c179e"
             ],
             [
              0.4444444444444444,
              "#bd3786"
             ],
             [
              0.5555555555555556,
              "#d8576b"
             ],
             [
              0.6666666666666666,
              "#ed7953"
             ],
             [
              0.7777777777777778,
              "#fb9f3a"
             ],
             [
              0.8888888888888888,
              "#fdca26"
             ],
             [
              1,
              "#f0f921"
             ]
            ],
            "type": "histogram2d"
           }
          ],
          "histogram2dcontour": [
           {
            "colorbar": {
             "outlinewidth": 0,
             "ticks": ""
            },
            "colorscale": [
             [
              0,
              "#0d0887"
             ],
             [
              0.1111111111111111,
              "#46039f"
             ],
             [
              0.2222222222222222,
              "#7201a8"
             ],
             [
              0.3333333333333333,
              "#9c179e"
             ],
             [
              0.4444444444444444,
              "#bd3786"
             ],
             [
              0.5555555555555556,
              "#d8576b"
             ],
             [
              0.6666666666666666,
              "#ed7953"
             ],
             [
              0.7777777777777778,
              "#fb9f3a"
             ],
             [
              0.8888888888888888,
              "#fdca26"
             ],
             [
              1,
              "#f0f921"
             ]
            ],
            "type": "histogram2dcontour"
           }
          ],
          "mesh3d": [
           {
            "colorbar": {
             "outlinewidth": 0,
             "ticks": ""
            },
            "type": "mesh3d"
           }
          ],
          "parcoords": [
           {
            "line": {
             "colorbar": {
              "outlinewidth": 0,
              "ticks": ""
             }
            },
            "type": "parcoords"
           }
          ],
          "pie": [
           {
            "automargin": true,
            "type": "pie"
           }
          ],
          "scatter": [
           {
            "fillpattern": {
             "fillmode": "overlay",
             "size": 10,
             "solidity": 0.2
            },
            "type": "scatter"
           }
          ],
          "scatter3d": [
           {
            "line": {
             "colorbar": {
              "outlinewidth": 0,
              "ticks": ""
             }
            },
            "marker": {
             "colorbar": {
              "outlinewidth": 0,
              "ticks": ""
             }
            },
            "type": "scatter3d"
           }
          ],
          "scattercarpet": [
           {
            "marker": {
             "colorbar": {
              "outlinewidth": 0,
              "ticks": ""
             }
            },
            "type": "scattercarpet"
           }
          ],
          "scattergeo": [
           {
            "marker": {
             "colorbar": {
              "outlinewidth": 0,
              "ticks": ""
             }
            },
            "type": "scattergeo"
           }
          ],
          "scattergl": [
           {
            "marker": {
             "colorbar": {
              "outlinewidth": 0,
              "ticks": ""
             }
            },
            "type": "scattergl"
           }
          ],
          "scattermapbox": [
           {
            "marker": {
             "colorbar": {
              "outlinewidth": 0,
              "ticks": ""
             }
            },
            "type": "scattermapbox"
           }
          ],
          "scatterpolar": [
           {
            "marker": {
             "colorbar": {
              "outlinewidth": 0,
              "ticks": ""
             }
            },
            "type": "scatterpolar"
           }
          ],
          "scatterpolargl": [
           {
            "marker": {
             "colorbar": {
              "outlinewidth": 0,
              "ticks": ""
             }
            },
            "type": "scatterpolargl"
           }
          ],
          "scatterternary": [
           {
            "marker": {
             "colorbar": {
              "outlinewidth": 0,
              "ticks": ""
             }
            },
            "type": "scatterternary"
           }
          ],
          "surface": [
           {
            "colorbar": {
             "outlinewidth": 0,
             "ticks": ""
            },
            "colorscale": [
             [
              0,
              "#0d0887"
             ],
             [
              0.1111111111111111,
              "#46039f"
             ],
             [
              0.2222222222222222,
              "#7201a8"
             ],
             [
              0.3333333333333333,
              "#9c179e"
             ],
             [
              0.4444444444444444,
              "#bd3786"
             ],
             [
              0.5555555555555556,
              "#d8576b"
             ],
             [
              0.6666666666666666,
              "#ed7953"
             ],
             [
              0.7777777777777778,
              "#fb9f3a"
             ],
             [
              0.8888888888888888,
              "#fdca26"
             ],
             [
              1,
              "#f0f921"
             ]
            ],
            "type": "surface"
           }
          ],
          "table": [
           {
            "cells": {
             "fill": {
              "color": "#EBF0F8"
             },
             "line": {
              "color": "white"
             }
            },
            "header": {
             "fill": {
              "color": "#C8D4E3"
             },
             "line": {
              "color": "white"
             }
            },
            "type": "table"
           }
          ]
         },
         "layout": {
          "annotationdefaults": {
           "arrowcolor": "#2a3f5f",
           "arrowhead": 0,
           "arrowwidth": 1
          },
          "autotypenumbers": "strict",
          "coloraxis": {
           "colorbar": {
            "outlinewidth": 0,
            "ticks": ""
           }
          },
          "colorscale": {
           "diverging": [
            [
             0,
             "#8e0152"
            ],
            [
             0.1,
             "#c51b7d"
            ],
            [
             0.2,
             "#de77ae"
            ],
            [
             0.3,
             "#f1b6da"
            ],
            [
             0.4,
             "#fde0ef"
            ],
            [
             0.5,
             "#f7f7f7"
            ],
            [
             0.6,
             "#e6f5d0"
            ],
            [
             0.7,
             "#b8e186"
            ],
            [
             0.8,
             "#7fbc41"
            ],
            [
             0.9,
             "#4d9221"
            ],
            [
             1,
             "#276419"
            ]
           ],
           "sequential": [
            [
             0,
             "#0d0887"
            ],
            [
             0.1111111111111111,
             "#46039f"
            ],
            [
             0.2222222222222222,
             "#7201a8"
            ],
            [
             0.3333333333333333,
             "#9c179e"
            ],
            [
             0.4444444444444444,
             "#bd3786"
            ],
            [
             0.5555555555555556,
             "#d8576b"
            ],
            [
             0.6666666666666666,
             "#ed7953"
            ],
            [
             0.7777777777777778,
             "#fb9f3a"
            ],
            [
             0.8888888888888888,
             "#fdca26"
            ],
            [
             1,
             "#f0f921"
            ]
           ],
           "sequentialminus": [
            [
             0,
             "#0d0887"
            ],
            [
             0.1111111111111111,
             "#46039f"
            ],
            [
             0.2222222222222222,
             "#7201a8"
            ],
            [
             0.3333333333333333,
             "#9c179e"
            ],
            [
             0.4444444444444444,
             "#bd3786"
            ],
            [
             0.5555555555555556,
             "#d8576b"
            ],
            [
             0.6666666666666666,
             "#ed7953"
            ],
            [
             0.7777777777777778,
             "#fb9f3a"
            ],
            [
             0.8888888888888888,
             "#fdca26"
            ],
            [
             1,
             "#f0f921"
            ]
           ]
          },
          "colorway": [
           "#636efa",
           "#EF553B",
           "#00cc96",
           "#ab63fa",
           "#FFA15A",
           "#19d3f3",
           "#FF6692",
           "#B6E880",
           "#FF97FF",
           "#FECB52"
          ],
          "font": {
           "color": "#2a3f5f"
          },
          "geo": {
           "bgcolor": "white",
           "lakecolor": "white",
           "landcolor": "#E5ECF6",
           "showlakes": true,
           "showland": true,
           "subunitcolor": "white"
          },
          "hoverlabel": {
           "align": "left"
          },
          "hovermode": "closest",
          "mapbox": {
           "style": "light"
          },
          "paper_bgcolor": "white",
          "plot_bgcolor": "#E5ECF6",
          "polar": {
           "angularaxis": {
            "gridcolor": "white",
            "linecolor": "white",
            "ticks": ""
           },
           "bgcolor": "#E5ECF6",
           "radialaxis": {
            "gridcolor": "white",
            "linecolor": "white",
            "ticks": ""
           }
          },
          "scene": {
           "xaxis": {
            "backgroundcolor": "#E5ECF6",
            "gridcolor": "white",
            "gridwidth": 2,
            "linecolor": "white",
            "showbackground": true,
            "ticks": "",
            "zerolinecolor": "white"
           },
           "yaxis": {
            "backgroundcolor": "#E5ECF6",
            "gridcolor": "white",
            "gridwidth": 2,
            "linecolor": "white",
            "showbackground": true,
            "ticks": "",
            "zerolinecolor": "white"
           },
           "zaxis": {
            "backgroundcolor": "#E5ECF6",
            "gridcolor": "white",
            "gridwidth": 2,
            "linecolor": "white",
            "showbackground": true,
            "ticks": "",
            "zerolinecolor": "white"
           }
          },
          "shapedefaults": {
           "line": {
            "color": "#2a3f5f"
           }
          },
          "ternary": {
           "aaxis": {
            "gridcolor": "white",
            "linecolor": "white",
            "ticks": ""
           },
           "baxis": {
            "gridcolor": "white",
            "linecolor": "white",
            "ticks": ""
           },
           "bgcolor": "#E5ECF6",
           "caxis": {
            "gridcolor": "white",
            "linecolor": "white",
            "ticks": ""
           }
          },
          "title": {
           "x": 0.05
          },
          "xaxis": {
           "automargin": true,
           "gridcolor": "white",
           "linecolor": "white",
           "ticks": "",
           "title": {
            "standoff": 15
           },
           "zerolinecolor": "white",
           "zerolinewidth": 2
          },
          "yaxis": {
           "automargin": true,
           "gridcolor": "white",
           "linecolor": "white",
           "ticks": "",
           "title": {
            "standoff": 15
           },
           "zerolinecolor": "white",
           "zerolinewidth": 2
          }
         }
        },
        "title": {
         "text": "Distribuição da população da pesquisa de acordo com zona de moradia e sexo<br>PNAD COVID-19",
         "x": 0.5
        },
        "width": 1600,
        "xaxis": {
         "anchor": "y",
         "domain": [
          0,
          0.45
         ]
        },
        "xaxis2": {
         "anchor": "y2",
         "domain": [
          0.55,
          1
         ]
        },
        "yaxis": {
         "anchor": "x",
         "domain": [
          0,
          1
         ]
        },
        "yaxis2": {
         "anchor": "x2",
         "domain": [
          0,
          1
         ]
        }
       }
      }
     },
     "metadata": {},
     "output_type": "display_data"
    }
   ],
   "source": [
    "fig_urbana = px.bar(df_results.loc[df_results['zona_moradia'] == 'Urbana'].sort_values(by='uf', ascending=False), x=\"proportion\", y=\"uf\", color=\"sexo\", title=\"Ditribuição da população por sexo (Zona Urbana)\",\n",
    "            color_discrete_sequence=[px.colors.qualitative.G10[1], px.colors.qualitative.G10[0]],height=800, width=600, labels=dict(uf=\"Estado\", sexo=\"Sexo\", proportion=\"Proporção (%)\"))\n",
    "\n",
    "fig_urbana.update_layout(title_x=0.5, showlegend=False)\n",
    "fig_urbana.add_vline(x=0.5)\n",
    "\n",
    "\n",
    "fig_rural = px.bar(df_results.loc[df_results['zona_moradia'] == 'Rural'].sort_values(by='uf', ascending=False), x=\"proportion\", y=\"uf\", color=\"sexo\", title=\"Ditribuição da população por sexo (Zona Rural)\",\n",
    "            color_discrete_sequence=[px.colors.qualitative.G10[1], px.colors.qualitative.G10[0]],height=800, width=600, labels=dict(uf=\"Estado\", sexo=\"Sexo\", proportion=\"Proporção (%)\"))\n",
    "\n",
    "fig_rural.update_layout(title_x=0.5, showlegend=False)\n",
    "fig_rural.add_vline(x=0.5)\n",
    "\n",
    "fig = make_subplots(rows=1, cols=2, shared_xaxes=True, subplot_titles=[\"Zona Urbana\",\"Zona Rural\"])\n",
    "\n",
    "# Add the first scatter plot to the first subplot\n",
    "fig.add_trace(fig_urbana['data'][0], row=1, col=1)\n",
    "fig.add_trace(fig_urbana['data'][1], row=1, col=1)\n",
    "\n",
    "\n",
    "# Add the second scatter plot to the second subplot\n",
    "fig.add_trace(fig_rural['data'][0], row=1, col=2)\n",
    "fig.add_trace(fig_rural['data'][1], row=1, col=2)\n",
    "fig.update_layout(barmode='stack', width=1600, height=800, title='Distribuição da população da pesquisa de acordo com zona de moradia e sexo<br>PNAD COVID-19', title_x=0.5)\n",
    "fig.add_vline(x=0.5)\n",
    "\n",
    "title_name = fig['layout']['title']['text']\n",
    "title_name = title_name.replace('<br>PNAD COVID-19','')\n",
    "\n",
    "plotly.offline.plot(fig, filename = f'./plots/{title_name}.html', auto_play=False, auto_open=False)\n",
    "\n",
    "fig.show()"
   ]
  },
  {
   "cell_type": "markdown",
   "metadata": {},
   "source": [
    "Comparando a distribuição de homens e mulheres de acordo com a situação do domicílio (zona urbana ou rural), é perceptível uma tendência de maior presença de mulheres nas zonas urbanas e, por outro lado, uma predominância de homens nas zonas rurais de praticamente todos os estados brasileiros.\n",
    "\n",
    "Possivelmente, isso está associado às atividades braçais presentes no campo e que são majoritariamente executadas por homens.\n",
    "\n",
    "Do ponto de vista do COVID-19, esta análise indica que as mulheres estão mais presentes em regiões com grande concentração e circulação de pessoas e por esse motivo podem estar mais suscetíveis à infecção."
   ]
  },
  {
   "cell_type": "markdown",
   "metadata": {},
   "source": [
    "# Distribuição da população de acordo com tipo de área (Capital, RM ou Interior)"
   ]
  },
  {
   "cell_type": "code",
   "execution_count": 6,
   "metadata": {},
   "outputs": [],
   "source": [
    "query_sql =f'''SELECT uf,\n",
    "            (CASE\n",
    "                  WHEN regiao_moradia = 1 THEN 1\n",
    "                  WHEN regiao_moradia = 2 THEN 2\n",
    "                  WHEN regiao_moradia = 3 THEN 2\n",
    "                  WHEN regiao_moradia = 4 THEN 4\n",
    "            END) as new_regiao_moradia,\n",
    "            COUNT(CASE\n",
    "                  WHEN regiao_moradia = 1 THEN 1\n",
    "                  WHEN regiao_moradia = 2 THEN 2\n",
    "                  WHEN regiao_moradia = 3 THEN 2\n",
    "                  WHEN regiao_moradia = 4 THEN 4\n",
    "            END) as n_regiao_moradia\n",
    "\n",
    "            FROM `{dataset_id}.{table_id}`\n",
    "\n",
    "            GROUP BY uf, new_regiao_moradia\n",
    "            ORDER BY uf, new_regiao_moradia\n",
    "            '''\n",
    "\n",
    "query_job = client.query(query_sql)\n",
    "df_results = query_job.to_dataframe()"
   ]
  },
  {
   "cell_type": "code",
   "execution_count": 7,
   "metadata": {},
   "outputs": [
    {
     "data": {
      "text/html": [
       "<div>\n",
       "<style scoped>\n",
       "    .dataframe tbody tr th:only-of-type {\n",
       "        vertical-align: middle;\n",
       "    }\n",
       "\n",
       "    .dataframe tbody tr th {\n",
       "        vertical-align: top;\n",
       "    }\n",
       "\n",
       "    .dataframe thead th {\n",
       "        text-align: right;\n",
       "    }\n",
       "</style>\n",
       "<table border=\"1\" class=\"dataframe\">\n",
       "  <thead>\n",
       "    <tr style=\"text-align: right;\">\n",
       "      <th></th>\n",
       "      <th>uf</th>\n",
       "      <th>new_regiao_moradia</th>\n",
       "      <th>n_regiao_moradia</th>\n",
       "    </tr>\n",
       "  </thead>\n",
       "  <tbody>\n",
       "    <tr>\n",
       "      <th>0</th>\n",
       "      <td>Rondônia</td>\n",
       "      <td>Capital</td>\n",
       "      <td>6062</td>\n",
       "    </tr>\n",
       "    <tr>\n",
       "      <th>1</th>\n",
       "      <td>Rondônia</td>\n",
       "      <td>Outras regiões</td>\n",
       "      <td>10560</td>\n",
       "    </tr>\n",
       "    <tr>\n",
       "      <th>2</th>\n",
       "      <td>Acre</td>\n",
       "      <td>Capital</td>\n",
       "      <td>11498</td>\n",
       "    </tr>\n",
       "    <tr>\n",
       "      <th>3</th>\n",
       "      <td>Acre</td>\n",
       "      <td>Outras regiões</td>\n",
       "      <td>7336</td>\n",
       "    </tr>\n",
       "    <tr>\n",
       "      <th>4</th>\n",
       "      <td>Amazonas</td>\n",
       "      <td>Capital</td>\n",
       "      <td>16567</td>\n",
       "    </tr>\n",
       "  </tbody>\n",
       "</table>\n",
       "</div>"
      ],
      "text/plain": [
       "         uf new_regiao_moradia  n_regiao_moradia\n",
       "0  Rondônia            Capital              6062\n",
       "1  Rondônia     Outras regiões             10560\n",
       "2      Acre            Capital             11498\n",
       "3      Acre     Outras regiões              7336\n",
       "4  Amazonas            Capital             16567"
      ]
     },
     "execution_count": 7,
     "metadata": {},
     "output_type": "execute_result"
    }
   ],
   "source": [
    "df_results['uf'] = df_results['uf'].astype(str).replace(dict_uf)\n",
    "df_results['new_regiao_moradia'] = df_results['new_regiao_moradia'].astype(str).replace(dict_regiao_moradia)\n",
    "df_results.head()"
   ]
  },
  {
   "cell_type": "code",
   "execution_count": 8,
   "metadata": {},
   "outputs": [
    {
     "data": {
      "application/vnd.plotly.v1+json": {
       "config": {
        "plotlyServerURL": "https://plot.ly"
       },
       "data": [
        {
         "alignmentgroup": "True",
         "hovertemplate": "Região de moradia=Outras regiões<br>Estado=%{x}<br>Nº de entrevistados=%{y}<extra></extra>",
         "legendgroup": "Outras regiões",
         "marker": {
          "color": "#636efa",
          "pattern": {
           "shape": ""
          }
         },
         "name": "Outras regiões",
         "offsetgroup": "Outras regiões",
         "orientation": "v",
         "showlegend": true,
         "textposition": "auto",
         "type": "bar",
         "x": [
          "Minas Gerais",
          "Santa Catarina",
          "São Paulo",
          "Maranhão",
          "Rio Grande do Sul",
          "Bahia",
          "Paraná",
          "Ceará",
          "Pernambuco",
          "Rio de Janeiro",
          "Alagoas",
          "Espírito Santo",
          "Pará",
          "Mato Grosso",
          "Goiás",
          "Paraíba",
          "Mato Grosso do Sul",
          "Sergipe",
          "Piauí",
          "Rio Grande do Norte",
          "Tocantins",
          "Amazonas",
          "Rondônia",
          "Acre",
          "Roraima",
          "Amapá"
         ],
         "xaxis": "x",
         "y": [
          73311,
          60861,
          59861,
          50702,
          44522,
          40278,
          39953,
          36364,
          30240,
          28815,
          25787,
          25339,
          25077,
          24851,
          19213,
          18589,
          17580,
          16087,
          16064,
          14041,
          12409,
          11588,
          10560,
          7336,
          5069,
          1263
         ],
         "yaxis": "y"
        },
        {
         "alignmentgroup": "True",
         "hovertemplate": "Região de moradia=Região Metropolitana<br>Estado=%{x}<br>Nº de entrevistados=%{y}<extra></extra>",
         "legendgroup": "Região Metropolitana",
         "marker": {
          "color": "#EF553B",
          "pattern": {
           "shape": ""
          }
         },
         "name": "Região Metropolitana",
         "offsetgroup": "Região Metropolitana",
         "orientation": "v",
         "showlegend": true,
         "textposition": "auto",
         "type": "bar",
         "x": [
          "Rio de Janeiro",
          "Espírito Santo",
          "São Paulo",
          "Minas Gerais",
          "Pernambuco",
          "Rio Grande do Sul",
          "Goiás",
          "Paraná",
          "Ceará",
          "Santa Catarina",
          "Maranhão",
          "Pará",
          "Rio Grande do Norte",
          "Bahia",
          "Paraíba",
          "Mato Grosso",
          "Amazonas",
          "Sergipe",
          "Piauí",
          "Alagoas",
          "Amapá"
         ],
         "xaxis": "x",
         "y": [
          29880,
          16375,
          16214,
          14321,
          12302,
          12217,
          11499,
          7063,
          4678,
          4413,
          4107,
          3743,
          3675,
          3645,
          3640,
          3343,
          3200,
          2626,
          2384,
          1814,
          1672
         ],
         "yaxis": "y"
        },
        {
         "alignmentgroup": "True",
         "hovertemplate": "Região de moradia=Capital<br>Estado=%{x}<br>Nº de entrevistados=%{y}<extra></extra>",
         "legendgroup": "Capital",
         "marker": {
          "color": "#00cc96",
          "pattern": {
           "shape": ""
          }
         },
         "name": "Capital",
         "offsetgroup": "Capital",
         "orientation": "v",
         "showlegend": true,
         "textposition": "auto",
         "type": "bar",
         "x": [
          "Rio de Janeiro",
          "São Paulo",
          "Distrito Federal",
          "Amazonas",
          "Minas Gerais",
          "Paraná",
          "Roraima",
          "Acre",
          "Goiás",
          "Rio Grande do Sul",
          "Ceará",
          "Mato Grosso do Sul",
          "Pernambuco",
          "Paraíba",
          "Bahia",
          "Pará",
          "Alagoas",
          "Piauí",
          "Maranhão",
          "Rondônia",
          "Mato Grosso",
          "Rio Grande do Norte",
          "Espírito Santo",
          "Santa Catarina",
          "Sergipe",
          "Amapá",
          "Tocantins"
         ],
         "xaxis": "x",
         "y": [
          28710,
          21946,
          19906,
          16567,
          15464,
          12968,
          11605,
          11498,
          11265,
          9707,
          9494,
          8854,
          8269,
          7458,
          7387,
          6944,
          6849,
          6689,
          6391,
          6062,
          5962,
          5836,
          5797,
          5716,
          5503,
          4742,
          3037
         ],
         "yaxis": "y"
        }
       ],
       "layout": {
        "barmode": "relative",
        "height": 700,
        "legend": {
         "title": {
          "text": "Região de moradia"
         },
         "tracegroupgap": 0,
         "traceorder": "reversed"
        },
        "template": {
         "data": {
          "bar": [
           {
            "error_x": {
             "color": "#2a3f5f"
            },
            "error_y": {
             "color": "#2a3f5f"
            },
            "marker": {
             "line": {
              "color": "#E5ECF6",
              "width": 0.5
             },
             "pattern": {
              "fillmode": "overlay",
              "size": 10,
              "solidity": 0.2
             }
            },
            "type": "bar"
           }
          ],
          "barpolar": [
           {
            "marker": {
             "line": {
              "color": "#E5ECF6",
              "width": 0.5
             },
             "pattern": {
              "fillmode": "overlay",
              "size": 10,
              "solidity": 0.2
             }
            },
            "type": "barpolar"
           }
          ],
          "carpet": [
           {
            "aaxis": {
             "endlinecolor": "#2a3f5f",
             "gridcolor": "white",
             "linecolor": "white",
             "minorgridcolor": "white",
             "startlinecolor": "#2a3f5f"
            },
            "baxis": {
             "endlinecolor": "#2a3f5f",
             "gridcolor": "white",
             "linecolor": "white",
             "minorgridcolor": "white",
             "startlinecolor": "#2a3f5f"
            },
            "type": "carpet"
           }
          ],
          "choropleth": [
           {
            "colorbar": {
             "outlinewidth": 0,
             "ticks": ""
            },
            "type": "choropleth"
           }
          ],
          "contour": [
           {
            "colorbar": {
             "outlinewidth": 0,
             "ticks": ""
            },
            "colorscale": [
             [
              0,
              "#0d0887"
             ],
             [
              0.1111111111111111,
              "#46039f"
             ],
             [
              0.2222222222222222,
              "#7201a8"
             ],
             [
              0.3333333333333333,
              "#9c179e"
             ],
             [
              0.4444444444444444,
              "#bd3786"
             ],
             [
              0.5555555555555556,
              "#d8576b"
             ],
             [
              0.6666666666666666,
              "#ed7953"
             ],
             [
              0.7777777777777778,
              "#fb9f3a"
             ],
             [
              0.8888888888888888,
              "#fdca26"
             ],
             [
              1,
              "#f0f921"
             ]
            ],
            "type": "contour"
           }
          ],
          "contourcarpet": [
           {
            "colorbar": {
             "outlinewidth": 0,
             "ticks": ""
            },
            "type": "contourcarpet"
           }
          ],
          "heatmap": [
           {
            "colorbar": {
             "outlinewidth": 0,
             "ticks": ""
            },
            "colorscale": [
             [
              0,
              "#0d0887"
             ],
             [
              0.1111111111111111,
              "#46039f"
             ],
             [
              0.2222222222222222,
              "#7201a8"
             ],
             [
              0.3333333333333333,
              "#9c179e"
             ],
             [
              0.4444444444444444,
              "#bd3786"
             ],
             [
              0.5555555555555556,
              "#d8576b"
             ],
             [
              0.6666666666666666,
              "#ed7953"
             ],
             [
              0.7777777777777778,
              "#fb9f3a"
             ],
             [
              0.8888888888888888,
              "#fdca26"
             ],
             [
              1,
              "#f0f921"
             ]
            ],
            "type": "heatmap"
           }
          ],
          "heatmapgl": [
           {
            "colorbar": {
             "outlinewidth": 0,
             "ticks": ""
            },
            "colorscale": [
             [
              0,
              "#0d0887"
             ],
             [
              0.1111111111111111,
              "#46039f"
             ],
             [
              0.2222222222222222,
              "#7201a8"
             ],
             [
              0.3333333333333333,
              "#9c179e"
             ],
             [
              0.4444444444444444,
              "#bd3786"
             ],
             [
              0.5555555555555556,
              "#d8576b"
             ],
             [
              0.6666666666666666,
              "#ed7953"
             ],
             [
              0.7777777777777778,
              "#fb9f3a"
             ],
             [
              0.8888888888888888,
              "#fdca26"
             ],
             [
              1,
              "#f0f921"
             ]
            ],
            "type": "heatmapgl"
           }
          ],
          "histogram": [
           {
            "marker": {
             "pattern": {
              "fillmode": "overlay",
              "size": 10,
              "solidity": 0.2
             }
            },
            "type": "histogram"
           }
          ],
          "histogram2d": [
           {
            "colorbar": {
             "outlinewidth": 0,
             "ticks": ""
            },
            "colorscale": [
             [
              0,
              "#0d0887"
             ],
             [
              0.1111111111111111,
              "#46039f"
             ],
             [
              0.2222222222222222,
              "#7201a8"
             ],
             [
              0.3333333333333333,
              "#9c179e"
             ],
             [
              0.4444444444444444,
              "#bd3786"
             ],
             [
              0.5555555555555556,
              "#d8576b"
             ],
             [
              0.6666666666666666,
              "#ed7953"
             ],
             [
              0.7777777777777778,
              "#fb9f3a"
             ],
             [
              0.8888888888888888,
              "#fdca26"
             ],
             [
              1,
              "#f0f921"
             ]
            ],
            "type": "histogram2d"
           }
          ],
          "histogram2dcontour": [
           {
            "colorbar": {
             "outlinewidth": 0,
             "ticks": ""
            },
            "colorscale": [
             [
              0,
              "#0d0887"
             ],
             [
              0.1111111111111111,
              "#46039f"
             ],
             [
              0.2222222222222222,
              "#7201a8"
             ],
             [
              0.3333333333333333,
              "#9c179e"
             ],
             [
              0.4444444444444444,
              "#bd3786"
             ],
             [
              0.5555555555555556,
              "#d8576b"
             ],
             [
              0.6666666666666666,
              "#ed7953"
             ],
             [
              0.7777777777777778,
              "#fb9f3a"
             ],
             [
              0.8888888888888888,
              "#fdca26"
             ],
             [
              1,
              "#f0f921"
             ]
            ],
            "type": "histogram2dcontour"
           }
          ],
          "mesh3d": [
           {
            "colorbar": {
             "outlinewidth": 0,
             "ticks": ""
            },
            "type": "mesh3d"
           }
          ],
          "parcoords": [
           {
            "line": {
             "colorbar": {
              "outlinewidth": 0,
              "ticks": ""
             }
            },
            "type": "parcoords"
           }
          ],
          "pie": [
           {
            "automargin": true,
            "type": "pie"
           }
          ],
          "scatter": [
           {
            "fillpattern": {
             "fillmode": "overlay",
             "size": 10,
             "solidity": 0.2
            },
            "type": "scatter"
           }
          ],
          "scatter3d": [
           {
            "line": {
             "colorbar": {
              "outlinewidth": 0,
              "ticks": ""
             }
            },
            "marker": {
             "colorbar": {
              "outlinewidth": 0,
              "ticks": ""
             }
            },
            "type": "scatter3d"
           }
          ],
          "scattercarpet": [
           {
            "marker": {
             "colorbar": {
              "outlinewidth": 0,
              "ticks": ""
             }
            },
            "type": "scattercarpet"
           }
          ],
          "scattergeo": [
           {
            "marker": {
             "colorbar": {
              "outlinewidth": 0,
              "ticks": ""
             }
            },
            "type": "scattergeo"
           }
          ],
          "scattergl": [
           {
            "marker": {
             "colorbar": {
              "outlinewidth": 0,
              "ticks": ""
             }
            },
            "type": "scattergl"
           }
          ],
          "scattermapbox": [
           {
            "marker": {
             "colorbar": {
              "outlinewidth": 0,
              "ticks": ""
             }
            },
            "type": "scattermapbox"
           }
          ],
          "scatterpolar": [
           {
            "marker": {
             "colorbar": {
              "outlinewidth": 0,
              "ticks": ""
             }
            },
            "type": "scatterpolar"
           }
          ],
          "scatterpolargl": [
           {
            "marker": {
             "colorbar": {
              "outlinewidth": 0,
              "ticks": ""
             }
            },
            "type": "scatterpolargl"
           }
          ],
          "scatterternary": [
           {
            "marker": {
             "colorbar": {
              "outlinewidth": 0,
              "ticks": ""
             }
            },
            "type": "scatterternary"
           }
          ],
          "surface": [
           {
            "colorbar": {
             "outlinewidth": 0,
             "ticks": ""
            },
            "colorscale": [
             [
              0,
              "#0d0887"
             ],
             [
              0.1111111111111111,
              "#46039f"
             ],
             [
              0.2222222222222222,
              "#7201a8"
             ],
             [
              0.3333333333333333,
              "#9c179e"
             ],
             [
              0.4444444444444444,
              "#bd3786"
             ],
             [
              0.5555555555555556,
              "#d8576b"
             ],
             [
              0.6666666666666666,
              "#ed7953"
             ],
             [
              0.7777777777777778,
              "#fb9f3a"
             ],
             [
              0.8888888888888888,
              "#fdca26"
             ],
             [
              1,
              "#f0f921"
             ]
            ],
            "type": "surface"
           }
          ],
          "table": [
           {
            "cells": {
             "fill": {
              "color": "#EBF0F8"
             },
             "line": {
              "color": "white"
             }
            },
            "header": {
             "fill": {
              "color": "#C8D4E3"
             },
             "line": {
              "color": "white"
             }
            },
            "type": "table"
           }
          ]
         },
         "layout": {
          "annotationdefaults": {
           "arrowcolor": "#2a3f5f",
           "arrowhead": 0,
           "arrowwidth": 1
          },
          "autotypenumbers": "strict",
          "coloraxis": {
           "colorbar": {
            "outlinewidth": 0,
            "ticks": ""
           }
          },
          "colorscale": {
           "diverging": [
            [
             0,
             "#8e0152"
            ],
            [
             0.1,
             "#c51b7d"
            ],
            [
             0.2,
             "#de77ae"
            ],
            [
             0.3,
             "#f1b6da"
            ],
            [
             0.4,
             "#fde0ef"
            ],
            [
             0.5,
             "#f7f7f7"
            ],
            [
             0.6,
             "#e6f5d0"
            ],
            [
             0.7,
             "#b8e186"
            ],
            [
             0.8,
             "#7fbc41"
            ],
            [
             0.9,
             "#4d9221"
            ],
            [
             1,
             "#276419"
            ]
           ],
           "sequential": [
            [
             0,
             "#0d0887"
            ],
            [
             0.1111111111111111,
             "#46039f"
            ],
            [
             0.2222222222222222,
             "#7201a8"
            ],
            [
             0.3333333333333333,
             "#9c179e"
            ],
            [
             0.4444444444444444,
             "#bd3786"
            ],
            [
             0.5555555555555556,
             "#d8576b"
            ],
            [
             0.6666666666666666,
             "#ed7953"
            ],
            [
             0.7777777777777778,
             "#fb9f3a"
            ],
            [
             0.8888888888888888,
             "#fdca26"
            ],
            [
             1,
             "#f0f921"
            ]
           ],
           "sequentialminus": [
            [
             0,
             "#0d0887"
            ],
            [
             0.1111111111111111,
             "#46039f"
            ],
            [
             0.2222222222222222,
             "#7201a8"
            ],
            [
             0.3333333333333333,
             "#9c179e"
            ],
            [
             0.4444444444444444,
             "#bd3786"
            ],
            [
             0.5555555555555556,
             "#d8576b"
            ],
            [
             0.6666666666666666,
             "#ed7953"
            ],
            [
             0.7777777777777778,
             "#fb9f3a"
            ],
            [
             0.8888888888888888,
             "#fdca26"
            ],
            [
             1,
             "#f0f921"
            ]
           ]
          },
          "colorway": [
           "#636efa",
           "#EF553B",
           "#00cc96",
           "#ab63fa",
           "#FFA15A",
           "#19d3f3",
           "#FF6692",
           "#B6E880",
           "#FF97FF",
           "#FECB52"
          ],
          "font": {
           "color": "#2a3f5f"
          },
          "geo": {
           "bgcolor": "white",
           "lakecolor": "white",
           "landcolor": "#E5ECF6",
           "showlakes": true,
           "showland": true,
           "subunitcolor": "white"
          },
          "hoverlabel": {
           "align": "left"
          },
          "hovermode": "closest",
          "mapbox": {
           "style": "light"
          },
          "paper_bgcolor": "white",
          "plot_bgcolor": "#E5ECF6",
          "polar": {
           "angularaxis": {
            "gridcolor": "white",
            "linecolor": "white",
            "ticks": ""
           },
           "bgcolor": "#E5ECF6",
           "radialaxis": {
            "gridcolor": "white",
            "linecolor": "white",
            "ticks": ""
           }
          },
          "scene": {
           "xaxis": {
            "backgroundcolor": "#E5ECF6",
            "gridcolor": "white",
            "gridwidth": 2,
            "linecolor": "white",
            "showbackground": true,
            "ticks": "",
            "zerolinecolor": "white"
           },
           "yaxis": {
            "backgroundcolor": "#E5ECF6",
            "gridcolor": "white",
            "gridwidth": 2,
            "linecolor": "white",
            "showbackground": true,
            "ticks": "",
            "zerolinecolor": "white"
           },
           "zaxis": {
            "backgroundcolor": "#E5ECF6",
            "gridcolor": "white",
            "gridwidth": 2,
            "linecolor": "white",
            "showbackground": true,
            "ticks": "",
            "zerolinecolor": "white"
           }
          },
          "shapedefaults": {
           "line": {
            "color": "#2a3f5f"
           }
          },
          "ternary": {
           "aaxis": {
            "gridcolor": "white",
            "linecolor": "white",
            "ticks": ""
           },
           "baxis": {
            "gridcolor": "white",
            "linecolor": "white",
            "ticks": ""
           },
           "bgcolor": "#E5ECF6",
           "caxis": {
            "gridcolor": "white",
            "linecolor": "white",
            "ticks": ""
           }
          },
          "title": {
           "x": 0.05
          },
          "xaxis": {
           "automargin": true,
           "gridcolor": "white",
           "linecolor": "white",
           "ticks": "",
           "title": {
            "standoff": 15
           },
           "zerolinecolor": "white",
           "zerolinewidth": 2
          },
          "yaxis": {
           "automargin": true,
           "gridcolor": "white",
           "linecolor": "white",
           "ticks": "",
           "title": {
            "standoff": 15
           },
           "zerolinecolor": "white",
           "zerolinewidth": 2
          }
         }
        },
        "title": {
         "text": "Distribuição da população da pesquisa por região de moradia<br>PNAD COVID-19",
         "x": 0.5
        },
        "width": 1200,
        "xaxis": {
         "anchor": "y",
         "domain": [
          0,
          1
         ],
         "title": {
          "text": "Estado"
         }
        },
        "yaxis": {
         "anchor": "x",
         "domain": [
          0,
          1
         ],
         "title": {
          "text": "Nº de entrevistados"
         }
        }
       }
      }
     },
     "metadata": {},
     "output_type": "display_data"
    }
   ],
   "source": [
    "fig_3 = px.bar(df_results.sort_values(by=['n_regiao_moradia'], ascending=False), x=\"uf\", y=\"n_regiao_moradia\", color=\"new_regiao_moradia\", title=\"Distribuição da população da pesquisa por região de moradia<br>PNAD COVID-19\",\n",
    "            labels=dict(uf=\"Estado\", n_regiao_moradia=\"Nº de entrevistados\", new_regiao_moradia=\"Região de moradia\"))\n",
    "\n",
    "fig_3.update_layout(title_x=0.5, width=1200, height=700, legend_traceorder='reversed')\n",
    "\n",
    "title_name = fig_3['layout']['title']['text']\n",
    "title_name = title_name.replace('<br>PNAD COVID-19','')\n",
    "\n",
    "plotly.offline.plot(fig_3, filename = f'./plots/{title_name}.html', auto_play=False, auto_open=False)\n",
    "\n",
    "fig_3.show()\n",
    "\n",
    "\n"
   ]
  },
  {
   "cell_type": "markdown",
   "metadata": {},
   "source": [
    "# Piramide etária"
   ]
  },
  {
   "cell_type": "code",
   "execution_count": 9,
   "metadata": {},
   "outputs": [],
   "source": [
    "query_sql = f'''\n",
    "with idade_data as \n",
    "( SELECT \n",
    "    sexo,\n",
    "    idade,\n",
    "    count(idade) as count_idade\n",
    "  FROM `{project_id}.{dataset_id}.{table_id}` \n",
    "  GROUP BY sexo, idade),\n",
    "\n",
    "grupo_idade_data as\n",
    "(\n",
    "  SELECT\n",
    "    sexo,\n",
    "    idade,\n",
    "    count_idade,\n",
    "    CASE\n",
    "      WHEN idade <= 10 THEN '0-10'\n",
    "      WHEN idade BETWEEN 11 AND 20 THEN '11-20'\n",
    "      WHEN idade BETWEEN 21 AND 30 THEN '21-30'\n",
    "      WHEN idade BETWEEN 31 AND 40 THEN '31-40'\n",
    "      WHEN idade BETWEEN 41 AND 50 THEN '41-50'\n",
    "      WHEN idade BETWEEN 51 AND 60 THEN '51-60'\n",
    "      WHEN idade BETWEEN 61 AND 70 THEN '61-70'\n",
    "      WHEN idade BETWEEN 71 AND 80 THEN '71-80'\n",
    "      WHEN idade > 80 THEN '80+'\n",
    "    END as grupo_idade\n",
    "  FROM idade_data\n",
    ")\n",
    "\n",
    "SELECT\n",
    "  sexo,\n",
    "  grupo_idade,\n",
    "  SUM(count_idade) as count_grupo_idade\n",
    "FROM grupo_idade_data\n",
    "GROUP BY sexo, grupo_idade\n",
    "ORDER BY sexo, grupo_idade\n",
    "'''\n",
    "\n",
    "query_job = client.query(query_sql)\n",
    "df_results = query_job.to_dataframe()"
   ]
  },
  {
   "cell_type": "code",
   "execution_count": 10,
   "metadata": {},
   "outputs": [
    {
     "data": {
      "text/html": [
       "<div>\n",
       "<style scoped>\n",
       "    .dataframe tbody tr th:only-of-type {\n",
       "        vertical-align: middle;\n",
       "    }\n",
       "\n",
       "    .dataframe tbody tr th {\n",
       "        vertical-align: top;\n",
       "    }\n",
       "\n",
       "    .dataframe thead th {\n",
       "        text-align: right;\n",
       "    }\n",
       "</style>\n",
       "<table border=\"1\" class=\"dataframe\">\n",
       "  <thead>\n",
       "    <tr style=\"text-align: right;\">\n",
       "      <th></th>\n",
       "      <th>sexo</th>\n",
       "      <th>grupo_idade</th>\n",
       "      <th>count_grupo_idade</th>\n",
       "    </tr>\n",
       "  </thead>\n",
       "  <tbody>\n",
       "    <tr>\n",
       "      <th>0</th>\n",
       "      <td>Homem</td>\n",
       "      <td>0-10</td>\n",
       "      <td>77384</td>\n",
       "    </tr>\n",
       "    <tr>\n",
       "      <th>1</th>\n",
       "      <td>Homem</td>\n",
       "      <td>11-20</td>\n",
       "      <td>87847</td>\n",
       "    </tr>\n",
       "    <tr>\n",
       "      <th>2</th>\n",
       "      <td>Homem</td>\n",
       "      <td>21-30</td>\n",
       "      <td>75933</td>\n",
       "    </tr>\n",
       "    <tr>\n",
       "      <th>3</th>\n",
       "      <td>Homem</td>\n",
       "      <td>31-40</td>\n",
       "      <td>81248</td>\n",
       "    </tr>\n",
       "    <tr>\n",
       "      <th>4</th>\n",
       "      <td>Homem</td>\n",
       "      <td>41-50</td>\n",
       "      <td>75747</td>\n",
       "    </tr>\n",
       "    <tr>\n",
       "      <th>5</th>\n",
       "      <td>Homem</td>\n",
       "      <td>51-60</td>\n",
       "      <td>68577</td>\n",
       "    </tr>\n",
       "    <tr>\n",
       "      <th>6</th>\n",
       "      <td>Homem</td>\n",
       "      <td>61-70</td>\n",
       "      <td>48901</td>\n",
       "    </tr>\n",
       "    <tr>\n",
       "      <th>7</th>\n",
       "      <td>Homem</td>\n",
       "      <td>71-80</td>\n",
       "      <td>25158</td>\n",
       "    </tr>\n",
       "    <tr>\n",
       "      <th>8</th>\n",
       "      <td>Homem</td>\n",
       "      <td>80+</td>\n",
       "      <td>9861</td>\n",
       "    </tr>\n",
       "    <tr>\n",
       "      <th>9</th>\n",
       "      <td>Mulher</td>\n",
       "      <td>0-10</td>\n",
       "      <td>74366</td>\n",
       "    </tr>\n",
       "    <tr>\n",
       "      <th>10</th>\n",
       "      <td>Mulher</td>\n",
       "      <td>11-20</td>\n",
       "      <td>83353</td>\n",
       "    </tr>\n",
       "    <tr>\n",
       "      <th>11</th>\n",
       "      <td>Mulher</td>\n",
       "      <td>21-30</td>\n",
       "      <td>78965</td>\n",
       "    </tr>\n",
       "    <tr>\n",
       "      <th>12</th>\n",
       "      <td>Mulher</td>\n",
       "      <td>31-40</td>\n",
       "      <td>90093</td>\n",
       "    </tr>\n",
       "    <tr>\n",
       "      <th>13</th>\n",
       "      <td>Mulher</td>\n",
       "      <td>41-50</td>\n",
       "      <td>86809</td>\n",
       "    </tr>\n",
       "    <tr>\n",
       "      <th>14</th>\n",
       "      <td>Mulher</td>\n",
       "      <td>51-60</td>\n",
       "      <td>80504</td>\n",
       "    </tr>\n",
       "    <tr>\n",
       "      <th>15</th>\n",
       "      <td>Mulher</td>\n",
       "      <td>61-70</td>\n",
       "      <td>58222</td>\n",
       "    </tr>\n",
       "    <tr>\n",
       "      <th>16</th>\n",
       "      <td>Mulher</td>\n",
       "      <td>71-80</td>\n",
       "      <td>31037</td>\n",
       "    </tr>\n",
       "    <tr>\n",
       "      <th>17</th>\n",
       "      <td>Mulher</td>\n",
       "      <td>80+</td>\n",
       "      <td>15192</td>\n",
       "    </tr>\n",
       "  </tbody>\n",
       "</table>\n",
       "</div>"
      ],
      "text/plain": [
       "      sexo grupo_idade  count_grupo_idade\n",
       "0    Homem        0-10              77384\n",
       "1    Homem       11-20              87847\n",
       "2    Homem       21-30              75933\n",
       "3    Homem       31-40              81248\n",
       "4    Homem       41-50              75747\n",
       "5    Homem       51-60              68577\n",
       "6    Homem       61-70              48901\n",
       "7    Homem       71-80              25158\n",
       "8    Homem         80+               9861\n",
       "9   Mulher        0-10              74366\n",
       "10  Mulher       11-20              83353\n",
       "11  Mulher       21-30              78965\n",
       "12  Mulher       31-40              90093\n",
       "13  Mulher       41-50              86809\n",
       "14  Mulher       51-60              80504\n",
       "15  Mulher       61-70              58222\n",
       "16  Mulher       71-80              31037\n",
       "17  Mulher         80+              15192"
      ]
     },
     "execution_count": 10,
     "metadata": {},
     "output_type": "execute_result"
    }
   ],
   "source": [
    "df_results['sexo'] = df_results['sexo'].astype(str).replace(dict_sexo)\n",
    "df_results"
   ]
  },
  {
   "cell_type": "code",
   "execution_count": 48,
   "metadata": {},
   "outputs": [
    {
     "data": {
      "application/vnd.plotly.v1+json": {
       "config": {
        "plotlyServerURL": "https://plot.ly"
       },
       "data": [
        {
         "name": "Homens",
         "orientation": "h",
         "type": "bar",
         "x": [
          -77384,
          -87847,
          -75933,
          -81248,
          -75747,
          -68577,
          -48901,
          -25158,
          -9861
         ],
         "xaxis": "x",
         "y": [
          "0-10",
          "11-20",
          "21-30",
          "31-40",
          "41-50",
          "51-60",
          "61-70",
          "71-80",
          "80+"
         ],
         "yaxis": "y"
        },
        {
         "name": "Mulheres",
         "orientation": "h",
         "type": "bar",
         "x": [
          74366,
          83353,
          78965,
          90093,
          86809,
          80504,
          58222,
          31037,
          15192
         ],
         "xaxis": "x2",
         "y": [
          "0-10",
          "11-20",
          "21-30",
          "31-40",
          "41-50",
          "51-60",
          "61-70",
          "71-80",
          "80+"
         ],
         "yaxis": "y2"
        }
       ],
       "layout": {
        "annotations": [
         {
          "font": {
           "size": 16
          },
          "showarrow": false,
          "text": "Homens",
          "x": 0.225,
          "xanchor": "center",
          "xref": "paper",
          "y": 1.02,
          "yanchor": "bottom",
          "yref": "paper"
         },
         {
          "font": {
           "size": 16
          },
          "showarrow": false,
          "text": "Mulheres",
          "x": 0.775,
          "xanchor": "center",
          "xref": "paper",
          "y": 1.02,
          "yanchor": "bottom",
          "yref": "paper"
         }
        ],
        "margin": {
         "pad": 5
        },
        "plot_bgcolor": "white",
        "showlegend": false,
        "template": {
         "data": {
          "bar": [
           {
            "error_x": {
             "color": "#2a3f5f"
            },
            "error_y": {
             "color": "#2a3f5f"
            },
            "marker": {
             "line": {
              "color": "#E5ECF6",
              "width": 0.5
             },
             "pattern": {
              "fillmode": "overlay",
              "size": 10,
              "solidity": 0.2
             }
            },
            "type": "bar"
           }
          ],
          "barpolar": [
           {
            "marker": {
             "line": {
              "color": "#E5ECF6",
              "width": 0.5
             },
             "pattern": {
              "fillmode": "overlay",
              "size": 10,
              "solidity": 0.2
             }
            },
            "type": "barpolar"
           }
          ],
          "carpet": [
           {
            "aaxis": {
             "endlinecolor": "#2a3f5f",
             "gridcolor": "white",
             "linecolor": "white",
             "minorgridcolor": "white",
             "startlinecolor": "#2a3f5f"
            },
            "baxis": {
             "endlinecolor": "#2a3f5f",
             "gridcolor": "white",
             "linecolor": "white",
             "minorgridcolor": "white",
             "startlinecolor": "#2a3f5f"
            },
            "type": "carpet"
           }
          ],
          "choropleth": [
           {
            "colorbar": {
             "outlinewidth": 0,
             "ticks": ""
            },
            "type": "choropleth"
           }
          ],
          "contour": [
           {
            "colorbar": {
             "outlinewidth": 0,
             "ticks": ""
            },
            "colorscale": [
             [
              0,
              "#0d0887"
             ],
             [
              0.1111111111111111,
              "#46039f"
             ],
             [
              0.2222222222222222,
              "#7201a8"
             ],
             [
              0.3333333333333333,
              "#9c179e"
             ],
             [
              0.4444444444444444,
              "#bd3786"
             ],
             [
              0.5555555555555556,
              "#d8576b"
             ],
             [
              0.6666666666666666,
              "#ed7953"
             ],
             [
              0.7777777777777778,
              "#fb9f3a"
             ],
             [
              0.8888888888888888,
              "#fdca26"
             ],
             [
              1,
              "#f0f921"
             ]
            ],
            "type": "contour"
           }
          ],
          "contourcarpet": [
           {
            "colorbar": {
             "outlinewidth": 0,
             "ticks": ""
            },
            "type": "contourcarpet"
           }
          ],
          "heatmap": [
           {
            "colorbar": {
             "outlinewidth": 0,
             "ticks": ""
            },
            "colorscale": [
             [
              0,
              "#0d0887"
             ],
             [
              0.1111111111111111,
              "#46039f"
             ],
             [
              0.2222222222222222,
              "#7201a8"
             ],
             [
              0.3333333333333333,
              "#9c179e"
             ],
             [
              0.4444444444444444,
              "#bd3786"
             ],
             [
              0.5555555555555556,
              "#d8576b"
             ],
             [
              0.6666666666666666,
              "#ed7953"
             ],
             [
              0.7777777777777778,
              "#fb9f3a"
             ],
             [
              0.8888888888888888,
              "#fdca26"
             ],
             [
              1,
              "#f0f921"
             ]
            ],
            "type": "heatmap"
           }
          ],
          "heatmapgl": [
           {
            "colorbar": {
             "outlinewidth": 0,
             "ticks": ""
            },
            "colorscale": [
             [
              0,
              "#0d0887"
             ],
             [
              0.1111111111111111,
              "#46039f"
             ],
             [
              0.2222222222222222,
              "#7201a8"
             ],
             [
              0.3333333333333333,
              "#9c179e"
             ],
             [
              0.4444444444444444,
              "#bd3786"
             ],
             [
              0.5555555555555556,
              "#d8576b"
             ],
             [
              0.6666666666666666,
              "#ed7953"
             ],
             [
              0.7777777777777778,
              "#fb9f3a"
             ],
             [
              0.8888888888888888,
              "#fdca26"
             ],
             [
              1,
              "#f0f921"
             ]
            ],
            "type": "heatmapgl"
           }
          ],
          "histogram": [
           {
            "marker": {
             "pattern": {
              "fillmode": "overlay",
              "size": 10,
              "solidity": 0.2
             }
            },
            "type": "histogram"
           }
          ],
          "histogram2d": [
           {
            "colorbar": {
             "outlinewidth": 0,
             "ticks": ""
            },
            "colorscale": [
             [
              0,
              "#0d0887"
             ],
             [
              0.1111111111111111,
              "#46039f"
             ],
             [
              0.2222222222222222,
              "#7201a8"
             ],
             [
              0.3333333333333333,
              "#9c179e"
             ],
             [
              0.4444444444444444,
              "#bd3786"
             ],
             [
              0.5555555555555556,
              "#d8576b"
             ],
             [
              0.6666666666666666,
              "#ed7953"
             ],
             [
              0.7777777777777778,
              "#fb9f3a"
             ],
             [
              0.8888888888888888,
              "#fdca26"
             ],
             [
              1,
              "#f0f921"
             ]
            ],
            "type": "histogram2d"
           }
          ],
          "histogram2dcontour": [
           {
            "colorbar": {
             "outlinewidth": 0,
             "ticks": ""
            },
            "colorscale": [
             [
              0,
              "#0d0887"
             ],
             [
              0.1111111111111111,
              "#46039f"
             ],
             [
              0.2222222222222222,
              "#7201a8"
             ],
             [
              0.3333333333333333,
              "#9c179e"
             ],
             [
              0.4444444444444444,
              "#bd3786"
             ],
             [
              0.5555555555555556,
              "#d8576b"
             ],
             [
              0.6666666666666666,
              "#ed7953"
             ],
             [
              0.7777777777777778,
              "#fb9f3a"
             ],
             [
              0.8888888888888888,
              "#fdca26"
             ],
             [
              1,
              "#f0f921"
             ]
            ],
            "type": "histogram2dcontour"
           }
          ],
          "mesh3d": [
           {
            "colorbar": {
             "outlinewidth": 0,
             "ticks": ""
            },
            "type": "mesh3d"
           }
          ],
          "parcoords": [
           {
            "line": {
             "colorbar": {
              "outlinewidth": 0,
              "ticks": ""
             }
            },
            "type": "parcoords"
           }
          ],
          "pie": [
           {
            "automargin": true,
            "type": "pie"
           }
          ],
          "scatter": [
           {
            "fillpattern": {
             "fillmode": "overlay",
             "size": 10,
             "solidity": 0.2
            },
            "type": "scatter"
           }
          ],
          "scatter3d": [
           {
            "line": {
             "colorbar": {
              "outlinewidth": 0,
              "ticks": ""
             }
            },
            "marker": {
             "colorbar": {
              "outlinewidth": 0,
              "ticks": ""
             }
            },
            "type": "scatter3d"
           }
          ],
          "scattercarpet": [
           {
            "marker": {
             "colorbar": {
              "outlinewidth": 0,
              "ticks": ""
             }
            },
            "type": "scattercarpet"
           }
          ],
          "scattergeo": [
           {
            "marker": {
             "colorbar": {
              "outlinewidth": 0,
              "ticks": ""
             }
            },
            "type": "scattergeo"
           }
          ],
          "scattergl": [
           {
            "marker": {
             "colorbar": {
              "outlinewidth": 0,
              "ticks": ""
             }
            },
            "type": "scattergl"
           }
          ],
          "scattermapbox": [
           {
            "marker": {
             "colorbar": {
              "outlinewidth": 0,
              "ticks": ""
             }
            },
            "type": "scattermapbox"
           }
          ],
          "scatterpolar": [
           {
            "marker": {
             "colorbar": {
              "outlinewidth": 0,
              "ticks": ""
             }
            },
            "type": "scatterpolar"
           }
          ],
          "scatterpolargl": [
           {
            "marker": {
             "colorbar": {
              "outlinewidth": 0,
              "ticks": ""
             }
            },
            "type": "scatterpolargl"
           }
          ],
          "scatterternary": [
           {
            "marker": {
             "colorbar": {
              "outlinewidth": 0,
              "ticks": ""
             }
            },
            "type": "scatterternary"
           }
          ],
          "surface": [
           {
            "colorbar": {
             "outlinewidth": 0,
             "ticks": ""
            },
            "colorscale": [
             [
              0,
              "#0d0887"
             ],
             [
              0.1111111111111111,
              "#46039f"
             ],
             [
              0.2222222222222222,
              "#7201a8"
             ],
             [
              0.3333333333333333,
              "#9c179e"
             ],
             [
              0.4444444444444444,
              "#bd3786"
             ],
             [
              0.5555555555555556,
              "#d8576b"
             ],
             [
              0.6666666666666666,
              "#ed7953"
             ],
             [
              0.7777777777777778,
              "#fb9f3a"
             ],
             [
              0.8888888888888888,
              "#fdca26"
             ],
             [
              1,
              "#f0f921"
             ]
            ],
            "type": "surface"
           }
          ],
          "table": [
           {
            "cells": {
             "fill": {
              "color": "#EBF0F8"
             },
             "line": {
              "color": "white"
             }
            },
            "header": {
             "fill": {
              "color": "#C8D4E3"
             },
             "line": {
              "color": "white"
             }
            },
            "type": "table"
           }
          ]
         },
         "layout": {
          "annotationdefaults": {
           "arrowcolor": "#2a3f5f",
           "arrowhead": 0,
           "arrowwidth": 1
          },
          "autotypenumbers": "strict",
          "coloraxis": {
           "colorbar": {
            "outlinewidth": 0,
            "ticks": ""
           }
          },
          "colorscale": {
           "diverging": [
            [
             0,
             "#8e0152"
            ],
            [
             0.1,
             "#c51b7d"
            ],
            [
             0.2,
             "#de77ae"
            ],
            [
             0.3,
             "#f1b6da"
            ],
            [
             0.4,
             "#fde0ef"
            ],
            [
             0.5,
             "#f7f7f7"
            ],
            [
             0.6,
             "#e6f5d0"
            ],
            [
             0.7,
             "#b8e186"
            ],
            [
             0.8,
             "#7fbc41"
            ],
            [
             0.9,
             "#4d9221"
            ],
            [
             1,
             "#276419"
            ]
           ],
           "sequential": [
            [
             0,
             "#0d0887"
            ],
            [
             0.1111111111111111,
             "#46039f"
            ],
            [
             0.2222222222222222,
             "#7201a8"
            ],
            [
             0.3333333333333333,
             "#9c179e"
            ],
            [
             0.4444444444444444,
             "#bd3786"
            ],
            [
             0.5555555555555556,
             "#d8576b"
            ],
            [
             0.6666666666666666,
             "#ed7953"
            ],
            [
             0.7777777777777778,
             "#fb9f3a"
            ],
            [
             0.8888888888888888,
             "#fdca26"
            ],
            [
             1,
             "#f0f921"
            ]
           ],
           "sequentialminus": [
            [
             0,
             "#0d0887"
            ],
            [
             0.1111111111111111,
             "#46039f"
            ],
            [
             0.2222222222222222,
             "#7201a8"
            ],
            [
             0.3333333333333333,
             "#9c179e"
            ],
            [
             0.4444444444444444,
             "#bd3786"
            ],
            [
             0.5555555555555556,
             "#d8576b"
            ],
            [
             0.6666666666666666,
             "#ed7953"
            ],
            [
             0.7777777777777778,
             "#fb9f3a"
            ],
            [
             0.8888888888888888,
             "#fdca26"
            ],
            [
             1,
             "#f0f921"
            ]
           ]
          },
          "colorway": [
           "#636efa",
           "#EF553B",
           "#00cc96",
           "#ab63fa",
           "#FFA15A",
           "#19d3f3",
           "#FF6692",
           "#B6E880",
           "#FF97FF",
           "#FECB52"
          ],
          "font": {
           "color": "#2a3f5f"
          },
          "geo": {
           "bgcolor": "white",
           "lakecolor": "white",
           "landcolor": "#E5ECF6",
           "showlakes": true,
           "showland": true,
           "subunitcolor": "white"
          },
          "hoverlabel": {
           "align": "left"
          },
          "hovermode": "closest",
          "mapbox": {
           "style": "light"
          },
          "paper_bgcolor": "white",
          "plot_bgcolor": "#E5ECF6",
          "polar": {
           "angularaxis": {
            "gridcolor": "white",
            "linecolor": "white",
            "ticks": ""
           },
           "bgcolor": "#E5ECF6",
           "radialaxis": {
            "gridcolor": "white",
            "linecolor": "white",
            "ticks": ""
           }
          },
          "scene": {
           "xaxis": {
            "backgroundcolor": "#E5ECF6",
            "gridcolor": "white",
            "gridwidth": 2,
            "linecolor": "white",
            "showbackground": true,
            "ticks": "",
            "zerolinecolor": "white"
           },
           "yaxis": {
            "backgroundcolor": "#E5ECF6",
            "gridcolor": "white",
            "gridwidth": 2,
            "linecolor": "white",
            "showbackground": true,
            "ticks": "",
            "zerolinecolor": "white"
           },
           "zaxis": {
            "backgroundcolor": "#E5ECF6",
            "gridcolor": "white",
            "gridwidth": 2,
            "linecolor": "white",
            "showbackground": true,
            "ticks": "",
            "zerolinecolor": "white"
           }
          },
          "shapedefaults": {
           "line": {
            "color": "#2a3f5f"
           }
          },
          "ternary": {
           "aaxis": {
            "gridcolor": "white",
            "linecolor": "white",
            "ticks": ""
           },
           "baxis": {
            "gridcolor": "white",
            "linecolor": "white",
            "ticks": ""
           },
           "bgcolor": "#E5ECF6",
           "caxis": {
            "gridcolor": "white",
            "linecolor": "white",
            "ticks": ""
           }
          },
          "title": {
           "x": 0.05
          },
          "xaxis": {
           "automargin": true,
           "gridcolor": "white",
           "linecolor": "white",
           "ticks": "",
           "title": {
            "standoff": 15
           },
           "zerolinecolor": "white",
           "zerolinewidth": 2
          },
          "yaxis": {
           "automargin": true,
           "gridcolor": "white",
           "linecolor": "white",
           "ticks": "",
           "title": {
            "standoff": 15
           },
           "zerolinecolor": "white",
           "zerolinewidth": 2
          }
         }
        },
        "title": {
         "text": "Pirâmide etária dos entrevistados<br>PNAD COVID-19",
         "x": 0.5
        },
        "width": 1000,
        "xaxis": {
         "anchor": "y",
         "domain": [
          0,
          0.45
         ],
         "gridcolor": "lightgrey",
         "linecolor": "black",
         "mirror": true,
         "showline": true,
         "tickmode": "array",
         "ticks": "outside",
         "ticktext": [
          "90,000",
          "80,000",
          "70,000",
          "60,000",
          "50,000",
          "40,000",
          "30,000",
          "20,000",
          "10,000",
          "0"
         ],
         "tickvals": [
          -90000,
          -80000,
          -70000,
          -60000,
          -50000,
          -40000,
          -30000,
          -20000,
          -10000,
          0
         ],
         "title": {
          "text": "Nº de entrevistados"
         }
        },
        "xaxis2": {
         "anchor": "y2",
         "domain": [
          0.55,
          1
         ],
         "gridcolor": "lightgrey",
         "linecolor": "black",
         "mirror": true,
         "showline": true,
         "tickmode": "array",
         "ticks": "outside",
         "ticktext": [
          "90,000",
          "80,000",
          "70,000",
          "60,000",
          "50,000",
          "40,000",
          "30,000",
          "20,000",
          "10,000",
          "0"
         ],
         "tickvals": [
          90000,
          80000,
          70000,
          60000,
          50000,
          40000,
          30000,
          20000,
          10000,
          0
         ],
         "title": {
          "text": "Nº de entrevistados"
         }
        },
        "yaxis": {
         "anchor": "x",
         "domain": [
          0,
          1
         ],
         "gridcolor": "lightgrey",
         "linecolor": "black",
         "mirror": true,
         "showline": true,
         "side": "right",
         "ticks": "outside"
        },
        "yaxis2": {
         "anchor": "x2",
         "domain": [
          0,
          1
         ],
         "gridcolor": "lightgrey",
         "linecolor": "black",
         "matches": "y",
         "mirror": true,
         "showline": true,
         "showticklabels": false,
         "ticks": "outside"
        }
       }
      }
     },
     "metadata": {},
     "output_type": "display_data"
    },
    {
     "data": {
      "text/plain": [
       "'./plots/Piramide etária dos entrevistados por sexo.html'"
      ]
     },
     "execution_count": 48,
     "metadata": {},
     "output_type": "execute_result"
    }
   ],
   "source": [
    "age_groups = list(df_results.sort_values(by='grupo_idade')['grupo_idade'].unique())\n",
    "\n",
    "males_population = list(df_results.sort_values(by='grupo_idade').loc[df_results['sexo'] == 'Homem']['count_grupo_idade'])\n",
    "males_population = [-neg_value for neg_value in males_population]\n",
    "females_population = list(df_results.sort_values(by='grupo_idade').loc[df_results['sexo'] == 'Mulher']['count_grupo_idade'])\n",
    "\n",
    "# Create a subplot with two horizontal bar charts\n",
    "fig = make_subplots(rows=1, cols=2, shared_yaxes=True, subplot_titles=('Homens', 'Mulheres'))\n",
    "\n",
    "# Add bar traces for males and females\n",
    "fig.add_trace(go.Bar(x=males_population, y=age_groups, orientation='h', name='Homens'), row=1, col=1)\n",
    "fig.add_trace(go.Bar(x=females_population, y=age_groups, orientation='h', name='Mulheres'), row=1, col=2)\n",
    "\n",
    "# Custom xticks\n",
    "fig.update_layout(xaxis2 = dict(\n",
    "    tickmode='array',\n",
    "    tickvals = [90000, 80000, 70000, 60000, 50000, 40000, 30000, 20000, 10000, 0],\n",
    "    ticktext = ['90,000', '80,000', '70,000', '60,000', '50,000', '40,000', '30,000', '20,000', '10,000', '0']\n",
    "    )\n",
    ")\n",
    "\n",
    "# Custom xticks\n",
    "fig.update_layout(xaxis1 = dict(\n",
    "    tickmode='array',\n",
    "    tickvals = [-90000, -80000, -70000, -60000, -50000, -40000, -30000, -20000, -10000, 0],\n",
    "    ticktext = ['90,000', '80,000', '70,000', '60,000', '50,000', '40,000', '30,000', '20,000', '10,000', '0']\n",
    "    )\n",
    ")\n",
    "\n",
    "# Customize layout\n",
    "fig.update_xaxes(title_text='Nº de entrevistados', row=1, col=1)\n",
    "fig.update_xaxes(title_text='Nº de entrevistados', row=1, col=2)\n",
    "\n",
    "# Set the range of the y-axis to reverse the age pyramid\n",
    "#fig.update_yaxes(categoryorder='total ascending', row=1, col=1)\n",
    "fig.update_yaxes(side='right', mirror=True, row=1, col=1)\n",
    "\n",
    "# Add title and labels\n",
    "fig.update_layout(title='Pirâmide etária dos entrevistados<br>PNAD COVID-19', title_x=0.5, xaxis=dict(title='Nº de entrevistados'), width=1000, margin_pad=5,\n",
    "                  showlegend=False, plot_bgcolor='white')\n",
    "\n",
    "fig.update_xaxes(\n",
    "    mirror=True,\n",
    "    ticks='outside',\n",
    "    showline=True,\n",
    "    linecolor='black',\n",
    "    gridcolor='lightgrey'\n",
    ")\n",
    "fig.update_yaxes(\n",
    "    mirror=True,\n",
    "    ticks='outside',\n",
    "    showline=True,\n",
    "    linecolor='black',\n",
    "    gridcolor='lightgrey'\n",
    ")\n",
    "\n",
    "fig.layout.annotations[0].update(y=1.02)\n",
    "fig.layout.annotations[1].update(y=1.02)\n",
    "\n",
    "fig.show()\n",
    "\n",
    "title_name = 'Piramide etária dos entrevistados por sexo'\n",
    "plotly.offline.plot(fig, filename = f'./plots/{title_name}.html', auto_play=False, auto_open=False)"
   ]
  },
  {
   "cell_type": "code",
   "execution_count": 40,
   "metadata": {},
   "outputs": [
    {
     "data": {
      "text/plain": [
       "layout.Annotation({\n",
       "    'font': {'size': 16},\n",
       "    'showarrow': False,\n",
       "    'text': 'Homens',\n",
       "    'x': 0.225,\n",
       "    'xanchor': 'center',\n",
       "    'xref': 'paper',\n",
       "    'y': 1.2,\n",
       "    'yanchor': 'bottom',\n",
       "    'yref': 'paper'\n",
       "})"
      ]
     },
     "execution_count": 40,
     "metadata": {},
     "output_type": "execute_result"
    }
   ],
   "source": [
    "fig.layout.annotations[0].update(y=1.2)"
   ]
  },
  {
   "cell_type": "markdown",
   "metadata": {},
   "source": [
    "# Distribuição da cor e raça"
   ]
  },
  {
   "cell_type": "code",
   "execution_count": 3,
   "metadata": {},
   "outputs": [],
   "source": [
    "query_sql = f'''\n",
    "with cont_raca as \n",
    "(SELECT\n",
    "  uf,\n",
    "  cor_raca,\n",
    "  COUNT(cor_raca) as n_cor_raca\n",
    "FROM `{project_id}.{dataset_id}.{table_id}` \n",
    "GROUP BY uf, cor_raca\n",
    "ORDER BY uf, cor_raca)\n",
    "\n",
    "SELECT\n",
    "    uf,\n",
    "    cor_raca,\n",
    "    n_cor_raca,\n",
    "    ROUND(SUM(n_cor_raca)/SUM(n_cor_raca) OVER (PARTITION BY uf),4) AS proportion_raca\n",
    "FROM\n",
    "    cont_raca\n",
    "GROUP BY\n",
    "    uf, cor_raca, n_cor_raca\n",
    "ORDER BY uf, cor_raca\n",
    "'''\n",
    "\n",
    "query_job = client.query(query_sql)\n",
    "df_results = query_job.to_dataframe()"
   ]
  },
  {
   "cell_type": "code",
   "execution_count": 8,
   "metadata": {},
   "outputs": [
    {
     "data": {
      "text/html": [
       "<div>\n",
       "<style scoped>\n",
       "    .dataframe tbody tr th:only-of-type {\n",
       "        vertical-align: middle;\n",
       "    }\n",
       "\n",
       "    .dataframe tbody tr th {\n",
       "        vertical-align: top;\n",
       "    }\n",
       "\n",
       "    .dataframe thead th {\n",
       "        text-align: right;\n",
       "    }\n",
       "</style>\n",
       "<table border=\"1\" class=\"dataframe\">\n",
       "  <thead>\n",
       "    <tr style=\"text-align: right;\">\n",
       "      <th></th>\n",
       "      <th>uf</th>\n",
       "      <th>cor_raca</th>\n",
       "      <th>n_cor_raca</th>\n",
       "      <th>proportion_raca</th>\n",
       "    </tr>\n",
       "  </thead>\n",
       "  <tbody>\n",
       "    <tr>\n",
       "      <th>0</th>\n",
       "      <td>Rondônia</td>\n",
       "      <td>Branca</td>\n",
       "      <td>4833</td>\n",
       "      <td>29.08</td>\n",
       "    </tr>\n",
       "    <tr>\n",
       "      <th>1</th>\n",
       "      <td>Rondônia</td>\n",
       "      <td>Preta</td>\n",
       "      <td>1236</td>\n",
       "      <td>7.44</td>\n",
       "    </tr>\n",
       "    <tr>\n",
       "      <th>2</th>\n",
       "      <td>Rondônia</td>\n",
       "      <td>Amarela</td>\n",
       "      <td>145</td>\n",
       "      <td>0.87</td>\n",
       "    </tr>\n",
       "    <tr>\n",
       "      <th>3</th>\n",
       "      <td>Rondônia</td>\n",
       "      <td>Parda</td>\n",
       "      <td>10360</td>\n",
       "      <td>62.33</td>\n",
       "    </tr>\n",
       "    <tr>\n",
       "      <th>4</th>\n",
       "      <td>Rondônia</td>\n",
       "      <td>Indígena</td>\n",
       "      <td>48</td>\n",
       "      <td>0.29</td>\n",
       "    </tr>\n",
       "    <tr>\n",
       "      <th>...</th>\n",
       "      <td>...</td>\n",
       "      <td>...</td>\n",
       "      <td>...</td>\n",
       "      <td>...</td>\n",
       "    </tr>\n",
       "    <tr>\n",
       "      <th>153</th>\n",
       "      <td>Distrito Federal</td>\n",
       "      <td>Preta</td>\n",
       "      <td>2071</td>\n",
       "      <td>10.40</td>\n",
       "    </tr>\n",
       "    <tr>\n",
       "      <th>154</th>\n",
       "      <td>Distrito Federal</td>\n",
       "      <td>Amarela</td>\n",
       "      <td>195</td>\n",
       "      <td>0.98</td>\n",
       "    </tr>\n",
       "    <tr>\n",
       "      <th>155</th>\n",
       "      <td>Distrito Federal</td>\n",
       "      <td>Parda</td>\n",
       "      <td>9734</td>\n",
       "      <td>48.90</td>\n",
       "    </tr>\n",
       "    <tr>\n",
       "      <th>156</th>\n",
       "      <td>Distrito Federal</td>\n",
       "      <td>Indígena</td>\n",
       "      <td>51</td>\n",
       "      <td>0.26</td>\n",
       "    </tr>\n",
       "    <tr>\n",
       "      <th>157</th>\n",
       "      <td>Distrito Federal</td>\n",
       "      <td>Ignorado</td>\n",
       "      <td>41</td>\n",
       "      <td>0.21</td>\n",
       "    </tr>\n",
       "  </tbody>\n",
       "</table>\n",
       "<p>158 rows × 4 columns</p>\n",
       "</div>"
      ],
      "text/plain": [
       "                   uf  cor_raca  n_cor_raca  proportion_raca\n",
       "0            Rondônia    Branca        4833            29.08\n",
       "1            Rondônia     Preta        1236             7.44\n",
       "2            Rondônia   Amarela         145             0.87\n",
       "3            Rondônia     Parda       10360            62.33\n",
       "4            Rondônia  Indígena          48             0.29\n",
       "..                ...       ...         ...              ...\n",
       "153  Distrito Federal     Preta        2071            10.40\n",
       "154  Distrito Federal   Amarela         195             0.98\n",
       "155  Distrito Federal     Parda        9734            48.90\n",
       "156  Distrito Federal  Indígena          51             0.26\n",
       "157  Distrito Federal  Ignorado          41             0.21\n",
       "\n",
       "[158 rows x 4 columns]"
      ]
     },
     "execution_count": 8,
     "metadata": {},
     "output_type": "execute_result"
    }
   ],
   "source": [
    "df_results['cor_raca'] = df_results['cor_raca'].astype(str).replace(dict_cor_raca)\n",
    "df_results['uf'] = df_results['uf'].astype(str).replace(dict_uf)\n",
    "df_results['proportion_raca'] = df_results['proportion_raca'] * 100\n",
    "df_results"
   ]
  },
  {
   "cell_type": "code",
   "execution_count": 10,
   "metadata": {},
   "outputs": [
    {
     "data": {
      "application/vnd.plotly.v1+json": {
       "config": {
        "plotlyServerURL": "https://plot.ly"
       },
       "data": [
        {
         "alignmentgroup": "True",
         "hovertemplate": "Cor/Raça=Branca<br>Proporção da população (%)=%{x}<br>Estado=%{y}<extra></extra>",
         "legendgroup": "Branca",
         "marker": {
          "color": "#636efa",
          "pattern": {
           "shape": ""
          }
         },
         "name": "Branca",
         "offsetgroup": "Branca",
         "orientation": "h",
         "showlegend": true,
         "textposition": "auto",
         "type": "bar",
         "x": [
          83.34,
          82.17999999999999,
          67.33,
          61.25000000000001,
          46.83,
          44.690000000000005,
          39.629999999999995,
          39.25,
          38.22,
          37.88,
          36.41,
          35.510000000000005,
          33.17,
          32.879999999999995,
          29.080000000000002,
          26.69,
          25.979999999999997,
          23.72,
          21.63,
          21.42,
          20.66,
          20.57,
          20.19,
          19.79,
          18.35,
          18.14,
          17.11
         ],
         "xaxis": "x",
         "y": [
          "Santa Catarina",
          "Rio Grande do Sul",
          "Paraná",
          "São Paulo",
          "Rio de Janeiro",
          "Mato Grosso do Sul",
          "Minas Gerais",
          "Distrito Federal",
          "Rio Grande do Norte",
          "Espírito Santo",
          "Goiás",
          "Paraíba",
          "Pernambuco",
          "Mato Grosso",
          "Rondônia",
          "Ceará",
          "Alagoas",
          "Tocantins",
          "Sergipe",
          "Piauí",
          "Amapá",
          "Acre",
          "Pará",
          "Roraima",
          "Maranhão",
          "Bahia",
          "Amazonas"
         ],
         "yaxis": "y"
        },
        {
         "alignmentgroup": "True",
         "hovertemplate": "Cor/Raça=Parda<br>Proporção da população (%)=%{x}<br>Estado=%{y}<extra></extra>",
         "legendgroup": "Parda",
         "marker": {
          "color": "#EF553B",
          "pattern": {
           "shape": ""
          }
         },
         "name": "Parda",
         "offsetgroup": "Parda",
         "orientation": "h",
         "showlegend": true,
         "textposition": "auto",
         "type": "bar",
         "x": [
          76.42,
          71.99,
          71.85000000000001,
          70.78999999999999,
          69.26,
          68.87,
          68.86,
          67.78,
          66.85,
          66.07,
          65.03,
          62.33,
          60.160000000000004,
          58.53,
          58.209999999999994,
          57.37,
          55.03,
          54.71,
          50.83,
          48.9,
          48.83,
          47.42,
          40.25,
          30.29,
          28.33,
          13.469999999999999,
          12.45
         ],
         "xaxis": "x",
         "y": [
          "Amazonas",
          "Acre",
          "Amapá",
          "Pará",
          "Maranhão",
          "Piauí",
          "Sergipe",
          "Ceará",
          "Alagoas",
          "Roraima",
          "Tocantins",
          "Rondônia",
          "Bahia",
          "Pernambuco",
          "Paraíba",
          "Mato Grosso",
          "Rio Grande do Norte",
          "Goiás",
          "Espírito Santo",
          "Distrito Federal",
          "Minas Gerais",
          "Mato Grosso do Sul",
          "Rio de Janeiro",
          "São Paulo",
          "Paraná",
          "Santa Catarina",
          "Rio Grande do Sul"
         ],
         "yaxis": "y"
        },
        {
         "alignmentgroup": "True",
         "hovertemplate": "Cor/Raça=Preta<br>Proporção da população (%)=%{x}<br>Estado=%{y}<extra></extra>",
         "legendgroup": "Preta",
         "marker": {
          "color": "#00cc96",
          "pattern": {
           "shape": ""
          }
         },
         "name": "Preta",
         "offsetgroup": "Preta",
         "orientation": "h",
         "showlegend": true,
         "textposition": "auto",
         "type": "bar",
         "x": [
          20.78,
          12.4,
          11.49,
          11.15,
          10.45,
          10.4,
          10.2,
          9.51,
          9.229999999999999,
          8.9,
          8.67,
          7.88,
          7.82,
          7.4399999999999995,
          7.26,
          7.07,
          6.660000000000001,
          6.63,
          6.34,
          6.23,
          5.76,
          5.56,
          5.09,
          4.72,
          3.54,
          2.98,
          2.77
         ],
         "xaxis": "x",
         "y": [
          "Bahia",
          "Rio de Janeiro",
          "Maranhão",
          "Minas Gerais",
          "Espírito Santo",
          "Distrito Federal",
          "Tocantins",
          "Piauí",
          "Sergipe",
          "Roraima",
          "Mato Grosso",
          "Pará",
          "Goiás",
          "Rondônia",
          "Pernambuco",
          "Amapá",
          "São Paulo",
          "Acre",
          "Mato Grosso do Sul",
          "Rio Grande do Norte",
          "Paraíba",
          "Alagoas",
          "Rio Grande do Sul",
          "Ceará",
          "Amazonas",
          "Paraná",
          "Santa Catarina"
         ],
         "yaxis": "y"
        },
        {
         "alignmentgroup": "True",
         "hovertemplate": "Cor/Raça=Indígena<br>Proporção da população (%)=%{x}<br>Estado=%{y}<extra></extra>",
         "legendgroup": "Indígena",
         "marker": {
          "color": "#ab63fa",
          "pattern": {
           "shape": ""
          }
         },
         "name": "Indígena",
         "offsetgroup": "Indígena",
         "orientation": "h",
         "showlegend": true,
         "textposition": "auto",
         "type": "bar",
         "x": [
          4.63,
          2.41,
          0.67,
          0.63,
          0.53,
          0.5,
          0.44,
          0.38,
          0.37,
          0.36,
          0.36,
          0.35000000000000003,
          0.32,
          0.29,
          0.26,
          0.22,
          0.22,
          0.21,
          0.18,
          0.18,
          0.16999999999999998,
          0.16,
          0.13999999999999999,
          0.13999999999999999,
          0.12,
          0.09,
          0.06
         ],
         "xaxis": "x",
         "y": [
          "Roraima",
          "Amazonas",
          "Alagoas",
          "Mato Grosso do Sul",
          "Pará",
          "Bahia",
          "Espírito Santo",
          "Tocantins",
          "Pernambuco",
          "Mato Grosso",
          "Maranhão",
          "Acre",
          "Ceará",
          "Rondônia",
          "Distrito Federal",
          "Rio de Janeiro",
          "Paraíba",
          "Goiás",
          "Paraná",
          "Sergipe",
          "Rio Grande do Sul",
          "Amapá",
          "Rio Grande do Norte",
          "São Paulo",
          "Santa Catarina",
          "Minas Gerais",
          "Piauí"
         ],
         "yaxis": "y"
        },
        {
         "alignmentgroup": "True",
         "hovertemplate": "Cor/Raça=Amarela<br>Proporção da população (%)=%{x}<br>Estado=%{y}<extra></extra>",
         "legendgroup": "Amarela",
         "marker": {
          "color": "#FFA15A",
          "pattern": {
           "shape": ""
          }
         },
         "name": "Amarela",
         "offsetgroup": "Amarela",
         "orientation": "h",
         "showlegend": true,
         "textposition": "auto",
         "type": "bar",
         "x": [
          1.63,
          1.17,
          0.98,
          0.9299999999999999,
          0.9199999999999999,
          0.8699999999999999,
          0.8500000000000001,
          0.72,
          0.64,
          0.61,
          0.6,
          0.58,
          0.54,
          0.51,
          0.45999999999999996,
          0.41000000000000003,
          0.4,
          0.38,
          0.31,
          0.31,
          0.29,
          0.27999999999999997,
          0.25,
          0.25,
          0.1,
          0.09,
          0.06999999999999999
         ],
         "xaxis": "x",
         "y": [
          "São Paulo",
          "Paraná",
          "Distrito Federal",
          "Alagoas",
          "Mato Grosso do Sul",
          "Rondônia",
          "Goiás",
          "Mato Grosso",
          "Pernambuco",
          "Pará",
          "Roraima",
          "Tocantins",
          "Maranhão",
          "Amazonas",
          "Acre",
          "Bahia",
          "Espírito Santo",
          "Ceará",
          "Rio de Janeiro",
          "Paraíba",
          "Minas Gerais",
          "Santa Catarina",
          "Rio Grande do Norte",
          "Amapá",
          "Rio Grande do Sul",
          "Piauí",
          "Sergipe"
         ],
         "yaxis": "y"
        },
        {
         "alignmentgroup": "True",
         "hovertemplate": "Cor/Raça=Ignorado<br>Proporção da população (%)=%{x}<br>Estado=%{y}<extra></extra>",
         "legendgroup": "Ignorado",
         "marker": {
          "color": "#19d3f3",
          "pattern": {
           "shape": ""
          }
         },
         "name": "Ignorado",
         "offsetgroup": "Ignorado",
         "orientation": "h",
         "showlegend": true,
         "textposition": "auto",
         "type": "bar",
         "x": [
          0.21,
          0.13999999999999999,
          0.11,
          0.1,
          0.06,
          0.03,
          0.03,
          0.02,
          0.02,
          0.02,
          0.01,
          0.01,
          0.01,
          0.01,
          0.01,
          0.01,
          0.01,
          0.01,
          0,
          0,
          0,
          0,
          0
         ],
         "xaxis": "x",
         "y": [
          "Distrito Federal",
          "Rio Grande do Norte",
          "Ceará",
          "Tocantins",
          "Piauí",
          "Sergipe",
          "São Paulo",
          "Amazonas",
          "Santa Catarina",
          "Pernambuco",
          "Rio Grande do Sul",
          "Minas Gerais",
          "Goiás",
          "Roraima",
          "Amapá",
          "Mato Grosso",
          "Paraná",
          "Pará",
          "Rio de Janeiro",
          "Espírito Santo",
          "Mato Grosso do Sul",
          "Maranhão",
          "Bahia"
         ],
         "yaxis": "y"
        }
       ],
       "layout": {
        "barmode": "relative",
        "height": 700,
        "legend": {
         "title": {
          "text": "Cor/Raça"
         },
         "tracegroupgap": 0
        },
        "template": {
         "data": {
          "bar": [
           {
            "error_x": {
             "color": "#2a3f5f"
            },
            "error_y": {
             "color": "#2a3f5f"
            },
            "marker": {
             "line": {
              "color": "#E5ECF6",
              "width": 0.5
             },
             "pattern": {
              "fillmode": "overlay",
              "size": 10,
              "solidity": 0.2
             }
            },
            "type": "bar"
           }
          ],
          "barpolar": [
           {
            "marker": {
             "line": {
              "color": "#E5ECF6",
              "width": 0.5
             },
             "pattern": {
              "fillmode": "overlay",
              "size": 10,
              "solidity": 0.2
             }
            },
            "type": "barpolar"
           }
          ],
          "carpet": [
           {
            "aaxis": {
             "endlinecolor": "#2a3f5f",
             "gridcolor": "white",
             "linecolor": "white",
             "minorgridcolor": "white",
             "startlinecolor": "#2a3f5f"
            },
            "baxis": {
             "endlinecolor": "#2a3f5f",
             "gridcolor": "white",
             "linecolor": "white",
             "minorgridcolor": "white",
             "startlinecolor": "#2a3f5f"
            },
            "type": "carpet"
           }
          ],
          "choropleth": [
           {
            "colorbar": {
             "outlinewidth": 0,
             "ticks": ""
            },
            "type": "choropleth"
           }
          ],
          "contour": [
           {
            "colorbar": {
             "outlinewidth": 0,
             "ticks": ""
            },
            "colorscale": [
             [
              0,
              "#0d0887"
             ],
             [
              0.1111111111111111,
              "#46039f"
             ],
             [
              0.2222222222222222,
              "#7201a8"
             ],
             [
              0.3333333333333333,
              "#9c179e"
             ],
             [
              0.4444444444444444,
              "#bd3786"
             ],
             [
              0.5555555555555556,
              "#d8576b"
             ],
             [
              0.6666666666666666,
              "#ed7953"
             ],
             [
              0.7777777777777778,
              "#fb9f3a"
             ],
             [
              0.8888888888888888,
              "#fdca26"
             ],
             [
              1,
              "#f0f921"
             ]
            ],
            "type": "contour"
           }
          ],
          "contourcarpet": [
           {
            "colorbar": {
             "outlinewidth": 0,
             "ticks": ""
            },
            "type": "contourcarpet"
           }
          ],
          "heatmap": [
           {
            "colorbar": {
             "outlinewidth": 0,
             "ticks": ""
            },
            "colorscale": [
             [
              0,
              "#0d0887"
             ],
             [
              0.1111111111111111,
              "#46039f"
             ],
             [
              0.2222222222222222,
              "#7201a8"
             ],
             [
              0.3333333333333333,
              "#9c179e"
             ],
             [
              0.4444444444444444,
              "#bd3786"
             ],
             [
              0.5555555555555556,
              "#d8576b"
             ],
             [
              0.6666666666666666,
              "#ed7953"
             ],
             [
              0.7777777777777778,
              "#fb9f3a"
             ],
             [
              0.8888888888888888,
              "#fdca26"
             ],
             [
              1,
              "#f0f921"
             ]
            ],
            "type": "heatmap"
           }
          ],
          "heatmapgl": [
           {
            "colorbar": {
             "outlinewidth": 0,
             "ticks": ""
            },
            "colorscale": [
             [
              0,
              "#0d0887"
             ],
             [
              0.1111111111111111,
              "#46039f"
             ],
             [
              0.2222222222222222,
              "#7201a8"
             ],
             [
              0.3333333333333333,
              "#9c179e"
             ],
             [
              0.4444444444444444,
              "#bd3786"
             ],
             [
              0.5555555555555556,
              "#d8576b"
             ],
             [
              0.6666666666666666,
              "#ed7953"
             ],
             [
              0.7777777777777778,
              "#fb9f3a"
             ],
             [
              0.8888888888888888,
              "#fdca26"
             ],
             [
              1,
              "#f0f921"
             ]
            ],
            "type": "heatmapgl"
           }
          ],
          "histogram": [
           {
            "marker": {
             "pattern": {
              "fillmode": "overlay",
              "size": 10,
              "solidity": 0.2
             }
            },
            "type": "histogram"
           }
          ],
          "histogram2d": [
           {
            "colorbar": {
             "outlinewidth": 0,
             "ticks": ""
            },
            "colorscale": [
             [
              0,
              "#0d0887"
             ],
             [
              0.1111111111111111,
              "#46039f"
             ],
             [
              0.2222222222222222,
              "#7201a8"
             ],
             [
              0.3333333333333333,
              "#9c179e"
             ],
             [
              0.4444444444444444,
              "#bd3786"
             ],
             [
              0.5555555555555556,
              "#d8576b"
             ],
             [
              0.6666666666666666,
              "#ed7953"
             ],
             [
              0.7777777777777778,
              "#fb9f3a"
             ],
             [
              0.8888888888888888,
              "#fdca26"
             ],
             [
              1,
              "#f0f921"
             ]
            ],
            "type": "histogram2d"
           }
          ],
          "histogram2dcontour": [
           {
            "colorbar": {
             "outlinewidth": 0,
             "ticks": ""
            },
            "colorscale": [
             [
              0,
              "#0d0887"
             ],
             [
              0.1111111111111111,
              "#46039f"
             ],
             [
              0.2222222222222222,
              "#7201a8"
             ],
             [
              0.3333333333333333,
              "#9c179e"
             ],
             [
              0.4444444444444444,
              "#bd3786"
             ],
             [
              0.5555555555555556,
              "#d8576b"
             ],
             [
              0.6666666666666666,
              "#ed7953"
             ],
             [
              0.7777777777777778,
              "#fb9f3a"
             ],
             [
              0.8888888888888888,
              "#fdca26"
             ],
             [
              1,
              "#f0f921"
             ]
            ],
            "type": "histogram2dcontour"
           }
          ],
          "mesh3d": [
           {
            "colorbar": {
             "outlinewidth": 0,
             "ticks": ""
            },
            "type": "mesh3d"
           }
          ],
          "parcoords": [
           {
            "line": {
             "colorbar": {
              "outlinewidth": 0,
              "ticks": ""
             }
            },
            "type": "parcoords"
           }
          ],
          "pie": [
           {
            "automargin": true,
            "type": "pie"
           }
          ],
          "scatter": [
           {
            "fillpattern": {
             "fillmode": "overlay",
             "size": 10,
             "solidity": 0.2
            },
            "type": "scatter"
           }
          ],
          "scatter3d": [
           {
            "line": {
             "colorbar": {
              "outlinewidth": 0,
              "ticks": ""
             }
            },
            "marker": {
             "colorbar": {
              "outlinewidth": 0,
              "ticks": ""
             }
            },
            "type": "scatter3d"
           }
          ],
          "scattercarpet": [
           {
            "marker": {
             "colorbar": {
              "outlinewidth": 0,
              "ticks": ""
             }
            },
            "type": "scattercarpet"
           }
          ],
          "scattergeo": [
           {
            "marker": {
             "colorbar": {
              "outlinewidth": 0,
              "ticks": ""
             }
            },
            "type": "scattergeo"
           }
          ],
          "scattergl": [
           {
            "marker": {
             "colorbar": {
              "outlinewidth": 0,
              "ticks": ""
             }
            },
            "type": "scattergl"
           }
          ],
          "scattermapbox": [
           {
            "marker": {
             "colorbar": {
              "outlinewidth": 0,
              "ticks": ""
             }
            },
            "type": "scattermapbox"
           }
          ],
          "scatterpolar": [
           {
            "marker": {
             "colorbar": {
              "outlinewidth": 0,
              "ticks": ""
             }
            },
            "type": "scatterpolar"
           }
          ],
          "scatterpolargl": [
           {
            "marker": {
             "colorbar": {
              "outlinewidth": 0,
              "ticks": ""
             }
            },
            "type": "scatterpolargl"
           }
          ],
          "scatterternary": [
           {
            "marker": {
             "colorbar": {
              "outlinewidth": 0,
              "ticks": ""
             }
            },
            "type": "scatterternary"
           }
          ],
          "surface": [
           {
            "colorbar": {
             "outlinewidth": 0,
             "ticks": ""
            },
            "colorscale": [
             [
              0,
              "#0d0887"
             ],
             [
              0.1111111111111111,
              "#46039f"
             ],
             [
              0.2222222222222222,
              "#7201a8"
             ],
             [
              0.3333333333333333,
              "#9c179e"
             ],
             [
              0.4444444444444444,
              "#bd3786"
             ],
             [
              0.5555555555555556,
              "#d8576b"
             ],
             [
              0.6666666666666666,
              "#ed7953"
             ],
             [
              0.7777777777777778,
              "#fb9f3a"
             ],
             [
              0.8888888888888888,
              "#fdca26"
             ],
             [
              1,
              "#f0f921"
             ]
            ],
            "type": "surface"
           }
          ],
          "table": [
           {
            "cells": {
             "fill": {
              "color": "#EBF0F8"
             },
             "line": {
              "color": "white"
             }
            },
            "header": {
             "fill": {
              "color": "#C8D4E3"
             },
             "line": {
              "color": "white"
             }
            },
            "type": "table"
           }
          ]
         },
         "layout": {
          "annotationdefaults": {
           "arrowcolor": "#2a3f5f",
           "arrowhead": 0,
           "arrowwidth": 1
          },
          "autotypenumbers": "strict",
          "coloraxis": {
           "colorbar": {
            "outlinewidth": 0,
            "ticks": ""
           }
          },
          "colorscale": {
           "diverging": [
            [
             0,
             "#8e0152"
            ],
            [
             0.1,
             "#c51b7d"
            ],
            [
             0.2,
             "#de77ae"
            ],
            [
             0.3,
             "#f1b6da"
            ],
            [
             0.4,
             "#fde0ef"
            ],
            [
             0.5,
             "#f7f7f7"
            ],
            [
             0.6,
             "#e6f5d0"
            ],
            [
             0.7,
             "#b8e186"
            ],
            [
             0.8,
             "#7fbc41"
            ],
            [
             0.9,
             "#4d9221"
            ],
            [
             1,
             "#276419"
            ]
           ],
           "sequential": [
            [
             0,
             "#0d0887"
            ],
            [
             0.1111111111111111,
             "#46039f"
            ],
            [
             0.2222222222222222,
             "#7201a8"
            ],
            [
             0.3333333333333333,
             "#9c179e"
            ],
            [
             0.4444444444444444,
             "#bd3786"
            ],
            [
             0.5555555555555556,
             "#d8576b"
            ],
            [
             0.6666666666666666,
             "#ed7953"
            ],
            [
             0.7777777777777778,
             "#fb9f3a"
            ],
            [
             0.8888888888888888,
             "#fdca26"
            ],
            [
             1,
             "#f0f921"
            ]
           ],
           "sequentialminus": [
            [
             0,
             "#0d0887"
            ],
            [
             0.1111111111111111,
             "#46039f"
            ],
            [
             0.2222222222222222,
             "#7201a8"
            ],
            [
             0.3333333333333333,
             "#9c179e"
            ],
            [
             0.4444444444444444,
             "#bd3786"
            ],
            [
             0.5555555555555556,
             "#d8576b"
            ],
            [
             0.6666666666666666,
             "#ed7953"
            ],
            [
             0.7777777777777778,
             "#fb9f3a"
            ],
            [
             0.8888888888888888,
             "#fdca26"
            ],
            [
             1,
             "#f0f921"
            ]
           ]
          },
          "colorway": [
           "#636efa",
           "#EF553B",
           "#00cc96",
           "#ab63fa",
           "#FFA15A",
           "#19d3f3",
           "#FF6692",
           "#B6E880",
           "#FF97FF",
           "#FECB52"
          ],
          "font": {
           "color": "#2a3f5f"
          },
          "geo": {
           "bgcolor": "white",
           "lakecolor": "white",
           "landcolor": "#E5ECF6",
           "showlakes": true,
           "showland": true,
           "subunitcolor": "white"
          },
          "hoverlabel": {
           "align": "left"
          },
          "hovermode": "closest",
          "mapbox": {
           "style": "light"
          },
          "paper_bgcolor": "white",
          "plot_bgcolor": "#E5ECF6",
          "polar": {
           "angularaxis": {
            "gridcolor": "white",
            "linecolor": "white",
            "ticks": ""
           },
           "bgcolor": "#E5ECF6",
           "radialaxis": {
            "gridcolor": "white",
            "linecolor": "white",
            "ticks": ""
           }
          },
          "scene": {
           "xaxis": {
            "backgroundcolor": "#E5ECF6",
            "gridcolor": "white",
            "gridwidth": 2,
            "linecolor": "white",
            "showbackground": true,
            "ticks": "",
            "zerolinecolor": "white"
           },
           "yaxis": {
            "backgroundcolor": "#E5ECF6",
            "gridcolor": "white",
            "gridwidth": 2,
            "linecolor": "white",
            "showbackground": true,
            "ticks": "",
            "zerolinecolor": "white"
           },
           "zaxis": {
            "backgroundcolor": "#E5ECF6",
            "gridcolor": "white",
            "gridwidth": 2,
            "linecolor": "white",
            "showbackground": true,
            "ticks": "",
            "zerolinecolor": "white"
           }
          },
          "shapedefaults": {
           "line": {
            "color": "#2a3f5f"
           }
          },
          "ternary": {
           "aaxis": {
            "gridcolor": "white",
            "linecolor": "white",
            "ticks": ""
           },
           "baxis": {
            "gridcolor": "white",
            "linecolor": "white",
            "ticks": ""
           },
           "bgcolor": "#E5ECF6",
           "caxis": {
            "gridcolor": "white",
            "linecolor": "white",
            "ticks": ""
           }
          },
          "title": {
           "x": 0.05
          },
          "xaxis": {
           "automargin": true,
           "gridcolor": "white",
           "linecolor": "white",
           "ticks": "",
           "title": {
            "standoff": 15
           },
           "zerolinecolor": "white",
           "zerolinewidth": 2
          },
          "yaxis": {
           "automargin": true,
           "gridcolor": "white",
           "linecolor": "white",
           "ticks": "",
           "title": {
            "standoff": 15
           },
           "zerolinecolor": "white",
           "zerolinewidth": 2
          }
         }
        },
        "title": {
         "text": "Ditribuição da população da pesquisa por cor/raça<br>PNAD COVID-19",
         "x": 0.5
        },
        "width": 800,
        "xaxis": {
         "anchor": "y",
         "domain": [
          0,
          1
         ],
         "title": {
          "text": "Proporção da população (%)"
         }
        },
        "yaxis": {
         "anchor": "x",
         "domain": [
          0,
          1
         ],
         "title": {
          "text": "Estado"
         }
        }
       }
      }
     },
     "metadata": {},
     "output_type": "display_data"
    }
   ],
   "source": [
    "fig_cor_raca = px.bar(df_results.sort_values(by=['proportion_raca'], ascending=False), y=\"uf\", x=\"proportion_raca\", color=\"cor_raca\", title=\"Ditribuição da população da pesquisa por cor/raça<br>PNAD COVID-19\",\n",
    "            labels=dict(uf=\"Estado\", proportion_raca=\"Proporção da população (%)\", cor_raca=\"Cor/Raça\"))\n",
    "\n",
    "fig_cor_raca.update_layout(title_x=0.5, width=800, height=700)\n",
    "\n",
    "title_name = 'Distribuição da populacao da pesquisa por cor-raça'\n",
    "\n",
    "plotly.offline.plot(fig_cor_raca, filename = f'./plots/{title_name}.html', auto_play=False, auto_open=False)\n",
    "\n",
    "fig_cor_raca.show()\n"
   ]
  },
  {
   "cell_type": "markdown",
   "metadata": {},
   "source": [
    "# Relação escolaridade e ocupação"
   ]
  },
  {
   "cell_type": "code",
   "execution_count": 3,
   "metadata": {},
   "outputs": [],
   "source": [
    "query_sql = f\"\"\"\n",
    "with cont_escolaridade_trabalho as (\n",
    "SELECT \n",
    "  escolaridade, trabalhou, COUNT(*) as n_entrevistados\n",
    "FROM\n",
    "  `{project_id}.{dataset_id}.{table_id}`\n",
    "GROUP BY escolaridade, trabalhou)\n",
    "\n",
    "SELECT\n",
    "    escolaridade,\n",
    "    trabalhou,\n",
    "    n_entrevistados,\n",
    "    ROUND(SUM(n_entrevistados)/SUM(n_entrevistados) OVER (PARTITION BY escolaridade),4) AS proportion\n",
    "FROM\n",
    "    cont_escolaridade_trabalho\n",
    "GROUP BY\n",
    "    escolaridade, trabalhou, n_entrevistados\n",
    "ORDER BY escolaridade, trabalhou DESC\n",
    "\"\"\"\n",
    "\n",
    "query_job = client.query(query_sql)\n",
    "df_results = query_job.to_dataframe()"
   ]
  },
  {
   "cell_type": "code",
   "execution_count": 4,
   "metadata": {},
   "outputs": [
    {
     "data": {
      "text/html": [
       "<div>\n",
       "<style scoped>\n",
       "    .dataframe tbody tr th:only-of-type {\n",
       "        vertical-align: middle;\n",
       "    }\n",
       "\n",
       "    .dataframe tbody tr th {\n",
       "        vertical-align: top;\n",
       "    }\n",
       "\n",
       "    .dataframe thead th {\n",
       "        text-align: right;\n",
       "    }\n",
       "</style>\n",
       "<table border=\"1\" class=\"dataframe\">\n",
       "  <thead>\n",
       "    <tr style=\"text-align: right;\">\n",
       "      <th></th>\n",
       "      <th>escolaridade</th>\n",
       "      <th>n_entrevistados</th>\n",
       "    </tr>\n",
       "  </thead>\n",
       "  <tbody>\n",
       "    <tr>\n",
       "      <th>0</th>\n",
       "      <td>Fundamental completo</td>\n",
       "      <td>75259</td>\n",
       "    </tr>\n",
       "    <tr>\n",
       "      <th>1</th>\n",
       "      <td>Fundamental incompleto</td>\n",
       "      <td>264414</td>\n",
       "    </tr>\n",
       "    <tr>\n",
       "      <th>2</th>\n",
       "      <td>Médio completo</td>\n",
       "      <td>256040</td>\n",
       "    </tr>\n",
       "    <tr>\n",
       "      <th>3</th>\n",
       "      <td>Médio incompleto</td>\n",
       "      <td>107635</td>\n",
       "    </tr>\n",
       "    <tr>\n",
       "      <th>4</th>\n",
       "      <td>Pós-graduação</td>\n",
       "      <td>30290</td>\n",
       "    </tr>\n",
       "    <tr>\n",
       "      <th>5</th>\n",
       "      <td>Sem instrução</td>\n",
       "      <td>47821</td>\n",
       "    </tr>\n",
       "    <tr>\n",
       "      <th>6</th>\n",
       "      <td>Superior completo</td>\n",
       "      <td>107441</td>\n",
       "    </tr>\n",
       "    <tr>\n",
       "      <th>7</th>\n",
       "      <td>Superior incompleto</td>\n",
       "      <td>59678</td>\n",
       "    </tr>\n",
       "  </tbody>\n",
       "</table>\n",
       "</div>"
      ],
      "text/plain": [
       "             escolaridade  n_entrevistados\n",
       "0    Fundamental completo            75259\n",
       "1  Fundamental incompleto           264414\n",
       "2          Médio completo           256040\n",
       "3        Médio incompleto           107635\n",
       "4           Pós-graduação            30290\n",
       "5           Sem instrução            47821\n",
       "6       Superior completo           107441\n",
       "7     Superior incompleto            59678"
      ]
     },
     "metadata": {},
     "output_type": "display_data"
    }
   ],
   "source": [
    "df_results['escolaridade'] = df_results['escolaridade'].astype(str).replace(dict_escolaridade)\n",
    "df_results['trabalhou'] = df_results['trabalhou'].astype(str).replace(dict_trabalhou)\n",
    "df_results = df_results.loc[df_results['trabalhou'] != \"Não aplicável\"]\n",
    "df_results.reset_index(drop=True, inplace=True)\n",
    "df_desemprego = df_results.copy()\n",
    "n_entrevistados_escolaridade = df_desemprego.groupby('escolaridade').agg({'n_entrevistados':'sum'}).reset_index()\n",
    "n_entrevistados_escolaridade['n_entrevistados'] = n_entrevistados_escolaridade['n_entrevistados'].astype(int)\n",
    "display(n_entrevistados_escolaridade)"
   ]
  },
  {
   "cell_type": "code",
   "execution_count": 5,
   "metadata": {},
   "outputs": [
    {
     "data": {
      "text/html": [
       "<div>\n",
       "<style scoped>\n",
       "    .dataframe tbody tr th:only-of-type {\n",
       "        vertical-align: middle;\n",
       "    }\n",
       "\n",
       "    .dataframe tbody tr th {\n",
       "        vertical-align: top;\n",
       "    }\n",
       "\n",
       "    .dataframe thead th {\n",
       "        text-align: right;\n",
       "    }\n",
       "</style>\n",
       "<table border=\"1\" class=\"dataframe\">\n",
       "  <thead>\n",
       "    <tr style=\"text-align: right;\">\n",
       "      <th></th>\n",
       "      <th>escolaridade</th>\n",
       "      <th>trabalhou</th>\n",
       "      <th>proportion</th>\n",
       "      <th>escolaridade_index</th>\n",
       "      <th>desemprego</th>\n",
       "      <th>n_entrevistados</th>\n",
       "    </tr>\n",
       "  </thead>\n",
       "  <tbody>\n",
       "    <tr>\n",
       "      <th>0</th>\n",
       "      <td>Sem instrução</td>\n",
       "      <td>Sim</td>\n",
       "      <td>0.0691</td>\n",
       "      <td>0</td>\n",
       "      <td>93.09</td>\n",
       "      <td>47821</td>\n",
       "    </tr>\n",
       "    <tr>\n",
       "      <th>1</th>\n",
       "      <td>Fundamental incompleto</td>\n",
       "      <td>Sim</td>\n",
       "      <td>0.2365</td>\n",
       "      <td>1</td>\n",
       "      <td>76.35</td>\n",
       "      <td>264414</td>\n",
       "    </tr>\n",
       "    <tr>\n",
       "      <th>2</th>\n",
       "      <td>Fundamental completo</td>\n",
       "      <td>Sim</td>\n",
       "      <td>0.4073</td>\n",
       "      <td>2</td>\n",
       "      <td>59.27</td>\n",
       "      <td>75259</td>\n",
       "    </tr>\n",
       "    <tr>\n",
       "      <th>3</th>\n",
       "      <td>Médio incompleto</td>\n",
       "      <td>Sim</td>\n",
       "      <td>0.3309</td>\n",
       "      <td>3</td>\n",
       "      <td>66.91</td>\n",
       "      <td>107635</td>\n",
       "    </tr>\n",
       "    <tr>\n",
       "      <th>4</th>\n",
       "      <td>Médio completo</td>\n",
       "      <td>Sim</td>\n",
       "      <td>0.5236</td>\n",
       "      <td>4</td>\n",
       "      <td>47.64</td>\n",
       "      <td>256040</td>\n",
       "    </tr>\n",
       "    <tr>\n",
       "      <th>5</th>\n",
       "      <td>Superior incompleto</td>\n",
       "      <td>Sim</td>\n",
       "      <td>0.5184</td>\n",
       "      <td>5</td>\n",
       "      <td>48.16</td>\n",
       "      <td>59678</td>\n",
       "    </tr>\n",
       "    <tr>\n",
       "      <th>6</th>\n",
       "      <td>Superior completo</td>\n",
       "      <td>Sim</td>\n",
       "      <td>0.6487</td>\n",
       "      <td>6</td>\n",
       "      <td>35.13</td>\n",
       "      <td>107441</td>\n",
       "    </tr>\n",
       "    <tr>\n",
       "      <th>7</th>\n",
       "      <td>Pós-graduação</td>\n",
       "      <td>Sim</td>\n",
       "      <td>0.7469</td>\n",
       "      <td>7</td>\n",
       "      <td>25.31</td>\n",
       "      <td>30290</td>\n",
       "    </tr>\n",
       "  </tbody>\n",
       "</table>\n",
       "</div>"
      ],
      "text/plain": [
       "             escolaridade trabalhou  proportion  escolaridade_index  \\\n",
       "0           Sem instrução       Sim      0.0691                   0   \n",
       "1  Fundamental incompleto       Sim      0.2365                   1   \n",
       "2    Fundamental completo       Sim      0.4073                   2   \n",
       "3        Médio incompleto       Sim      0.3309                   3   \n",
       "4          Médio completo       Sim      0.5236                   4   \n",
       "5     Superior incompleto       Sim      0.5184                   5   \n",
       "6       Superior completo       Sim      0.6487                   6   \n",
       "7           Pós-graduação       Sim      0.7469                   7   \n",
       "\n",
       "   desemprego  n_entrevistados  \n",
       "0       93.09            47821  \n",
       "1       76.35           264414  \n",
       "2       59.27            75259  \n",
       "3       66.91           107635  \n",
       "4       47.64           256040  \n",
       "5       48.16            59678  \n",
       "6       35.13           107441  \n",
       "7       25.31            30290  "
      ]
     },
     "execution_count": 5,
     "metadata": {},
     "output_type": "execute_result"
    }
   ],
   "source": [
    "df_desemprego = df_desemprego.loc[df_desemprego['trabalhou'] == 'Sim']\n",
    "df_desemprego['escolaridade_index'] = list(range(len(df_desemprego['escolaridade'].unique())))\n",
    "df_desemprego['desemprego'] = (1 - df_desemprego['proportion']) * 100\n",
    "df_desemprego.drop(columns=['n_entrevistados'],inplace=True)\n",
    "df_desemprego = df_desemprego.merge(n_entrevistados_escolaridade, on='escolaridade')\n",
    "df_desemprego"
   ]
  },
  {
   "cell_type": "code",
   "execution_count": 8,
   "metadata": {},
   "outputs": [
    {
     "data": {
      "application/vnd.plotly.v1+json": {
       "config": {
        "plotlyServerURL": "https://plot.ly"
       },
       "data": [
        {
         "hovertemplate": "<b>%{hovertext}</b><br><br>Escolaridade=%{x}<br>Taxa de desocupação (%)=%{y}<br>Nº entrevistados=%{marker.size}<extra></extra>",
         "hovertext": [
          "Sem instrução"
         ],
         "legendgroup": "Sem instrução",
         "marker": {
          "color": "#3366CC",
          "size": [
           47821
          ],
          "sizemode": "area",
          "sizeref": 73.44833333333334,
          "symbol": "circle"
         },
         "mode": "markers",
         "name": "Sem instrução",
         "orientation": "v",
         "showlegend": true,
         "type": "scatter",
         "x": [
          "Sem instrução"
         ],
         "xaxis": "x",
         "y": [
          93.09
         ],
         "yaxis": "y"
        },
        {
         "hovertemplate": "<b>%{hovertext}</b><br><br>Escolaridade=%{x}<br>Taxa de desocupação (%)=%{y}<br>Nº entrevistados=%{marker.size}<extra></extra>",
         "hovertext": [
          "Fundamental incompleto"
         ],
         "legendgroup": "Fundamental incompleto",
         "marker": {
          "color": "#DC3912",
          "size": [
           264414
          ],
          "sizemode": "area",
          "sizeref": 73.44833333333334,
          "symbol": "circle"
         },
         "mode": "markers",
         "name": "Fundamental incompleto",
         "orientation": "v",
         "showlegend": true,
         "type": "scatter",
         "x": [
          "Fundamental incompleto"
         ],
         "xaxis": "x",
         "y": [
          76.35000000000001
         ],
         "yaxis": "y"
        },
        {
         "hovertemplate": "<b>%{hovertext}</b><br><br>Escolaridade=%{x}<br>Taxa de desocupação (%)=%{y}<br>Nº entrevistados=%{marker.size}<extra></extra>",
         "hovertext": [
          "Fundamental completo"
         ],
         "legendgroup": "Fundamental completo",
         "marker": {
          "color": "#FF9900",
          "size": [
           75259
          ],
          "sizemode": "area",
          "sizeref": 73.44833333333334,
          "symbol": "circle"
         },
         "mode": "markers",
         "name": "Fundamental completo",
         "orientation": "v",
         "showlegend": true,
         "type": "scatter",
         "x": [
          "Fundamental completo"
         ],
         "xaxis": "x",
         "y": [
          59.27
         ],
         "yaxis": "y"
        },
        {
         "hovertemplate": "<b>%{hovertext}</b><br><br>Escolaridade=%{x}<br>Taxa de desocupação (%)=%{y}<br>Nº entrevistados=%{marker.size}<extra></extra>",
         "hovertext": [
          "Médio incompleto"
         ],
         "legendgroup": "Médio incompleto",
         "marker": {
          "color": "#109618",
          "size": [
           107635
          ],
          "sizemode": "area",
          "sizeref": 73.44833333333334,
          "symbol": "circle"
         },
         "mode": "markers",
         "name": "Médio incompleto",
         "orientation": "v",
         "showlegend": true,
         "type": "scatter",
         "x": [
          "Médio incompleto"
         ],
         "xaxis": "x",
         "y": [
          66.91
         ],
         "yaxis": "y"
        },
        {
         "hovertemplate": "<b>%{hovertext}</b><br><br>Escolaridade=%{x}<br>Taxa de desocupação (%)=%{y}<br>Nº entrevistados=%{marker.size}<extra></extra>",
         "hovertext": [
          "Médio completo"
         ],
         "legendgroup": "Médio completo",
         "marker": {
          "color": "#990099",
          "size": [
           256040
          ],
          "sizemode": "area",
          "sizeref": 73.44833333333334,
          "symbol": "circle"
         },
         "mode": "markers",
         "name": "Médio completo",
         "orientation": "v",
         "showlegend": true,
         "type": "scatter",
         "x": [
          "Médio completo"
         ],
         "xaxis": "x",
         "y": [
          47.64000000000001
         ],
         "yaxis": "y"
        },
        {
         "hovertemplate": "<b>%{hovertext}</b><br><br>Escolaridade=%{x}<br>Taxa de desocupação (%)=%{y}<br>Nº entrevistados=%{marker.size}<extra></extra>",
         "hovertext": [
          "Superior incompleto"
         ],
         "legendgroup": "Superior incompleto",
         "marker": {
          "color": "#0099C6",
          "size": [
           59678
          ],
          "sizemode": "area",
          "sizeref": 73.44833333333334,
          "symbol": "circle"
         },
         "mode": "markers",
         "name": "Superior incompleto",
         "orientation": "v",
         "showlegend": true,
         "type": "scatter",
         "x": [
          "Superior incompleto"
         ],
         "xaxis": "x",
         "y": [
          48.160000000000004
         ],
         "yaxis": "y"
        },
        {
         "hovertemplate": "<b>%{hovertext}</b><br><br>Escolaridade=%{x}<br>Taxa de desocupação (%)=%{y}<br>Nº entrevistados=%{marker.size}<extra></extra>",
         "hovertext": [
          "Superior completo"
         ],
         "legendgroup": "Superior completo",
         "marker": {
          "color": "#DD4477",
          "size": [
           107441
          ],
          "sizemode": "area",
          "sizeref": 73.44833333333334,
          "symbol": "circle"
         },
         "mode": "markers",
         "name": "Superior completo",
         "orientation": "v",
         "showlegend": true,
         "type": "scatter",
         "x": [
          "Superior completo"
         ],
         "xaxis": "x",
         "y": [
          35.129999999999995
         ],
         "yaxis": "y"
        },
        {
         "hovertemplate": "<b>%{hovertext}</b><br><br>Escolaridade=%{x}<br>Taxa de desocupação (%)=%{y}<br>Nº entrevistados=%{marker.size}<extra></extra>",
         "hovertext": [
          "Pós-graduação"
         ],
         "legendgroup": "Pós-graduação",
         "marker": {
          "color": "#66AA00",
          "size": [
           30290
          ],
          "sizemode": "area",
          "sizeref": 73.44833333333334,
          "symbol": "circle"
         },
         "mode": "markers",
         "name": "Pós-graduação",
         "orientation": "v",
         "showlegend": true,
         "type": "scatter",
         "x": [
          "Pós-graduação"
         ],
         "xaxis": "x",
         "y": [
          25.31
         ],
         "yaxis": "y"
        }
       ],
       "layout": {
        "height": 600,
        "legend": {
         "itemsizing": "constant",
         "title": {
          "text": "Escolaridade"
         },
         "tracegroupgap": 0
        },
        "template": {
         "data": {
          "bar": [
           {
            "error_x": {
             "color": "#2a3f5f"
            },
            "error_y": {
             "color": "#2a3f5f"
            },
            "marker": {
             "line": {
              "color": "#E5ECF6",
              "width": 0.5
             },
             "pattern": {
              "fillmode": "overlay",
              "size": 10,
              "solidity": 0.2
             }
            },
            "type": "bar"
           }
          ],
          "barpolar": [
           {
            "marker": {
             "line": {
              "color": "#E5ECF6",
              "width": 0.5
             },
             "pattern": {
              "fillmode": "overlay",
              "size": 10,
              "solidity": 0.2
             }
            },
            "type": "barpolar"
           }
          ],
          "carpet": [
           {
            "aaxis": {
             "endlinecolor": "#2a3f5f",
             "gridcolor": "white",
             "linecolor": "white",
             "minorgridcolor": "white",
             "startlinecolor": "#2a3f5f"
            },
            "baxis": {
             "endlinecolor": "#2a3f5f",
             "gridcolor": "white",
             "linecolor": "white",
             "minorgridcolor": "white",
             "startlinecolor": "#2a3f5f"
            },
            "type": "carpet"
           }
          ],
          "choropleth": [
           {
            "colorbar": {
             "outlinewidth": 0,
             "ticks": ""
            },
            "type": "choropleth"
           }
          ],
          "contour": [
           {
            "colorbar": {
             "outlinewidth": 0,
             "ticks": ""
            },
            "colorscale": [
             [
              0,
              "#0d0887"
             ],
             [
              0.1111111111111111,
              "#46039f"
             ],
             [
              0.2222222222222222,
              "#7201a8"
             ],
             [
              0.3333333333333333,
              "#9c179e"
             ],
             [
              0.4444444444444444,
              "#bd3786"
             ],
             [
              0.5555555555555556,
              "#d8576b"
             ],
             [
              0.6666666666666666,
              "#ed7953"
             ],
             [
              0.7777777777777778,
              "#fb9f3a"
             ],
             [
              0.8888888888888888,
              "#fdca26"
             ],
             [
              1,
              "#f0f921"
             ]
            ],
            "type": "contour"
           }
          ],
          "contourcarpet": [
           {
            "colorbar": {
             "outlinewidth": 0,
             "ticks": ""
            },
            "type": "contourcarpet"
           }
          ],
          "heatmap": [
           {
            "colorbar": {
             "outlinewidth": 0,
             "ticks": ""
            },
            "colorscale": [
             [
              0,
              "#0d0887"
             ],
             [
              0.1111111111111111,
              "#46039f"
             ],
             [
              0.2222222222222222,
              "#7201a8"
             ],
             [
              0.3333333333333333,
              "#9c179e"
             ],
             [
              0.4444444444444444,
              "#bd3786"
             ],
             [
              0.5555555555555556,
              "#d8576b"
             ],
             [
              0.6666666666666666,
              "#ed7953"
             ],
             [
              0.7777777777777778,
              "#fb9f3a"
             ],
             [
              0.8888888888888888,
              "#fdca26"
             ],
             [
              1,
              "#f0f921"
             ]
            ],
            "type": "heatmap"
           }
          ],
          "heatmapgl": [
           {
            "colorbar": {
             "outlinewidth": 0,
             "ticks": ""
            },
            "colorscale": [
             [
              0,
              "#0d0887"
             ],
             [
              0.1111111111111111,
              "#46039f"
             ],
             [
              0.2222222222222222,
              "#7201a8"
             ],
             [
              0.3333333333333333,
              "#9c179e"
             ],
             [
              0.4444444444444444,
              "#bd3786"
             ],
             [
              0.5555555555555556,
              "#d8576b"
             ],
             [
              0.6666666666666666,
              "#ed7953"
             ],
             [
              0.7777777777777778,
              "#fb9f3a"
             ],
             [
              0.8888888888888888,
              "#fdca26"
             ],
             [
              1,
              "#f0f921"
             ]
            ],
            "type": "heatmapgl"
           }
          ],
          "histogram": [
           {
            "marker": {
             "pattern": {
              "fillmode": "overlay",
              "size": 10,
              "solidity": 0.2
             }
            },
            "type": "histogram"
           }
          ],
          "histogram2d": [
           {
            "colorbar": {
             "outlinewidth": 0,
             "ticks": ""
            },
            "colorscale": [
             [
              0,
              "#0d0887"
             ],
             [
              0.1111111111111111,
              "#46039f"
             ],
             [
              0.2222222222222222,
              "#7201a8"
             ],
             [
              0.3333333333333333,
              "#9c179e"
             ],
             [
              0.4444444444444444,
              "#bd3786"
             ],
             [
              0.5555555555555556,
              "#d8576b"
             ],
             [
              0.6666666666666666,
              "#ed7953"
             ],
             [
              0.7777777777777778,
              "#fb9f3a"
             ],
             [
              0.8888888888888888,
              "#fdca26"
             ],
             [
              1,
              "#f0f921"
             ]
            ],
            "type": "histogram2d"
           }
          ],
          "histogram2dcontour": [
           {
            "colorbar": {
             "outlinewidth": 0,
             "ticks": ""
            },
            "colorscale": [
             [
              0,
              "#0d0887"
             ],
             [
              0.1111111111111111,
              "#46039f"
             ],
             [
              0.2222222222222222,
              "#7201a8"
             ],
             [
              0.3333333333333333,
              "#9c179e"
             ],
             [
              0.4444444444444444,
              "#bd3786"
             ],
             [
              0.5555555555555556,
              "#d8576b"
             ],
             [
              0.6666666666666666,
              "#ed7953"
             ],
             [
              0.7777777777777778,
              "#fb9f3a"
             ],
             [
              0.8888888888888888,
              "#fdca26"
             ],
             [
              1,
              "#f0f921"
             ]
            ],
            "type": "histogram2dcontour"
           }
          ],
          "mesh3d": [
           {
            "colorbar": {
             "outlinewidth": 0,
             "ticks": ""
            },
            "type": "mesh3d"
           }
          ],
          "parcoords": [
           {
            "line": {
             "colorbar": {
              "outlinewidth": 0,
              "ticks": ""
             }
            },
            "type": "parcoords"
           }
          ],
          "pie": [
           {
            "automargin": true,
            "type": "pie"
           }
          ],
          "scatter": [
           {
            "fillpattern": {
             "fillmode": "overlay",
             "size": 10,
             "solidity": 0.2
            },
            "type": "scatter"
           }
          ],
          "scatter3d": [
           {
            "line": {
             "colorbar": {
              "outlinewidth": 0,
              "ticks": ""
             }
            },
            "marker": {
             "colorbar": {
              "outlinewidth": 0,
              "ticks": ""
             }
            },
            "type": "scatter3d"
           }
          ],
          "scattercarpet": [
           {
            "marker": {
             "colorbar": {
              "outlinewidth": 0,
              "ticks": ""
             }
            },
            "type": "scattercarpet"
           }
          ],
          "scattergeo": [
           {
            "marker": {
             "colorbar": {
              "outlinewidth": 0,
              "ticks": ""
             }
            },
            "type": "scattergeo"
           }
          ],
          "scattergl": [
           {
            "marker": {
             "colorbar": {
              "outlinewidth": 0,
              "ticks": ""
             }
            },
            "type": "scattergl"
           }
          ],
          "scattermapbox": [
           {
            "marker": {
             "colorbar": {
              "outlinewidth": 0,
              "ticks": ""
             }
            },
            "type": "scattermapbox"
           }
          ],
          "scatterpolar": [
           {
            "marker": {
             "colorbar": {
              "outlinewidth": 0,
              "ticks": ""
             }
            },
            "type": "scatterpolar"
           }
          ],
          "scatterpolargl": [
           {
            "marker": {
             "colorbar": {
              "outlinewidth": 0,
              "ticks": ""
             }
            },
            "type": "scatterpolargl"
           }
          ],
          "scatterternary": [
           {
            "marker": {
             "colorbar": {
              "outlinewidth": 0,
              "ticks": ""
             }
            },
            "type": "scatterternary"
           }
          ],
          "surface": [
           {
            "colorbar": {
             "outlinewidth": 0,
             "ticks": ""
            },
            "colorscale": [
             [
              0,
              "#0d0887"
             ],
             [
              0.1111111111111111,
              "#46039f"
             ],
             [
              0.2222222222222222,
              "#7201a8"
             ],
             [
              0.3333333333333333,
              "#9c179e"
             ],
             [
              0.4444444444444444,
              "#bd3786"
             ],
             [
              0.5555555555555556,
              "#d8576b"
             ],
             [
              0.6666666666666666,
              "#ed7953"
             ],
             [
              0.7777777777777778,
              "#fb9f3a"
             ],
             [
              0.8888888888888888,
              "#fdca26"
             ],
             [
              1,
              "#f0f921"
             ]
            ],
            "type": "surface"
           }
          ],
          "table": [
           {
            "cells": {
             "fill": {
              "color": "#EBF0F8"
             },
             "line": {
              "color": "white"
             }
            },
            "header": {
             "fill": {
              "color": "#C8D4E3"
             },
             "line": {
              "color": "white"
             }
            },
            "type": "table"
           }
          ]
         },
         "layout": {
          "annotationdefaults": {
           "arrowcolor": "#2a3f5f",
           "arrowhead": 0,
           "arrowwidth": 1
          },
          "autotypenumbers": "strict",
          "coloraxis": {
           "colorbar": {
            "outlinewidth": 0,
            "ticks": ""
           }
          },
          "colorscale": {
           "diverging": [
            [
             0,
             "#8e0152"
            ],
            [
             0.1,
             "#c51b7d"
            ],
            [
             0.2,
             "#de77ae"
            ],
            [
             0.3,
             "#f1b6da"
            ],
            [
             0.4,
             "#fde0ef"
            ],
            [
             0.5,
             "#f7f7f7"
            ],
            [
             0.6,
             "#e6f5d0"
            ],
            [
             0.7,
             "#b8e186"
            ],
            [
             0.8,
             "#7fbc41"
            ],
            [
             0.9,
             "#4d9221"
            ],
            [
             1,
             "#276419"
            ]
           ],
           "sequential": [
            [
             0,
             "#0d0887"
            ],
            [
             0.1111111111111111,
             "#46039f"
            ],
            [
             0.2222222222222222,
             "#7201a8"
            ],
            [
             0.3333333333333333,
             "#9c179e"
            ],
            [
             0.4444444444444444,
             "#bd3786"
            ],
            [
             0.5555555555555556,
             "#d8576b"
            ],
            [
             0.6666666666666666,
             "#ed7953"
            ],
            [
             0.7777777777777778,
             "#fb9f3a"
            ],
            [
             0.8888888888888888,
             "#fdca26"
            ],
            [
             1,
             "#f0f921"
            ]
           ],
           "sequentialminus": [
            [
             0,
             "#0d0887"
            ],
            [
             0.1111111111111111,
             "#46039f"
            ],
            [
             0.2222222222222222,
             "#7201a8"
            ],
            [
             0.3333333333333333,
             "#9c179e"
            ],
            [
             0.4444444444444444,
             "#bd3786"
            ],
            [
             0.5555555555555556,
             "#d8576b"
            ],
            [
             0.6666666666666666,
             "#ed7953"
            ],
            [
             0.7777777777777778,
             "#fb9f3a"
            ],
            [
             0.8888888888888888,
             "#fdca26"
            ],
            [
             1,
             "#f0f921"
            ]
           ]
          },
          "colorway": [
           "#636efa",
           "#EF553B",
           "#00cc96",
           "#ab63fa",
           "#FFA15A",
           "#19d3f3",
           "#FF6692",
           "#B6E880",
           "#FF97FF",
           "#FECB52"
          ],
          "font": {
           "color": "#2a3f5f"
          },
          "geo": {
           "bgcolor": "white",
           "lakecolor": "white",
           "landcolor": "#E5ECF6",
           "showlakes": true,
           "showland": true,
           "subunitcolor": "white"
          },
          "hoverlabel": {
           "align": "left"
          },
          "hovermode": "closest",
          "mapbox": {
           "style": "light"
          },
          "paper_bgcolor": "white",
          "plot_bgcolor": "#E5ECF6",
          "polar": {
           "angularaxis": {
            "gridcolor": "white",
            "linecolor": "white",
            "ticks": ""
           },
           "bgcolor": "#E5ECF6",
           "radialaxis": {
            "gridcolor": "white",
            "linecolor": "white",
            "ticks": ""
           }
          },
          "scene": {
           "xaxis": {
            "backgroundcolor": "#E5ECF6",
            "gridcolor": "white",
            "gridwidth": 2,
            "linecolor": "white",
            "showbackground": true,
            "ticks": "",
            "zerolinecolor": "white"
           },
           "yaxis": {
            "backgroundcolor": "#E5ECF6",
            "gridcolor": "white",
            "gridwidth": 2,
            "linecolor": "white",
            "showbackground": true,
            "ticks": "",
            "zerolinecolor": "white"
           },
           "zaxis": {
            "backgroundcolor": "#E5ECF6",
            "gridcolor": "white",
            "gridwidth": 2,
            "linecolor": "white",
            "showbackground": true,
            "ticks": "",
            "zerolinecolor": "white"
           }
          },
          "shapedefaults": {
           "line": {
            "color": "#2a3f5f"
           }
          },
          "ternary": {
           "aaxis": {
            "gridcolor": "white",
            "linecolor": "white",
            "ticks": ""
           },
           "baxis": {
            "gridcolor": "white",
            "linecolor": "white",
            "ticks": ""
           },
           "bgcolor": "#E5ECF6",
           "caxis": {
            "gridcolor": "white",
            "linecolor": "white",
            "ticks": ""
           }
          },
          "title": {
           "x": 0.05
          },
          "xaxis": {
           "automargin": true,
           "gridcolor": "white",
           "linecolor": "white",
           "ticks": "",
           "title": {
            "standoff": 15
           },
           "zerolinecolor": "white",
           "zerolinewidth": 2
          },
          "yaxis": {
           "automargin": true,
           "gridcolor": "white",
           "linecolor": "white",
           "ticks": "",
           "title": {
            "standoff": 15
           },
           "zerolinecolor": "white",
           "zerolinewidth": 2
          }
         }
        },
        "title": {
         "text": "Relação entre escolaridade e taxa de desocupação<br>PNAD COVID-19",
         "x": 0.5
        },
        "width": 1300,
        "xaxis": {
         "anchor": "y",
         "categoryarray": [
          "Sem instrução",
          "Fundamental incompleto",
          "Fundamental completo",
          "Médio incompleto",
          "Médio completo",
          "Superior incompleto",
          "Superior completo",
          "Pós-graduação"
         ],
         "categoryorder": "array",
         "domain": [
          0,
          1
         ],
         "title": {
          "text": "Escolaridade"
         }
        },
        "yaxis": {
         "anchor": "x",
         "domain": [
          0,
          1
         ],
         "range": [
          0,
          100
         ],
         "title": {
          "text": "Taxa de desocupação (%)"
         }
        }
       }
      }
     },
     "metadata": {},
     "output_type": "display_data"
    },
    {
     "data": {
      "text/plain": [
       "'./plots/Relação entre escolaridade e taxa de desocupação.html'"
      ]
     },
     "execution_count": 8,
     "metadata": {},
     "output_type": "execute_result"
    }
   ],
   "source": [
    "fig = px.scatter(df_desemprego, x=\"escolaridade\", y=\"desemprego\",\n",
    "\t         size=\"n_entrevistados\", color=\"escolaridade\",\n",
    "                 hover_name=\"escolaridade\", size_max=60, width=1300, height=600,\n",
    "                 color_discrete_sequence=px.colors.qualitative.G10,\n",
    "                 labels=dict(escolaridade=\"Escolaridade\", desemprego=\"Taxa de desocupação (%)\", n_entrevistados=\"Nº entrevistados\"),\n",
    "                 title=\"Relação entre escolaridade e taxa de desocupação<br>PNAD COVID-19\")\n",
    "\n",
    "fig.update_yaxes(range=[0, 100])\n",
    "fig.update_layout(title_x=0.5)\n",
    "\n",
    "title_name = fig['layout']['title']['text']\n",
    "title_name = title_name.replace('<br>PNAD COVID-19','')\n",
    "\n",
    "fig.show()\n",
    "\n",
    "plotly.offline.plot(fig, filename = f'./plots/{title_name}.html', auto_play=False, auto_open=False)"
   ]
  },
  {
   "cell_type": "markdown",
   "metadata": {},
   "source": [
    "# Variação da restrição de contato da população"
   ]
  },
  {
   "cell_type": "code",
   "execution_count": 19,
   "metadata": {},
   "outputs": [],
   "source": [
    "query_sql = f'''\n",
    "with cont_restricoes as\n",
    "(SELECT \n",
    "  restricao_contato, mes, COUNT(*) as n_entrevistados\n",
    "FROM\n",
    "  `{project_id}.{dataset_id}.{table_id}`\n",
    "WHERE restricao_contato != 9\n",
    "GROUP BY mes, restricao_contato\n",
    "ORDER BY mes)\n",
    "\n",
    "SELECT\n",
    "    mes,\n",
    "    restricao_contato,\n",
    "    n_entrevistados,\n",
    "    ROUND(SUM(n_entrevistados)/SUM(n_entrevistados) OVER (PARTITION BY mes),4) AS proportion\n",
    "FROM\n",
    "    cont_restricoes\n",
    "GROUP BY\n",
    "    mes, restricao_contato,n_entrevistados\n",
    "ORDER BY mes\n",
    "'''\n",
    "\n",
    "query_job = client.query(query_sql)\n",
    "df_results = query_job.to_dataframe()"
   ]
  },
  {
   "cell_type": "code",
   "execution_count": 20,
   "metadata": {},
   "outputs": [
    {
     "data": {
      "text/html": [
       "<div>\n",
       "<style scoped>\n",
       "    .dataframe tbody tr th:only-of-type {\n",
       "        vertical-align: middle;\n",
       "    }\n",
       "\n",
       "    .dataframe tbody tr th {\n",
       "        vertical-align: top;\n",
       "    }\n",
       "\n",
       "    .dataframe thead th {\n",
       "        text-align: right;\n",
       "    }\n",
       "</style>\n",
       "<table border=\"1\" class=\"dataframe\">\n",
       "  <thead>\n",
       "    <tr style=\"text-align: right;\">\n",
       "      <th></th>\n",
       "      <th>mes</th>\n",
       "      <th>restricao_contato</th>\n",
       "      <th>n_entrevistados</th>\n",
       "      <th>proportion</th>\n",
       "    </tr>\n",
       "  </thead>\n",
       "  <tbody>\n",
       "    <tr>\n",
       "      <th>0</th>\n",
       "      <td>Setembro/2020</td>\n",
       "      <td>Sem restrições</td>\n",
       "      <td>11191</td>\n",
       "      <td>0.0290</td>\n",
       "    </tr>\n",
       "    <tr>\n",
       "      <th>1</th>\n",
       "      <td>Outubro/2020</td>\n",
       "      <td>Sem restrições</td>\n",
       "      <td>17138</td>\n",
       "      <td>0.0452</td>\n",
       "    </tr>\n",
       "    <tr>\n",
       "      <th>2</th>\n",
       "      <td>Novembro/2020</td>\n",
       "      <td>Sem restrições</td>\n",
       "      <td>17865</td>\n",
       "      <td>0.0470</td>\n",
       "    </tr>\n",
       "    <tr>\n",
       "      <th>3</th>\n",
       "      <td>Setembro/2020</td>\n",
       "      <td>Poucas restrições</td>\n",
       "      <td>148874</td>\n",
       "      <td>0.3863</td>\n",
       "    </tr>\n",
       "    <tr>\n",
       "      <th>4</th>\n",
       "      <td>Outubro/2020</td>\n",
       "      <td>Poucas restrições</td>\n",
       "      <td>163684</td>\n",
       "      <td>0.4322</td>\n",
       "    </tr>\n",
       "    <tr>\n",
       "      <th>5</th>\n",
       "      <td>Novembro/2020</td>\n",
       "      <td>Poucas restrições</td>\n",
       "      <td>171955</td>\n",
       "      <td>0.4524</td>\n",
       "    </tr>\n",
       "    <tr>\n",
       "      <th>6</th>\n",
       "      <td>Setembro/2020</td>\n",
       "      <td>Restrições moderadas</td>\n",
       "      <td>161444</td>\n",
       "      <td>0.4189</td>\n",
       "    </tr>\n",
       "    <tr>\n",
       "      <th>7</th>\n",
       "      <td>Outubro/2020</td>\n",
       "      <td>Restrições moderadas</td>\n",
       "      <td>149778</td>\n",
       "      <td>0.3954</td>\n",
       "    </tr>\n",
       "    <tr>\n",
       "      <th>8</th>\n",
       "      <td>Novembro/2020</td>\n",
       "      <td>Restrições moderadas</td>\n",
       "      <td>147728</td>\n",
       "      <td>0.3886</td>\n",
       "    </tr>\n",
       "    <tr>\n",
       "      <th>9</th>\n",
       "      <td>Setembro/2020</td>\n",
       "      <td>Muitas restrições</td>\n",
       "      <td>63863</td>\n",
       "      <td>0.1657</td>\n",
       "    </tr>\n",
       "    <tr>\n",
       "      <th>10</th>\n",
       "      <td>Outubro/2020</td>\n",
       "      <td>Muitas restrições</td>\n",
       "      <td>48157</td>\n",
       "      <td>0.1271</td>\n",
       "    </tr>\n",
       "    <tr>\n",
       "      <th>11</th>\n",
       "      <td>Novembro/2020</td>\n",
       "      <td>Muitas restrições</td>\n",
       "      <td>42573</td>\n",
       "      <td>0.1120</td>\n",
       "    </tr>\n",
       "  </tbody>\n",
       "</table>\n",
       "</div>"
      ],
      "text/plain": [
       "              mes     restricao_contato  n_entrevistados  proportion\n",
       "0   Setembro/2020        Sem restrições            11191      0.0290\n",
       "1    Outubro/2020        Sem restrições            17138      0.0452\n",
       "2   Novembro/2020        Sem restrições            17865      0.0470\n",
       "3   Setembro/2020     Poucas restrições           148874      0.3863\n",
       "4    Outubro/2020     Poucas restrições           163684      0.4322\n",
       "5   Novembro/2020     Poucas restrições           171955      0.4524\n",
       "6   Setembro/2020  Restrições moderadas           161444      0.4189\n",
       "7    Outubro/2020  Restrições moderadas           149778      0.3954\n",
       "8   Novembro/2020  Restrições moderadas           147728      0.3886\n",
       "9   Setembro/2020     Muitas restrições            63863      0.1657\n",
       "10   Outubro/2020     Muitas restrições            48157      0.1271\n",
       "11  Novembro/2020     Muitas restrições            42573      0.1120"
      ]
     },
     "execution_count": 20,
     "metadata": {},
     "output_type": "execute_result"
    }
   ],
   "source": [
    "df_results['mes'] = df_results['mes'].astype(str).replace(dict_mes)\n",
    "df_results['restricao_contato'] = df_results['restricao_contato'].astype(str).replace(dict_restricao_contato)\n",
    "\n",
    "dict_sort = {'Sem restrições':0, 'Poucas restrições':1, 'Restrições moderadas':2, 'Muitas restrições':3,'Sem resposta':4}\n",
    "df_results.sort_values(by='restricao_contato', key=lambda x: x.map(dict_sort), inplace=True)\n",
    "df_results.reset_index(drop=True, inplace=True)\n",
    "df_results"
   ]
  },
  {
   "cell_type": "code",
   "execution_count": 31,
   "metadata": {},
   "outputs": [
    {
     "data": {
      "application/vnd.plotly.v1+json": {
       "config": {
        "plotlyServerURL": "https://plot.ly"
       },
       "data": [
        {
         "line": {
          "color": "#3366CC",
          "width": 5
         },
         "marker": {
          "color": "#3366CC",
          "size": 5,
          "symbol": "circle"
         },
         "mode": "lines+markers",
         "name": "Setembro/2020",
         "type": "scatter",
         "x": [
          "Sem restrições",
          "Poucas restrições",
          "Restrições moderadas",
          "Muitas restrições"
         ],
         "y": [
          11191,
          148874,
          161444,
          63863
         ]
        },
        {
         "line": {
          "color": "#DC3912",
          "width": 5
         },
         "marker": {
          "color": "#DC3912",
          "size": 5,
          "symbol": "circle"
         },
         "mode": "lines+markers",
         "name": "Outubro/2020",
         "type": "scatter",
         "x": [
          "Sem restrições",
          "Poucas restrições",
          "Restrições moderadas",
          "Muitas restrições"
         ],
         "y": [
          17138,
          163684,
          149778,
          48157
         ]
        },
        {
         "line": {
          "color": "#FF9900",
          "width": 5
         },
         "marker": {
          "color": "#FF9900",
          "size": 5,
          "symbol": "circle"
         },
         "mode": "lines+markers",
         "name": "Novembro/2020",
         "type": "scatter",
         "x": [
          "Sem restrições",
          "Poucas restrições",
          "Restrições moderadas",
          "Muitas restrições"
         ],
         "y": [
          17865,
          171955,
          147728,
          42573
         ]
        }
       ],
       "layout": {
        "autosize": true,
        "height": 500,
        "legend": {
         "bgcolor": "rgba(0,0,0,0)",
         "x": 0.03,
         "y": 0.95
        },
        "template": {
         "data": {
          "bar": [
           {
            "error_x": {
             "color": "#2a3f5f"
            },
            "error_y": {
             "color": "#2a3f5f"
            },
            "marker": {
             "line": {
              "color": "#E5ECF6",
              "width": 0.5
             },
             "pattern": {
              "fillmode": "overlay",
              "size": 10,
              "solidity": 0.2
             }
            },
            "type": "bar"
           }
          ],
          "barpolar": [
           {
            "marker": {
             "line": {
              "color": "#E5ECF6",
              "width": 0.5
             },
             "pattern": {
              "fillmode": "overlay",
              "size": 10,
              "solidity": 0.2
             }
            },
            "type": "barpolar"
           }
          ],
          "carpet": [
           {
            "aaxis": {
             "endlinecolor": "#2a3f5f",
             "gridcolor": "white",
             "linecolor": "white",
             "minorgridcolor": "white",
             "startlinecolor": "#2a3f5f"
            },
            "baxis": {
             "endlinecolor": "#2a3f5f",
             "gridcolor": "white",
             "linecolor": "white",
             "minorgridcolor": "white",
             "startlinecolor": "#2a3f5f"
            },
            "type": "carpet"
           }
          ],
          "choropleth": [
           {
            "colorbar": {
             "outlinewidth": 0,
             "ticks": ""
            },
            "type": "choropleth"
           }
          ],
          "contour": [
           {
            "colorbar": {
             "outlinewidth": 0,
             "ticks": ""
            },
            "colorscale": [
             [
              0,
              "#0d0887"
             ],
             [
              0.1111111111111111,
              "#46039f"
             ],
             [
              0.2222222222222222,
              "#7201a8"
             ],
             [
              0.3333333333333333,
              "#9c179e"
             ],
             [
              0.4444444444444444,
              "#bd3786"
             ],
             [
              0.5555555555555556,
              "#d8576b"
             ],
             [
              0.6666666666666666,
              "#ed7953"
             ],
             [
              0.7777777777777778,
              "#fb9f3a"
             ],
             [
              0.8888888888888888,
              "#fdca26"
             ],
             [
              1,
              "#f0f921"
             ]
            ],
            "type": "contour"
           }
          ],
          "contourcarpet": [
           {
            "colorbar": {
             "outlinewidth": 0,
             "ticks": ""
            },
            "type": "contourcarpet"
           }
          ],
          "heatmap": [
           {
            "colorbar": {
             "outlinewidth": 0,
             "ticks": ""
            },
            "colorscale": [
             [
              0,
              "#0d0887"
             ],
             [
              0.1111111111111111,
              "#46039f"
             ],
             [
              0.2222222222222222,
              "#7201a8"
             ],
             [
              0.3333333333333333,
              "#9c179e"
             ],
             [
              0.4444444444444444,
              "#bd3786"
             ],
             [
              0.5555555555555556,
              "#d8576b"
             ],
             [
              0.6666666666666666,
              "#ed7953"
             ],
             [
              0.7777777777777778,
              "#fb9f3a"
             ],
             [
              0.8888888888888888,
              "#fdca26"
             ],
             [
              1,
              "#f0f921"
             ]
            ],
            "type": "heatmap"
           }
          ],
          "heatmapgl": [
           {
            "colorbar": {
             "outlinewidth": 0,
             "ticks": ""
            },
            "colorscale": [
             [
              0,
              "#0d0887"
             ],
             [
              0.1111111111111111,
              "#46039f"
             ],
             [
              0.2222222222222222,
              "#7201a8"
             ],
             [
              0.3333333333333333,
              "#9c179e"
             ],
             [
              0.4444444444444444,
              "#bd3786"
             ],
             [
              0.5555555555555556,
              "#d8576b"
             ],
             [
              0.6666666666666666,
              "#ed7953"
             ],
             [
              0.7777777777777778,
              "#fb9f3a"
             ],
             [
              0.8888888888888888,
              "#fdca26"
             ],
             [
              1,
              "#f0f921"
             ]
            ],
            "type": "heatmapgl"
           }
          ],
          "histogram": [
           {
            "marker": {
             "pattern": {
              "fillmode": "overlay",
              "size": 10,
              "solidity": 0.2
             }
            },
            "type": "histogram"
           }
          ],
          "histogram2d": [
           {
            "colorbar": {
             "outlinewidth": 0,
             "ticks": ""
            },
            "colorscale": [
             [
              0,
              "#0d0887"
             ],
             [
              0.1111111111111111,
              "#46039f"
             ],
             [
              0.2222222222222222,
              "#7201a8"
             ],
             [
              0.3333333333333333,
              "#9c179e"
             ],
             [
              0.4444444444444444,
              "#bd3786"
             ],
             [
              0.5555555555555556,
              "#d8576b"
             ],
             [
              0.6666666666666666,
              "#ed7953"
             ],
             [
              0.7777777777777778,
              "#fb9f3a"
             ],
             [
              0.8888888888888888,
              "#fdca26"
             ],
             [
              1,
              "#f0f921"
             ]
            ],
            "type": "histogram2d"
           }
          ],
          "histogram2dcontour": [
           {
            "colorbar": {
             "outlinewidth": 0,
             "ticks": ""
            },
            "colorscale": [
             [
              0,
              "#0d0887"
             ],
             [
              0.1111111111111111,
              "#46039f"
             ],
             [
              0.2222222222222222,
              "#7201a8"
             ],
             [
              0.3333333333333333,
              "#9c179e"
             ],
             [
              0.4444444444444444,
              "#bd3786"
             ],
             [
              0.5555555555555556,
              "#d8576b"
             ],
             [
              0.6666666666666666,
              "#ed7953"
             ],
             [
              0.7777777777777778,
              "#fb9f3a"
             ],
             [
              0.8888888888888888,
              "#fdca26"
             ],
             [
              1,
              "#f0f921"
             ]
            ],
            "type": "histogram2dcontour"
           }
          ],
          "mesh3d": [
           {
            "colorbar": {
             "outlinewidth": 0,
             "ticks": ""
            },
            "type": "mesh3d"
           }
          ],
          "parcoords": [
           {
            "line": {
             "colorbar": {
              "outlinewidth": 0,
              "ticks": ""
             }
            },
            "type": "parcoords"
           }
          ],
          "pie": [
           {
            "automargin": true,
            "type": "pie"
           }
          ],
          "scatter": [
           {
            "fillpattern": {
             "fillmode": "overlay",
             "size": 10,
             "solidity": 0.2
            },
            "type": "scatter"
           }
          ],
          "scatter3d": [
           {
            "line": {
             "colorbar": {
              "outlinewidth": 0,
              "ticks": ""
             }
            },
            "marker": {
             "colorbar": {
              "outlinewidth": 0,
              "ticks": ""
             }
            },
            "type": "scatter3d"
           }
          ],
          "scattercarpet": [
           {
            "marker": {
             "colorbar": {
              "outlinewidth": 0,
              "ticks": ""
             }
            },
            "type": "scattercarpet"
           }
          ],
          "scattergeo": [
           {
            "marker": {
             "colorbar": {
              "outlinewidth": 0,
              "ticks": ""
             }
            },
            "type": "scattergeo"
           }
          ],
          "scattergl": [
           {
            "marker": {
             "colorbar": {
              "outlinewidth": 0,
              "ticks": ""
             }
            },
            "type": "scattergl"
           }
          ],
          "scattermapbox": [
           {
            "marker": {
             "colorbar": {
              "outlinewidth": 0,
              "ticks": ""
             }
            },
            "type": "scattermapbox"
           }
          ],
          "scatterpolar": [
           {
            "marker": {
             "colorbar": {
              "outlinewidth": 0,
              "ticks": ""
             }
            },
            "type": "scatterpolar"
           }
          ],
          "scatterpolargl": [
           {
            "marker": {
             "colorbar": {
              "outlinewidth": 0,
              "ticks": ""
             }
            },
            "type": "scatterpolargl"
           }
          ],
          "scatterternary": [
           {
            "marker": {
             "colorbar": {
              "outlinewidth": 0,
              "ticks": ""
             }
            },
            "type": "scatterternary"
           }
          ],
          "surface": [
           {
            "colorbar": {
             "outlinewidth": 0,
             "ticks": ""
            },
            "colorscale": [
             [
              0,
              "#0d0887"
             ],
             [
              0.1111111111111111,
              "#46039f"
             ],
             [
              0.2222222222222222,
              "#7201a8"
             ],
             [
              0.3333333333333333,
              "#9c179e"
             ],
             [
              0.4444444444444444,
              "#bd3786"
             ],
             [
              0.5555555555555556,
              "#d8576b"
             ],
             [
              0.6666666666666666,
              "#ed7953"
             ],
             [
              0.7777777777777778,
              "#fb9f3a"
             ],
             [
              0.8888888888888888,
              "#fdca26"
             ],
             [
              1,
              "#f0f921"
             ]
            ],
            "type": "surface"
           }
          ],
          "table": [
           {
            "cells": {
             "fill": {
              "color": "#EBF0F8"
             },
             "line": {
              "color": "white"
             }
            },
            "header": {
             "fill": {
              "color": "#C8D4E3"
             },
             "line": {
              "color": "white"
             }
            },
            "type": "table"
           }
          ]
         },
         "layout": {
          "annotationdefaults": {
           "arrowcolor": "#2a3f5f",
           "arrowhead": 0,
           "arrowwidth": 1
          },
          "autotypenumbers": "strict",
          "coloraxis": {
           "colorbar": {
            "outlinewidth": 0,
            "ticks": ""
           }
          },
          "colorscale": {
           "diverging": [
            [
             0,
             "#8e0152"
            ],
            [
             0.1,
             "#c51b7d"
            ],
            [
             0.2,
             "#de77ae"
            ],
            [
             0.3,
             "#f1b6da"
            ],
            [
             0.4,
             "#fde0ef"
            ],
            [
             0.5,
             "#f7f7f7"
            ],
            [
             0.6,
             "#e6f5d0"
            ],
            [
             0.7,
             "#b8e186"
            ],
            [
             0.8,
             "#7fbc41"
            ],
            [
             0.9,
             "#4d9221"
            ],
            [
             1,
             "#276419"
            ]
           ],
           "sequential": [
            [
             0,
             "#0d0887"
            ],
            [
             0.1111111111111111,
             "#46039f"
            ],
            [
             0.2222222222222222,
             "#7201a8"
            ],
            [
             0.3333333333333333,
             "#9c179e"
            ],
            [
             0.4444444444444444,
             "#bd3786"
            ],
            [
             0.5555555555555556,
             "#d8576b"
            ],
            [
             0.6666666666666666,
             "#ed7953"
            ],
            [
             0.7777777777777778,
             "#fb9f3a"
            ],
            [
             0.8888888888888888,
             "#fdca26"
            ],
            [
             1,
             "#f0f921"
            ]
           ],
           "sequentialminus": [
            [
             0,
             "#0d0887"
            ],
            [
             0.1111111111111111,
             "#46039f"
            ],
            [
             0.2222222222222222,
             "#7201a8"
            ],
            [
             0.3333333333333333,
             "#9c179e"
            ],
            [
             0.4444444444444444,
             "#bd3786"
            ],
            [
             0.5555555555555556,
             "#d8576b"
            ],
            [
             0.6666666666666666,
             "#ed7953"
            ],
            [
             0.7777777777777778,
             "#fb9f3a"
            ],
            [
             0.8888888888888888,
             "#fdca26"
            ],
            [
             1,
             "#f0f921"
            ]
           ]
          },
          "colorway": [
           "#636efa",
           "#EF553B",
           "#00cc96",
           "#ab63fa",
           "#FFA15A",
           "#19d3f3",
           "#FF6692",
           "#B6E880",
           "#FF97FF",
           "#FECB52"
          ],
          "font": {
           "color": "#2a3f5f"
          },
          "geo": {
           "bgcolor": "white",
           "lakecolor": "white",
           "landcolor": "#E5ECF6",
           "showlakes": true,
           "showland": true,
           "subunitcolor": "white"
          },
          "hoverlabel": {
           "align": "left"
          },
          "hovermode": "closest",
          "mapbox": {
           "style": "light"
          },
          "paper_bgcolor": "white",
          "plot_bgcolor": "#E5ECF6",
          "polar": {
           "angularaxis": {
            "gridcolor": "white",
            "linecolor": "white",
            "ticks": ""
           },
           "bgcolor": "#E5ECF6",
           "radialaxis": {
            "gridcolor": "white",
            "linecolor": "white",
            "ticks": ""
           }
          },
          "scene": {
           "xaxis": {
            "backgroundcolor": "#E5ECF6",
            "gridcolor": "white",
            "gridwidth": 2,
            "linecolor": "white",
            "showbackground": true,
            "ticks": "",
            "zerolinecolor": "white"
           },
           "yaxis": {
            "backgroundcolor": "#E5ECF6",
            "gridcolor": "white",
            "gridwidth": 2,
            "linecolor": "white",
            "showbackground": true,
            "ticks": "",
            "zerolinecolor": "white"
           },
           "zaxis": {
            "backgroundcolor": "#E5ECF6",
            "gridcolor": "white",
            "gridwidth": 2,
            "linecolor": "white",
            "showbackground": true,
            "ticks": "",
            "zerolinecolor": "white"
           }
          },
          "shapedefaults": {
           "line": {
            "color": "#2a3f5f"
           }
          },
          "ternary": {
           "aaxis": {
            "gridcolor": "white",
            "linecolor": "white",
            "ticks": ""
           },
           "baxis": {
            "gridcolor": "white",
            "linecolor": "white",
            "ticks": ""
           },
           "bgcolor": "#E5ECF6",
           "caxis": {
            "gridcolor": "white",
            "linecolor": "white",
            "ticks": ""
           }
          },
          "title": {
           "x": 0.05
          },
          "xaxis": {
           "automargin": true,
           "gridcolor": "white",
           "linecolor": "white",
           "ticks": "",
           "title": {
            "standoff": 15
           },
           "zerolinecolor": "white",
           "zerolinewidth": 2
          },
          "yaxis": {
           "automargin": true,
           "gridcolor": "white",
           "linecolor": "white",
           "ticks": "",
           "title": {
            "standoff": 15
           },
           "zerolinecolor": "white",
           "zerolinewidth": 2
          }
         }
        },
        "title": {
         "text": "Variação das restrições de distanciamento social<br>PNAD COVID-19",
         "x": 0.5
        },
        "width": 1000,
        "xaxis": {
         "title": {
          "text": "Nível de restrição"
         }
        },
        "yaxis": {
         "range": [
          0,
          180000
         ],
         "tickformat": ",.0f",
         "title": {
          "text": "Nº de entrevistados"
         }
        }
       }
      }
     },
     "metadata": {},
     "output_type": "display_data"
    },
    {
     "data": {
      "text/plain": [
       "'./plots/Variacaoo restricoes de distanciamento social.html'"
      ]
     },
     "execution_count": 31,
     "metadata": {},
     "output_type": "execute_result"
    }
   ],
   "source": [
    "# Create a line chart using Plotly graph objects\n",
    "fig = go.Figure()\n",
    "\n",
    "# Variable 1\n",
    "fig.add_trace(go.Scatter(\n",
    "    x=df_results.loc[df_results['mes']=='Setembro/2020']['restricao_contato'], # x-axis\n",
    "    y=df_results.loc[df_results['mes']=='Setembro/2020']['n_entrevistados'], # y-axis\n",
    "    mode='lines+markers', # Connect data points with lines and add markers\n",
    "    name='Setembro/2020', # Name in the legend\n",
    "\n",
    "    line=dict(\n",
    "        color=px.colors.qualitative.G10[0],        # Change the line color to red\n",
    "        width=5),\n",
    "    \n",
    "    marker=dict(\n",
    "        symbol='circle',    # Change the marker symbol to a circle\n",
    "        size=5,            # Set the marker size\n",
    "        color=px.colors.qualitative.G10[0]),       # Set the marker color             # Set the line width\n",
    "))\n",
    "\n",
    "# Variable 2\n",
    "fig.add_trace(go.Scatter(\n",
    "    x=df_results.loc[df_results['mes']=='Outubro/2020']['restricao_contato'], # x-axis\n",
    "    y=df_results.loc[df_results['mes']=='Outubro/2020']['n_entrevistados'], # y-axis\n",
    "    mode='lines+markers', # Connect data points with lines and add markers\n",
    "    name='Outubro/2020', # Name in the legend\n",
    "\n",
    "    line=dict(\n",
    "        color=px.colors.qualitative.G10[1],        # Change the line color to red\n",
    "        width=5),\n",
    "    \n",
    "    marker=dict(\n",
    "        symbol='circle',    # Change the marker symbol to a circle\n",
    "        size=5,            # Set the marker size\n",
    "        color=px.colors.qualitative.G10[1]),       # Set the marker color             # Set the line width\n",
    "))\n",
    "\n",
    "# Variable 3\n",
    "fig.add_trace(go.Scatter(\n",
    "    x=df_results.loc[df_results['mes']=='Novembro/2020']['restricao_contato'], # x-axis\n",
    "    y=df_results.loc[df_results['mes']=='Novembro/2020']['n_entrevistados'], # y-axis\n",
    "    mode='lines+markers', # Connect data points with lines and add markers\n",
    "    name='Novembro/2020', # Name in the legend\n",
    "\n",
    "    line=dict(\n",
    "        color=px.colors.qualitative.G10[2],        # Change the line color to red\n",
    "        width=5),\n",
    "    \n",
    "    marker=dict(\n",
    "        symbol='circle',    # Change the marker symbol to a circle\n",
    "        size=5,            # Set the marker size\n",
    "        color=px.colors.qualitative.G10[2]),       # Set the marker color             # Set the line width\n",
    "))\n",
    "\n",
    "fig.update_layout(width=1000, height=500, title='Variação das restrições de distanciamento social<br>PNAD COVID-19', title_x=0.5,\n",
    "                  yaxis_title=\"Nº de entrevistados\", xaxis_title='Nível de restrição',\n",
    "                  legend=dict(x=0.03,y=0.95,bgcolor='rgba(0,0,0,0)'), autosize=True)\n",
    "\n",
    "fig.update_yaxes(tickformat=\",.0f\", range=[0,180000])\n",
    "\n",
    "fig.show()\n",
    "\n",
    "title_name = 'Variacaoo restricoes de distanciamento social'\n",
    "\n",
    "plotly.offline.plot(fig, filename = f'./plots/{title_name}.html', auto_play=False, auto_open=False)"
   ]
  },
  {
   "cell_type": "code",
   "execution_count": 22,
   "metadata": {},
   "outputs": [
    {
     "data": {
      "text/html": [
       "<div>\n",
       "<style scoped>\n",
       "    .dataframe tbody tr th:only-of-type {\n",
       "        vertical-align: middle;\n",
       "    }\n",
       "\n",
       "    .dataframe tbody tr th {\n",
       "        vertical-align: top;\n",
       "    }\n",
       "\n",
       "    .dataframe thead th {\n",
       "        text-align: right;\n",
       "    }\n",
       "</style>\n",
       "<table border=\"1\" class=\"dataframe\">\n",
       "  <thead>\n",
       "    <tr style=\"text-align: right;\">\n",
       "      <th></th>\n",
       "      <th>mes</th>\n",
       "      <th>restricao_contato</th>\n",
       "      <th>n_entrevistados</th>\n",
       "      <th>proportion</th>\n",
       "    </tr>\n",
       "  </thead>\n",
       "  <tbody>\n",
       "    <tr>\n",
       "      <th>0</th>\n",
       "      <td>Setembro/2020</td>\n",
       "      <td>Sem restrições</td>\n",
       "      <td>11191</td>\n",
       "      <td>0.0289</td>\n",
       "    </tr>\n",
       "    <tr>\n",
       "      <th>1</th>\n",
       "      <td>Outubro/2020</td>\n",
       "      <td>Sem restrições</td>\n",
       "      <td>17138</td>\n",
       "      <td>0.0450</td>\n",
       "    </tr>\n",
       "    <tr>\n",
       "      <th>2</th>\n",
       "      <td>Novembro/2020</td>\n",
       "      <td>Sem restrições</td>\n",
       "      <td>17865</td>\n",
       "      <td>0.0468</td>\n",
       "    </tr>\n",
       "    <tr>\n",
       "      <th>3</th>\n",
       "      <td>Setembro/2020</td>\n",
       "      <td>Poucas restrições</td>\n",
       "      <td>148874</td>\n",
       "      <td>0.3844</td>\n",
       "    </tr>\n",
       "    <tr>\n",
       "      <th>4</th>\n",
       "      <td>Outubro/2020</td>\n",
       "      <td>Poucas restrições</td>\n",
       "      <td>163684</td>\n",
       "      <td>0.4302</td>\n",
       "    </tr>\n",
       "    <tr>\n",
       "      <th>5</th>\n",
       "      <td>Novembro/2020</td>\n",
       "      <td>Poucas restrições</td>\n",
       "      <td>171955</td>\n",
       "      <td>0.4508</td>\n",
       "    </tr>\n",
       "    <tr>\n",
       "      <th>6</th>\n",
       "      <td>Setembro/2020</td>\n",
       "      <td>Restrições moderadas</td>\n",
       "      <td>161444</td>\n",
       "      <td>0.4168</td>\n",
       "    </tr>\n",
       "    <tr>\n",
       "      <th>7</th>\n",
       "      <td>Outubro/2020</td>\n",
       "      <td>Restrições moderadas</td>\n",
       "      <td>149778</td>\n",
       "      <td>0.3937</td>\n",
       "    </tr>\n",
       "    <tr>\n",
       "      <th>8</th>\n",
       "      <td>Novembro/2020</td>\n",
       "      <td>Restrições moderadas</td>\n",
       "      <td>147728</td>\n",
       "      <td>0.3873</td>\n",
       "    </tr>\n",
       "    <tr>\n",
       "      <th>9</th>\n",
       "      <td>Setembro/2020</td>\n",
       "      <td>Muitas restrições</td>\n",
       "      <td>63863</td>\n",
       "      <td>0.1649</td>\n",
       "    </tr>\n",
       "    <tr>\n",
       "      <th>10</th>\n",
       "      <td>Outubro/2020</td>\n",
       "      <td>Muitas restrições</td>\n",
       "      <td>48157</td>\n",
       "      <td>0.1266</td>\n",
       "    </tr>\n",
       "    <tr>\n",
       "      <th>11</th>\n",
       "      <td>Novembro/2020</td>\n",
       "      <td>Muitas restrições</td>\n",
       "      <td>42573</td>\n",
       "      <td>0.1116</td>\n",
       "    </tr>\n",
       "    <tr>\n",
       "      <th>12</th>\n",
       "      <td>Setembro/2020</td>\n",
       "      <td>Sem resposta</td>\n",
       "      <td>1926</td>\n",
       "      <td>0.0050</td>\n",
       "    </tr>\n",
       "    <tr>\n",
       "      <th>13</th>\n",
       "      <td>Outubro/2020</td>\n",
       "      <td>Sem resposta</td>\n",
       "      <td>1704</td>\n",
       "      <td>0.0045</td>\n",
       "    </tr>\n",
       "    <tr>\n",
       "      <th>14</th>\n",
       "      <td>Novembro/2020</td>\n",
       "      <td>Sem resposta</td>\n",
       "      <td>1317</td>\n",
       "      <td>0.0035</td>\n",
       "    </tr>\n",
       "  </tbody>\n",
       "</table>\n",
       "</div>"
      ],
      "text/plain": [
       "              mes     restricao_contato  n_entrevistados  proportion\n",
       "0   Setembro/2020        Sem restrições            11191      0.0289\n",
       "1    Outubro/2020        Sem restrições            17138      0.0450\n",
       "2   Novembro/2020        Sem restrições            17865      0.0468\n",
       "3   Setembro/2020     Poucas restrições           148874      0.3844\n",
       "4    Outubro/2020     Poucas restrições           163684      0.4302\n",
       "5   Novembro/2020     Poucas restrições           171955      0.4508\n",
       "6   Setembro/2020  Restrições moderadas           161444      0.4168\n",
       "7    Outubro/2020  Restrições moderadas           149778      0.3937\n",
       "8   Novembro/2020  Restrições moderadas           147728      0.3873\n",
       "9   Setembro/2020     Muitas restrições            63863      0.1649\n",
       "10   Outubro/2020     Muitas restrições            48157      0.1266\n",
       "11  Novembro/2020     Muitas restrições            42573      0.1116\n",
       "12  Setembro/2020          Sem resposta             1926      0.0050\n",
       "13   Outubro/2020          Sem resposta             1704      0.0045\n",
       "14  Novembro/2020          Sem resposta             1317      0.0035"
      ]
     },
     "execution_count": 22,
     "metadata": {},
     "output_type": "execute_result"
    }
   ],
   "source": [
    "dict_sort = {'Sem restrições':0, 'Poucas restrições':1, 'Restrições moderadas':2, 'Muitas restrições':3,'Sem resposta':4}\n",
    "df_results.sort_values(by='restricao_contato', key=lambda x: x.map(dict_sort))"
   ]
  },
  {
   "cell_type": "markdown",
   "metadata": {},
   "source": [
    "# Variação de procura de atendimento entre os sintomáticos"
   ]
  },
  {
   "cell_type": "code",
   "execution_count": 50,
   "metadata": {},
   "outputs": [],
   "source": [
    "query_sql = f'''\n",
    "with check_sintomas as (\n",
    "  SELECT\n",
    "    mes,\n",
    "    procurou_medico,\n",
    "    CASE \n",
    "      WHEN tosse = 1 OR febre = 1 OR olfato_paladar = 1 THEN 1\n",
    "      ELSE 0\n",
    "    END as sintomas,\n",
    "\n",
    "    COUNT (CASE \n",
    "      WHEN tosse = 1 OR febre = 1 OR olfato_paladar = 1 THEN 1\n",
    "      ELSE 0\n",
    "    END) as count_sintomas\n",
    "  FROM `brave-tea-400210.fase_3_tech_challenge.pnad-covid-19`\n",
    "  GROUP BY mes, sintomas,procurou_medico\n",
    ")\n",
    "\n",
    "SELECT\n",
    "  mes,\n",
    "  sintomas,\n",
    "  procurou_medico,\n",
    "  count_sintomas,\n",
    "  ROUND(SUM(count_sintomas)/SUM(count_sintomas) OVER (PARTITION BY mes),4) AS proportion\n",
    "FROM check_sintomas\n",
    "WHERE sintomas = 1 AND procurou_medico != 9\n",
    "GROUP BY mes, sintomas,procurou_medico, count_sintomas\n",
    "ORDER BY mes\n",
    "'''\n",
    "\n",
    "query_job = client.query(query_sql)\n",
    "df_results = query_job.to_dataframe()"
   ]
  },
  {
   "cell_type": "code",
   "execution_count": 51,
   "metadata": {},
   "outputs": [
    {
     "data": {
      "text/html": [
       "<div>\n",
       "<style scoped>\n",
       "    .dataframe tbody tr th:only-of-type {\n",
       "        vertical-align: middle;\n",
       "    }\n",
       "\n",
       "    .dataframe tbody tr th {\n",
       "        vertical-align: top;\n",
       "    }\n",
       "\n",
       "    .dataframe thead th {\n",
       "        text-align: right;\n",
       "    }\n",
       "</style>\n",
       "<table border=\"1\" class=\"dataframe\">\n",
       "  <thead>\n",
       "    <tr style=\"text-align: right;\">\n",
       "      <th></th>\n",
       "      <th>mes</th>\n",
       "      <th>sintomas</th>\n",
       "      <th>procurou_medico</th>\n",
       "      <th>count_sintomas</th>\n",
       "      <th>proportion</th>\n",
       "    </tr>\n",
       "  </thead>\n",
       "  <tbody>\n",
       "    <tr>\n",
       "      <th>0</th>\n",
       "      <td>Setembro/2020</td>\n",
       "      <td>Com sintomas</td>\n",
       "      <td>Procurou atendimento</td>\n",
       "      <td>2815</td>\n",
       "      <td>0.3756</td>\n",
       "    </tr>\n",
       "    <tr>\n",
       "      <th>1</th>\n",
       "      <td>Setembro/2020</td>\n",
       "      <td>Com sintomas</td>\n",
       "      <td>Não procurou atendimento</td>\n",
       "      <td>4680</td>\n",
       "      <td>0.6244</td>\n",
       "    </tr>\n",
       "    <tr>\n",
       "      <th>2</th>\n",
       "      <td>Outubro/2020</td>\n",
       "      <td>Com sintomas</td>\n",
       "      <td>Não procurou atendimento</td>\n",
       "      <td>3816</td>\n",
       "      <td>0.6133</td>\n",
       "    </tr>\n",
       "    <tr>\n",
       "      <th>3</th>\n",
       "      <td>Outubro/2020</td>\n",
       "      <td>Com sintomas</td>\n",
       "      <td>Procurou atendimento</td>\n",
       "      <td>2406</td>\n",
       "      <td>0.3867</td>\n",
       "    </tr>\n",
       "    <tr>\n",
       "      <th>4</th>\n",
       "      <td>Novembro/2020</td>\n",
       "      <td>Com sintomas</td>\n",
       "      <td>Não procurou atendimento</td>\n",
       "      <td>4289</td>\n",
       "      <td>0.6041</td>\n",
       "    </tr>\n",
       "    <tr>\n",
       "      <th>5</th>\n",
       "      <td>Novembro/2020</td>\n",
       "      <td>Com sintomas</td>\n",
       "      <td>Procurou atendimento</td>\n",
       "      <td>2811</td>\n",
       "      <td>0.3959</td>\n",
       "    </tr>\n",
       "  </tbody>\n",
       "</table>\n",
       "</div>"
      ],
      "text/plain": [
       "             mes      sintomas           procurou_medico  count_sintomas  \\\n",
       "0  Setembro/2020  Com sintomas      Procurou atendimento            2815   \n",
       "1  Setembro/2020  Com sintomas  Não procurou atendimento            4680   \n",
       "2   Outubro/2020  Com sintomas  Não procurou atendimento            3816   \n",
       "3   Outubro/2020  Com sintomas      Procurou atendimento            2406   \n",
       "4  Novembro/2020  Com sintomas  Não procurou atendimento            4289   \n",
       "5  Novembro/2020  Com sintomas      Procurou atendimento            2811   \n",
       "\n",
       "   proportion  \n",
       "0      0.3756  \n",
       "1      0.6244  \n",
       "2      0.6133  \n",
       "3      0.3867  \n",
       "4      0.6041  \n",
       "5      0.3959  "
      ]
     },
     "execution_count": 51,
     "metadata": {},
     "output_type": "execute_result"
    }
   ],
   "source": [
    "df_results['mes'] = df_results['mes'].astype(str).replace(dict_mes)\n",
    "df_results['sintomas'] = df_results['sintomas'].astype(str).replace(dict_sintomas)\n",
    "df_results['procurou_medico'] = df_results['procurou_medico'].astype(str).replace(dict_procura_medico)\n",
    "df_results"
   ]
  },
  {
   "cell_type": "code",
   "execution_count": 52,
   "metadata": {},
   "outputs": [
    {
     "data": {
      "application/vnd.plotly.v1+json": {
       "config": {
        "plotlyServerURL": "https://plot.ly"
       },
       "data": [
        {
         "alignmentgroup": "True",
         "hovertemplate": "=%{x}<br>Nº de entrevistados=%{y}<extra></extra>",
         "legendgroup": "Procurou atendimento",
         "marker": {
          "color": "#636efa",
          "pattern": {
           "shape": ""
          }
         },
         "name": "Procurou atendimento",
         "offsetgroup": "Procurou atendimento",
         "orientation": "v",
         "showlegend": true,
         "textposition": "auto",
         "type": "bar",
         "x": [
          "Setembro/2020",
          "Outubro/2020",
          "Novembro/2020"
         ],
         "xaxis": "x",
         "y": [
          2815,
          2406,
          2811
         ],
         "yaxis": "y"
        },
        {
         "alignmentgroup": "True",
         "hovertemplate": "=%{x}<br>Nº de entrevistados=%{y}<extra></extra>",
         "legendgroup": "Não procurou atendimento",
         "marker": {
          "color": "#EF553B",
          "pattern": {
           "shape": ""
          }
         },
         "name": "Não procurou atendimento",
         "offsetgroup": "Não procurou atendimento",
         "orientation": "v",
         "showlegend": true,
         "textposition": "auto",
         "type": "bar",
         "x": [
          "Setembro/2020",
          "Outubro/2020",
          "Novembro/2020"
         ],
         "xaxis": "x",
         "y": [
          4680,
          3816,
          4289
         ],
         "yaxis": "y"
        }
       ],
       "layout": {
        "barmode": "group",
        "height": 600,
        "legend": {
         "title": {
          "text": ""
         },
         "tracegroupgap": 0
        },
        "template": {
         "data": {
          "bar": [
           {
            "error_x": {
             "color": "#2a3f5f"
            },
            "error_y": {
             "color": "#2a3f5f"
            },
            "marker": {
             "line": {
              "color": "#E5ECF6",
              "width": 0.5
             },
             "pattern": {
              "fillmode": "overlay",
              "size": 10,
              "solidity": 0.2
             }
            },
            "type": "bar"
           }
          ],
          "barpolar": [
           {
            "marker": {
             "line": {
              "color": "#E5ECF6",
              "width": 0.5
             },
             "pattern": {
              "fillmode": "overlay",
              "size": 10,
              "solidity": 0.2
             }
            },
            "type": "barpolar"
           }
          ],
          "carpet": [
           {
            "aaxis": {
             "endlinecolor": "#2a3f5f",
             "gridcolor": "white",
             "linecolor": "white",
             "minorgridcolor": "white",
             "startlinecolor": "#2a3f5f"
            },
            "baxis": {
             "endlinecolor": "#2a3f5f",
             "gridcolor": "white",
             "linecolor": "white",
             "minorgridcolor": "white",
             "startlinecolor": "#2a3f5f"
            },
            "type": "carpet"
           }
          ],
          "choropleth": [
           {
            "colorbar": {
             "outlinewidth": 0,
             "ticks": ""
            },
            "type": "choropleth"
           }
          ],
          "contour": [
           {
            "colorbar": {
             "outlinewidth": 0,
             "ticks": ""
            },
            "colorscale": [
             [
              0,
              "#0d0887"
             ],
             [
              0.1111111111111111,
              "#46039f"
             ],
             [
              0.2222222222222222,
              "#7201a8"
             ],
             [
              0.3333333333333333,
              "#9c179e"
             ],
             [
              0.4444444444444444,
              "#bd3786"
             ],
             [
              0.5555555555555556,
              "#d8576b"
             ],
             [
              0.6666666666666666,
              "#ed7953"
             ],
             [
              0.7777777777777778,
              "#fb9f3a"
             ],
             [
              0.8888888888888888,
              "#fdca26"
             ],
             [
              1,
              "#f0f921"
             ]
            ],
            "type": "contour"
           }
          ],
          "contourcarpet": [
           {
            "colorbar": {
             "outlinewidth": 0,
             "ticks": ""
            },
            "type": "contourcarpet"
           }
          ],
          "heatmap": [
           {
            "colorbar": {
             "outlinewidth": 0,
             "ticks": ""
            },
            "colorscale": [
             [
              0,
              "#0d0887"
             ],
             [
              0.1111111111111111,
              "#46039f"
             ],
             [
              0.2222222222222222,
              "#7201a8"
             ],
             [
              0.3333333333333333,
              "#9c179e"
             ],
             [
              0.4444444444444444,
              "#bd3786"
             ],
             [
              0.5555555555555556,
              "#d8576b"
             ],
             [
              0.6666666666666666,
              "#ed7953"
             ],
             [
              0.7777777777777778,
              "#fb9f3a"
             ],
             [
              0.8888888888888888,
              "#fdca26"
             ],
             [
              1,
              "#f0f921"
             ]
            ],
            "type": "heatmap"
           }
          ],
          "heatmapgl": [
           {
            "colorbar": {
             "outlinewidth": 0,
             "ticks": ""
            },
            "colorscale": [
             [
              0,
              "#0d0887"
             ],
             [
              0.1111111111111111,
              "#46039f"
             ],
             [
              0.2222222222222222,
              "#7201a8"
             ],
             [
              0.3333333333333333,
              "#9c179e"
             ],
             [
              0.4444444444444444,
              "#bd3786"
             ],
             [
              0.5555555555555556,
              "#d8576b"
             ],
             [
              0.6666666666666666,
              "#ed7953"
             ],
             [
              0.7777777777777778,
              "#fb9f3a"
             ],
             [
              0.8888888888888888,
              "#fdca26"
             ],
             [
              1,
              "#f0f921"
             ]
            ],
            "type": "heatmapgl"
           }
          ],
          "histogram": [
           {
            "marker": {
             "pattern": {
              "fillmode": "overlay",
              "size": 10,
              "solidity": 0.2
             }
            },
            "type": "histogram"
           }
          ],
          "histogram2d": [
           {
            "colorbar": {
             "outlinewidth": 0,
             "ticks": ""
            },
            "colorscale": [
             [
              0,
              "#0d0887"
             ],
             [
              0.1111111111111111,
              "#46039f"
             ],
             [
              0.2222222222222222,
              "#7201a8"
             ],
             [
              0.3333333333333333,
              "#9c179e"
             ],
             [
              0.4444444444444444,
              "#bd3786"
             ],
             [
              0.5555555555555556,
              "#d8576b"
             ],
             [
              0.6666666666666666,
              "#ed7953"
             ],
             [
              0.7777777777777778,
              "#fb9f3a"
             ],
             [
              0.8888888888888888,
              "#fdca26"
             ],
             [
              1,
              "#f0f921"
             ]
            ],
            "type": "histogram2d"
           }
          ],
          "histogram2dcontour": [
           {
            "colorbar": {
             "outlinewidth": 0,
             "ticks": ""
            },
            "colorscale": [
             [
              0,
              "#0d0887"
             ],
             [
              0.1111111111111111,
              "#46039f"
             ],
             [
              0.2222222222222222,
              "#7201a8"
             ],
             [
              0.3333333333333333,
              "#9c179e"
             ],
             [
              0.4444444444444444,
              "#bd3786"
             ],
             [
              0.5555555555555556,
              "#d8576b"
             ],
             [
              0.6666666666666666,
              "#ed7953"
             ],
             [
              0.7777777777777778,
              "#fb9f3a"
             ],
             [
              0.8888888888888888,
              "#fdca26"
             ],
             [
              1,
              "#f0f921"
             ]
            ],
            "type": "histogram2dcontour"
           }
          ],
          "mesh3d": [
           {
            "colorbar": {
             "outlinewidth": 0,
             "ticks": ""
            },
            "type": "mesh3d"
           }
          ],
          "parcoords": [
           {
            "line": {
             "colorbar": {
              "outlinewidth": 0,
              "ticks": ""
             }
            },
            "type": "parcoords"
           }
          ],
          "pie": [
           {
            "automargin": true,
            "type": "pie"
           }
          ],
          "scatter": [
           {
            "fillpattern": {
             "fillmode": "overlay",
             "size": 10,
             "solidity": 0.2
            },
            "type": "scatter"
           }
          ],
          "scatter3d": [
           {
            "line": {
             "colorbar": {
              "outlinewidth": 0,
              "ticks": ""
             }
            },
            "marker": {
             "colorbar": {
              "outlinewidth": 0,
              "ticks": ""
             }
            },
            "type": "scatter3d"
           }
          ],
          "scattercarpet": [
           {
            "marker": {
             "colorbar": {
              "outlinewidth": 0,
              "ticks": ""
             }
            },
            "type": "scattercarpet"
           }
          ],
          "scattergeo": [
           {
            "marker": {
             "colorbar": {
              "outlinewidth": 0,
              "ticks": ""
             }
            },
            "type": "scattergeo"
           }
          ],
          "scattergl": [
           {
            "marker": {
             "colorbar": {
              "outlinewidth": 0,
              "ticks": ""
             }
            },
            "type": "scattergl"
           }
          ],
          "scattermapbox": [
           {
            "marker": {
             "colorbar": {
              "outlinewidth": 0,
              "ticks": ""
             }
            },
            "type": "scattermapbox"
           }
          ],
          "scatterpolar": [
           {
            "marker": {
             "colorbar": {
              "outlinewidth": 0,
              "ticks": ""
             }
            },
            "type": "scatterpolar"
           }
          ],
          "scatterpolargl": [
           {
            "marker": {
             "colorbar": {
              "outlinewidth": 0,
              "ticks": ""
             }
            },
            "type": "scatterpolargl"
           }
          ],
          "scatterternary": [
           {
            "marker": {
             "colorbar": {
              "outlinewidth": 0,
              "ticks": ""
             }
            },
            "type": "scatterternary"
           }
          ],
          "surface": [
           {
            "colorbar": {
             "outlinewidth": 0,
             "ticks": ""
            },
            "colorscale": [
             [
              0,
              "#0d0887"
             ],
             [
              0.1111111111111111,
              "#46039f"
             ],
             [
              0.2222222222222222,
              "#7201a8"
             ],
             [
              0.3333333333333333,
              "#9c179e"
             ],
             [
              0.4444444444444444,
              "#bd3786"
             ],
             [
              0.5555555555555556,
              "#d8576b"
             ],
             [
              0.6666666666666666,
              "#ed7953"
             ],
             [
              0.7777777777777778,
              "#fb9f3a"
             ],
             [
              0.8888888888888888,
              "#fdca26"
             ],
             [
              1,
              "#f0f921"
             ]
            ],
            "type": "surface"
           }
          ],
          "table": [
           {
            "cells": {
             "fill": {
              "color": "#EBF0F8"
             },
             "line": {
              "color": "white"
             }
            },
            "header": {
             "fill": {
              "color": "#C8D4E3"
             },
             "line": {
              "color": "white"
             }
            },
            "type": "table"
           }
          ]
         },
         "layout": {
          "annotationdefaults": {
           "arrowcolor": "#2a3f5f",
           "arrowhead": 0,
           "arrowwidth": 1
          },
          "autotypenumbers": "strict",
          "coloraxis": {
           "colorbar": {
            "outlinewidth": 0,
            "ticks": ""
           }
          },
          "colorscale": {
           "diverging": [
            [
             0,
             "#8e0152"
            ],
            [
             0.1,
             "#c51b7d"
            ],
            [
             0.2,
             "#de77ae"
            ],
            [
             0.3,
             "#f1b6da"
            ],
            [
             0.4,
             "#fde0ef"
            ],
            [
             0.5,
             "#f7f7f7"
            ],
            [
             0.6,
             "#e6f5d0"
            ],
            [
             0.7,
             "#b8e186"
            ],
            [
             0.8,
             "#7fbc41"
            ],
            [
             0.9,
             "#4d9221"
            ],
            [
             1,
             "#276419"
            ]
           ],
           "sequential": [
            [
             0,
             "#0d0887"
            ],
            [
             0.1111111111111111,
             "#46039f"
            ],
            [
             0.2222222222222222,
             "#7201a8"
            ],
            [
             0.3333333333333333,
             "#9c179e"
            ],
            [
             0.4444444444444444,
             "#bd3786"
            ],
            [
             0.5555555555555556,
             "#d8576b"
            ],
            [
             0.6666666666666666,
             "#ed7953"
            ],
            [
             0.7777777777777778,
             "#fb9f3a"
            ],
            [
             0.8888888888888888,
             "#fdca26"
            ],
            [
             1,
             "#f0f921"
            ]
           ],
           "sequentialminus": [
            [
             0,
             "#0d0887"
            ],
            [
             0.1111111111111111,
             "#46039f"
            ],
            [
             0.2222222222222222,
             "#7201a8"
            ],
            [
             0.3333333333333333,
             "#9c179e"
            ],
            [
             0.4444444444444444,
             "#bd3786"
            ],
            [
             0.5555555555555556,
             "#d8576b"
            ],
            [
             0.6666666666666666,
             "#ed7953"
            ],
            [
             0.7777777777777778,
             "#fb9f3a"
            ],
            [
             0.8888888888888888,
             "#fdca26"
            ],
            [
             1,
             "#f0f921"
            ]
           ]
          },
          "colorway": [
           "#636efa",
           "#EF553B",
           "#00cc96",
           "#ab63fa",
           "#FFA15A",
           "#19d3f3",
           "#FF6692",
           "#B6E880",
           "#FF97FF",
           "#FECB52"
          ],
          "font": {
           "color": "#2a3f5f"
          },
          "geo": {
           "bgcolor": "white",
           "lakecolor": "white",
           "landcolor": "#E5ECF6",
           "showlakes": true,
           "showland": true,
           "subunitcolor": "white"
          },
          "hoverlabel": {
           "align": "left"
          },
          "hovermode": "closest",
          "mapbox": {
           "style": "light"
          },
          "paper_bgcolor": "white",
          "plot_bgcolor": "#E5ECF6",
          "polar": {
           "angularaxis": {
            "gridcolor": "white",
            "linecolor": "white",
            "ticks": ""
           },
           "bgcolor": "#E5ECF6",
           "radialaxis": {
            "gridcolor": "white",
            "linecolor": "white",
            "ticks": ""
           }
          },
          "scene": {
           "xaxis": {
            "backgroundcolor": "#E5ECF6",
            "gridcolor": "white",
            "gridwidth": 2,
            "linecolor": "white",
            "showbackground": true,
            "ticks": "",
            "zerolinecolor": "white"
           },
           "yaxis": {
            "backgroundcolor": "#E5ECF6",
            "gridcolor": "white",
            "gridwidth": 2,
            "linecolor": "white",
            "showbackground": true,
            "ticks": "",
            "zerolinecolor": "white"
           },
           "zaxis": {
            "backgroundcolor": "#E5ECF6",
            "gridcolor": "white",
            "gridwidth": 2,
            "linecolor": "white",
            "showbackground": true,
            "ticks": "",
            "zerolinecolor": "white"
           }
          },
          "shapedefaults": {
           "line": {
            "color": "#2a3f5f"
           }
          },
          "ternary": {
           "aaxis": {
            "gridcolor": "white",
            "linecolor": "white",
            "ticks": ""
           },
           "baxis": {
            "gridcolor": "white",
            "linecolor": "white",
            "ticks": ""
           },
           "bgcolor": "#E5ECF6",
           "caxis": {
            "gridcolor": "white",
            "linecolor": "white",
            "ticks": ""
           }
          },
          "title": {
           "x": 0.05
          },
          "xaxis": {
           "automargin": true,
           "gridcolor": "white",
           "linecolor": "white",
           "ticks": "",
           "title": {
            "standoff": 15
           },
           "zerolinecolor": "white",
           "zerolinewidth": 2
          },
          "yaxis": {
           "automargin": true,
           "gridcolor": "white",
           "linecolor": "white",
           "ticks": "",
           "title": {
            "standoff": 15
           },
           "zerolinecolor": "white",
           "zerolinewidth": 2
          }
         }
        },
        "title": {
         "text": "Procura de atendimento médico por entrevistados sintomáticos<br>PNAD COVID-19",
         "x": 0.5
        },
        "xaxis": {
         "anchor": "y",
         "domain": [
          0,
          1
         ],
         "title": {
          "text": ""
         }
        },
        "yaxis": {
         "anchor": "x",
         "domain": [
          0,
          1
         ],
         "tickformat": ",.0f",
         "title": {
          "text": "Nº de entrevistados"
         }
        }
       }
      }
     },
     "metadata": {},
     "output_type": "display_data"
    },
    {
     "data": {
      "text/plain": [
       "'./plots/Procura de atendimento por entrevistados sintomaticos.html'"
      ]
     },
     "execution_count": 52,
     "metadata": {},
     "output_type": "execute_result"
    }
   ],
   "source": [
    "fig = px.bar(df_results, x=\"mes\", y=\"count_sintomas\",\n",
    "             color='procurou_medico', barmode='group',\n",
    "             height=600, title='Procura de atendimento médico por entrevistados sintomáticos<br>PNAD COVID-19',\n",
    "             labels=dict(count_sintomas=\"Nº de entrevistados\", procurou_medico=\"\", mes=''))\n",
    "\n",
    "fig.update_layout(title_x=0.5)\n",
    "fig.update_yaxes(tickformat=\",.0f\")\n",
    "\n",
    "fig.show()\n",
    "\n",
    "title_name = 'Procura de atendimento por entrevistados sintomaticos'\n",
    "\n",
    "plotly.offline.plot(fig, filename = f'./plots/{title_name}.html', auto_play=False, auto_open=False)"
   ]
  },
  {
   "cell_type": "markdown",
   "metadata": {},
   "source": [
    "# Internações por sintoma"
   ]
  },
  {
   "cell_type": "code",
   "execution_count": 9,
   "metadata": {},
   "outputs": [
    {
     "data": {
      "text/html": [
       "<div>\n",
       "<style scoped>\n",
       "    .dataframe tbody tr th:only-of-type {\n",
       "        vertical-align: middle;\n",
       "    }\n",
       "\n",
       "    .dataframe tbody tr th {\n",
       "        vertical-align: top;\n",
       "    }\n",
       "\n",
       "    .dataframe thead th {\n",
       "        text-align: right;\n",
       "    }\n",
       "</style>\n",
       "<table border=\"1\" class=\"dataframe\">\n",
       "  <thead>\n",
       "    <tr style=\"text-align: right;\">\n",
       "      <th></th>\n",
       "      <th>sintoma</th>\n",
       "      <th>internacao</th>\n",
       "      <th>n_entrevistados</th>\n",
       "    </tr>\n",
       "  </thead>\n",
       "  <tbody>\n",
       "    <tr>\n",
       "      <th>0</th>\n",
       "      <td>febre</td>\n",
       "      <td>Internado</td>\n",
       "      <td>296</td>\n",
       "    </tr>\n",
       "    <tr>\n",
       "      <th>1</th>\n",
       "      <td>febre</td>\n",
       "      <td>Não internado</td>\n",
       "      <td>2396</td>\n",
       "    </tr>\n",
       "    <tr>\n",
       "      <th>2</th>\n",
       "      <td>febre</td>\n",
       "      <td>Não foi atendido</td>\n",
       "      <td>29</td>\n",
       "    </tr>\n",
       "    <tr>\n",
       "      <th>0</th>\n",
       "      <td>tosse</td>\n",
       "      <td>Internado</td>\n",
       "      <td>289</td>\n",
       "    </tr>\n",
       "    <tr>\n",
       "      <th>1</th>\n",
       "      <td>tosse</td>\n",
       "      <td>Não internado</td>\n",
       "      <td>2458</td>\n",
       "    </tr>\n",
       "    <tr>\n",
       "      <th>2</th>\n",
       "      <td>tosse</td>\n",
       "      <td>Não foi atendido</td>\n",
       "      <td>34</td>\n",
       "    </tr>\n",
       "    <tr>\n",
       "      <th>0</th>\n",
       "      <td>olfato_paladar</td>\n",
       "      <td>Internado</td>\n",
       "      <td>159</td>\n",
       "    </tr>\n",
       "    <tr>\n",
       "      <th>1</th>\n",
       "      <td>olfato_paladar</td>\n",
       "      <td>Não internado</td>\n",
       "      <td>1303</td>\n",
       "    </tr>\n",
       "    <tr>\n",
       "      <th>2</th>\n",
       "      <td>olfato_paladar</td>\n",
       "      <td>Não foi atendido</td>\n",
       "      <td>22</td>\n",
       "    </tr>\n",
       "  </tbody>\n",
       "</table>\n",
       "</div>"
      ],
      "text/plain": [
       "          sintoma        internacao  n_entrevistados\n",
       "0           febre         Internado              296\n",
       "1           febre     Não internado             2396\n",
       "2           febre  Não foi atendido               29\n",
       "0           tosse         Internado              289\n",
       "1           tosse     Não internado             2458\n",
       "2           tosse  Não foi atendido               34\n",
       "0  olfato_paladar         Internado              159\n",
       "1  olfato_paladar     Não internado             1303\n",
       "2  olfato_paladar  Não foi atendido               22"
      ]
     },
     "metadata": {},
     "output_type": "display_data"
    }
   ],
   "source": [
    "sintomas = ['febre','tosse','olfato_paladar']\n",
    "\n",
    "for sintoma in sintomas:\n",
    "    query_sql = f'''\n",
    "        SELECT\n",
    "            {sintoma},\n",
    "            internacao,\n",
    "            COUNT (internacao) as n_entrevistados\n",
    "        FROM\n",
    "            `brave-tea-400210.fase_3_tech_challenge.pnad-covid-19`\n",
    "        WHERE\n",
    "            {sintoma} = 1 AND internacao != 0 AND internacao != 9\n",
    "        GROUP BY\n",
    "            {sintoma}, internacao\n",
    "        ORDER BY \n",
    "            internacao\n",
    "    '''\n",
    "\n",
    "    query_job = client.query(query_sql)\n",
    "    df_results = query_job.to_dataframe()\n",
    "\n",
    "    df_results.rename(columns={f'{sintoma}':'sintoma'}, inplace=True)\n",
    "    df_results['sintoma'] = sintoma\n",
    "\n",
    "    df_results['internacao'] = df_results['internacao'].astype(str).replace(dict_internacao)\n",
    "\n",
    "    if(sintomas.index(sintoma) == 0):\n",
    "        final_df = df_results.copy()\n",
    "    else:\n",
    "        final_df = pd.concat([final_df,df_results], axis=0)\n",
    "\n",
    "#final_df['mes'] = final_df['mes'].astype(str).replace(dict_mes)\n",
    "\n",
    "display(final_df)"
   ]
  },
  {
   "cell_type": "code",
   "execution_count": 11,
   "metadata": {},
   "outputs": [
    {
     "data": {
      "text/html": [
       "<div>\n",
       "<style scoped>\n",
       "    .dataframe tbody tr th:only-of-type {\n",
       "        vertical-align: middle;\n",
       "    }\n",
       "\n",
       "    .dataframe tbody tr th {\n",
       "        vertical-align: top;\n",
       "    }\n",
       "\n",
       "    .dataframe thead th {\n",
       "        text-align: right;\n",
       "    }\n",
       "</style>\n",
       "<table border=\"1\" class=\"dataframe\">\n",
       "  <thead>\n",
       "    <tr style=\"text-align: right;\">\n",
       "      <th></th>\n",
       "      <th>sintoma</th>\n",
       "      <th>internacao</th>\n",
       "      <th>n_entrevistados</th>\n",
       "      <th>proportion</th>\n",
       "    </tr>\n",
       "  </thead>\n",
       "  <tbody>\n",
       "    <tr>\n",
       "      <th>0</th>\n",
       "      <td>febre</td>\n",
       "      <td>Internado</td>\n",
       "      <td>296</td>\n",
       "      <td>10.878354</td>\n",
       "    </tr>\n",
       "    <tr>\n",
       "      <th>1</th>\n",
       "      <td>febre</td>\n",
       "      <td>Não internado</td>\n",
       "      <td>2396</td>\n",
       "      <td>88.055862</td>\n",
       "    </tr>\n",
       "    <tr>\n",
       "      <th>2</th>\n",
       "      <td>febre</td>\n",
       "      <td>Não foi atendido</td>\n",
       "      <td>29</td>\n",
       "      <td>1.065785</td>\n",
       "    </tr>\n",
       "    <tr>\n",
       "      <th>0</th>\n",
       "      <td>tosse</td>\n",
       "      <td>Internado</td>\n",
       "      <td>289</td>\n",
       "      <td>10.391945</td>\n",
       "    </tr>\n",
       "    <tr>\n",
       "      <th>1</th>\n",
       "      <td>tosse</td>\n",
       "      <td>Não internado</td>\n",
       "      <td>2458</td>\n",
       "      <td>88.385473</td>\n",
       "    </tr>\n",
       "    <tr>\n",
       "      <th>2</th>\n",
       "      <td>tosse</td>\n",
       "      <td>Não foi atendido</td>\n",
       "      <td>34</td>\n",
       "      <td>1.222582</td>\n",
       "    </tr>\n",
       "    <tr>\n",
       "      <th>0</th>\n",
       "      <td>olfato_paladar</td>\n",
       "      <td>Internado</td>\n",
       "      <td>159</td>\n",
       "      <td>10.714286</td>\n",
       "    </tr>\n",
       "    <tr>\n",
       "      <th>1</th>\n",
       "      <td>olfato_paladar</td>\n",
       "      <td>Não internado</td>\n",
       "      <td>1303</td>\n",
       "      <td>87.803235</td>\n",
       "    </tr>\n",
       "    <tr>\n",
       "      <th>2</th>\n",
       "      <td>olfato_paladar</td>\n",
       "      <td>Não foi atendido</td>\n",
       "      <td>22</td>\n",
       "      <td>1.48248</td>\n",
       "    </tr>\n",
       "  </tbody>\n",
       "</table>\n",
       "</div>"
      ],
      "text/plain": [
       "          sintoma        internacao  n_entrevistados  proportion\n",
       "0           febre         Internado              296   10.878354\n",
       "1           febre     Não internado             2396   88.055862\n",
       "2           febre  Não foi atendido               29    1.065785\n",
       "0           tosse         Internado              289   10.391945\n",
       "1           tosse     Não internado             2458   88.385473\n",
       "2           tosse  Não foi atendido               34    1.222582\n",
       "0  olfato_paladar         Internado              159   10.714286\n",
       "1  olfato_paladar     Não internado             1303   87.803235\n",
       "2  olfato_paladar  Não foi atendido               22     1.48248"
      ]
     },
     "execution_count": 11,
     "metadata": {},
     "output_type": "execute_result"
    }
   ],
   "source": [
    "final_df['proportion'] = (final_df['n_entrevistados']/final_df.groupby(['sintoma'])['n_entrevistados'].transform('sum'))*100\n",
    "final_df"
   ]
  },
  {
   "cell_type": "code",
   "execution_count": 8,
   "metadata": {},
   "outputs": [
    {
     "data": {
      "application/vnd.plotly.v1+json": {
       "config": {
        "plotlyServerURL": "https://plot.ly"
       },
       "data": [
        {
         "alignmentgroup": "True",
         "bingroup": "x",
         "histfunc": "sum",
         "hovertemplate": "=Internado<br>Tipo de sintoma=%{x}<br>sum of Nº de entrevistados=%{y}<extra></extra>",
         "legendgroup": "Internado",
         "marker": {
          "color": "#636efa",
          "pattern": {
           "shape": ""
          }
         },
         "name": "Internado",
         "offsetgroup": "Internado",
         "orientation": "v",
         "showlegend": true,
         "type": "histogram",
         "x": [
          "febre",
          "febre",
          "febre",
          "tosse",
          "tosse",
          "tosse",
          "olfato_paladar",
          "olfato_paladar",
          "olfato_paladar"
         ],
         "xaxis": "x",
         "y": [
          100,
          94,
          102,
          104,
          89,
          96,
          65,
          46,
          48
         ],
         "yaxis": "y"
        },
        {
         "alignmentgroup": "True",
         "bingroup": "x",
         "histfunc": "sum",
         "hovertemplate": "=Não internado<br>Tipo de sintoma=%{x}<br>sum of Nº de entrevistados=%{y}<extra></extra>",
         "legendgroup": "Não internado",
         "marker": {
          "color": "#EF553B",
          "pattern": {
           "shape": ""
          }
         },
         "name": "Não internado",
         "offsetgroup": "Não internado",
         "orientation": "v",
         "showlegend": true,
         "type": "histogram",
         "x": [
          "febre",
          "febre",
          "febre",
          "tosse",
          "tosse",
          "tosse",
          "olfato_paladar",
          "olfato_paladar",
          "olfato_paladar"
         ],
         "xaxis": "x",
         "y": [
          771,
          745,
          880,
          781,
          749,
          928,
          456,
          399,
          448
         ],
         "yaxis": "y"
        },
        {
         "alignmentgroup": "True",
         "bingroup": "x",
         "histfunc": "sum",
         "hovertemplate": "=Não foi atendido<br>Tipo de sintoma=%{x}<br>sum of Nº de entrevistados=%{y}<extra></extra>",
         "legendgroup": "Não foi atendido",
         "marker": {
          "color": "#00cc96",
          "pattern": {
           "shape": ""
          }
         },
         "name": "Não foi atendido",
         "offsetgroup": "Não foi atendido",
         "orientation": "v",
         "showlegend": true,
         "type": "histogram",
         "x": [
          "febre",
          "febre",
          "febre",
          "tosse",
          "tosse",
          "tosse",
          "olfato_paladar",
          "olfato_paladar",
          "olfato_paladar"
         ],
         "xaxis": "x",
         "y": [
          5,
          12,
          12,
          7,
          11,
          16,
          3,
          10,
          9
         ],
         "yaxis": "y"
        }
       ],
       "layout": {
        "barmode": "group",
        "height": 600,
        "legend": {
         "title": {
          "text": ""
         },
         "tracegroupgap": 0
        },
        "template": {
         "data": {
          "bar": [
           {
            "error_x": {
             "color": "#2a3f5f"
            },
            "error_y": {
             "color": "#2a3f5f"
            },
            "marker": {
             "line": {
              "color": "#E5ECF6",
              "width": 0.5
             },
             "pattern": {
              "fillmode": "overlay",
              "size": 10,
              "solidity": 0.2
             }
            },
            "type": "bar"
           }
          ],
          "barpolar": [
           {
            "marker": {
             "line": {
              "color": "#E5ECF6",
              "width": 0.5
             },
             "pattern": {
              "fillmode": "overlay",
              "size": 10,
              "solidity": 0.2
             }
            },
            "type": "barpolar"
           }
          ],
          "carpet": [
           {
            "aaxis": {
             "endlinecolor": "#2a3f5f",
             "gridcolor": "white",
             "linecolor": "white",
             "minorgridcolor": "white",
             "startlinecolor": "#2a3f5f"
            },
            "baxis": {
             "endlinecolor": "#2a3f5f",
             "gridcolor": "white",
             "linecolor": "white",
             "minorgridcolor": "white",
             "startlinecolor": "#2a3f5f"
            },
            "type": "carpet"
           }
          ],
          "choropleth": [
           {
            "colorbar": {
             "outlinewidth": 0,
             "ticks": ""
            },
            "type": "choropleth"
           }
          ],
          "contour": [
           {
            "colorbar": {
             "outlinewidth": 0,
             "ticks": ""
            },
            "colorscale": [
             [
              0,
              "#0d0887"
             ],
             [
              0.1111111111111111,
              "#46039f"
             ],
             [
              0.2222222222222222,
              "#7201a8"
             ],
             [
              0.3333333333333333,
              "#9c179e"
             ],
             [
              0.4444444444444444,
              "#bd3786"
             ],
             [
              0.5555555555555556,
              "#d8576b"
             ],
             [
              0.6666666666666666,
              "#ed7953"
             ],
             [
              0.7777777777777778,
              "#fb9f3a"
             ],
             [
              0.8888888888888888,
              "#fdca26"
             ],
             [
              1,
              "#f0f921"
             ]
            ],
            "type": "contour"
           }
          ],
          "contourcarpet": [
           {
            "colorbar": {
             "outlinewidth": 0,
             "ticks": ""
            },
            "type": "contourcarpet"
           }
          ],
          "heatmap": [
           {
            "colorbar": {
             "outlinewidth": 0,
             "ticks": ""
            },
            "colorscale": [
             [
              0,
              "#0d0887"
             ],
             [
              0.1111111111111111,
              "#46039f"
             ],
             [
              0.2222222222222222,
              "#7201a8"
             ],
             [
              0.3333333333333333,
              "#9c179e"
             ],
             [
              0.4444444444444444,
              "#bd3786"
             ],
             [
              0.5555555555555556,
              "#d8576b"
             ],
             [
              0.6666666666666666,
              "#ed7953"
             ],
             [
              0.7777777777777778,
              "#fb9f3a"
             ],
             [
              0.8888888888888888,
              "#fdca26"
             ],
             [
              1,
              "#f0f921"
             ]
            ],
            "type": "heatmap"
           }
          ],
          "heatmapgl": [
           {
            "colorbar": {
             "outlinewidth": 0,
             "ticks": ""
            },
            "colorscale": [
             [
              0,
              "#0d0887"
             ],
             [
              0.1111111111111111,
              "#46039f"
             ],
             [
              0.2222222222222222,
              "#7201a8"
             ],
             [
              0.3333333333333333,
              "#9c179e"
             ],
             [
              0.4444444444444444,
              "#bd3786"
             ],
             [
              0.5555555555555556,
              "#d8576b"
             ],
             [
              0.6666666666666666,
              "#ed7953"
             ],
             [
              0.7777777777777778,
              "#fb9f3a"
             ],
             [
              0.8888888888888888,
              "#fdca26"
             ],
             [
              1,
              "#f0f921"
             ]
            ],
            "type": "heatmapgl"
           }
          ],
          "histogram": [
           {
            "marker": {
             "pattern": {
              "fillmode": "overlay",
              "size": 10,
              "solidity": 0.2
             }
            },
            "type": "histogram"
           }
          ],
          "histogram2d": [
           {
            "colorbar": {
             "outlinewidth": 0,
             "ticks": ""
            },
            "colorscale": [
             [
              0,
              "#0d0887"
             ],
             [
              0.1111111111111111,
              "#46039f"
             ],
             [
              0.2222222222222222,
              "#7201a8"
             ],
             [
              0.3333333333333333,
              "#9c179e"
             ],
             [
              0.4444444444444444,
              "#bd3786"
             ],
             [
              0.5555555555555556,
              "#d8576b"
             ],
             [
              0.6666666666666666,
              "#ed7953"
             ],
             [
              0.7777777777777778,
              "#fb9f3a"
             ],
             [
              0.8888888888888888,
              "#fdca26"
             ],
             [
              1,
              "#f0f921"
             ]
            ],
            "type": "histogram2d"
           }
          ],
          "histogram2dcontour": [
           {
            "colorbar": {
             "outlinewidth": 0,
             "ticks": ""
            },
            "colorscale": [
             [
              0,
              "#0d0887"
             ],
             [
              0.1111111111111111,
              "#46039f"
             ],
             [
              0.2222222222222222,
              "#7201a8"
             ],
             [
              0.3333333333333333,
              "#9c179e"
             ],
             [
              0.4444444444444444,
              "#bd3786"
             ],
             [
              0.5555555555555556,
              "#d8576b"
             ],
             [
              0.6666666666666666,
              "#ed7953"
             ],
             [
              0.7777777777777778,
              "#fb9f3a"
             ],
             [
              0.8888888888888888,
              "#fdca26"
             ],
             [
              1,
              "#f0f921"
             ]
            ],
            "type": "histogram2dcontour"
           }
          ],
          "mesh3d": [
           {
            "colorbar": {
             "outlinewidth": 0,
             "ticks": ""
            },
            "type": "mesh3d"
           }
          ],
          "parcoords": [
           {
            "line": {
             "colorbar": {
              "outlinewidth": 0,
              "ticks": ""
             }
            },
            "type": "parcoords"
           }
          ],
          "pie": [
           {
            "automargin": true,
            "type": "pie"
           }
          ],
          "scatter": [
           {
            "fillpattern": {
             "fillmode": "overlay",
             "size": 10,
             "solidity": 0.2
            },
            "type": "scatter"
           }
          ],
          "scatter3d": [
           {
            "line": {
             "colorbar": {
              "outlinewidth": 0,
              "ticks": ""
             }
            },
            "marker": {
             "colorbar": {
              "outlinewidth": 0,
              "ticks": ""
             }
            },
            "type": "scatter3d"
           }
          ],
          "scattercarpet": [
           {
            "marker": {
             "colorbar": {
              "outlinewidth": 0,
              "ticks": ""
             }
            },
            "type": "scattercarpet"
           }
          ],
          "scattergeo": [
           {
            "marker": {
             "colorbar": {
              "outlinewidth": 0,
              "ticks": ""
             }
            },
            "type": "scattergeo"
           }
          ],
          "scattergl": [
           {
            "marker": {
             "colorbar": {
              "outlinewidth": 0,
              "ticks": ""
             }
            },
            "type": "scattergl"
           }
          ],
          "scattermapbox": [
           {
            "marker": {
             "colorbar": {
              "outlinewidth": 0,
              "ticks": ""
             }
            },
            "type": "scattermapbox"
           }
          ],
          "scatterpolar": [
           {
            "marker": {
             "colorbar": {
              "outlinewidth": 0,
              "ticks": ""
             }
            },
            "type": "scatterpolar"
           }
          ],
          "scatterpolargl": [
           {
            "marker": {
             "colorbar": {
              "outlinewidth": 0,
              "ticks": ""
             }
            },
            "type": "scatterpolargl"
           }
          ],
          "scatterternary": [
           {
            "marker": {
             "colorbar": {
              "outlinewidth": 0,
              "ticks": ""
             }
            },
            "type": "scatterternary"
           }
          ],
          "surface": [
           {
            "colorbar": {
             "outlinewidth": 0,
             "ticks": ""
            },
            "colorscale": [
             [
              0,
              "#0d0887"
             ],
             [
              0.1111111111111111,
              "#46039f"
             ],
             [
              0.2222222222222222,
              "#7201a8"
             ],
             [
              0.3333333333333333,
              "#9c179e"
             ],
             [
              0.4444444444444444,
              "#bd3786"
             ],
             [
              0.5555555555555556,
              "#d8576b"
             ],
             [
              0.6666666666666666,
              "#ed7953"
             ],
             [
              0.7777777777777778,
              "#fb9f3a"
             ],
             [
              0.8888888888888888,
              "#fdca26"
             ],
             [
              1,
              "#f0f921"
             ]
            ],
            "type": "surface"
           }
          ],
          "table": [
           {
            "cells": {
             "fill": {
              "color": "#EBF0F8"
             },
             "line": {
              "color": "white"
             }
            },
            "header": {
             "fill": {
              "color": "#C8D4E3"
             },
             "line": {
              "color": "white"
             }
            },
            "type": "table"
           }
          ]
         },
         "layout": {
          "annotationdefaults": {
           "arrowcolor": "#2a3f5f",
           "arrowhead": 0,
           "arrowwidth": 1
          },
          "autotypenumbers": "strict",
          "coloraxis": {
           "colorbar": {
            "outlinewidth": 0,
            "ticks": ""
           }
          },
          "colorscale": {
           "diverging": [
            [
             0,
             "#8e0152"
            ],
            [
             0.1,
             "#c51b7d"
            ],
            [
             0.2,
             "#de77ae"
            ],
            [
             0.3,
             "#f1b6da"
            ],
            [
             0.4,
             "#fde0ef"
            ],
            [
             0.5,
             "#f7f7f7"
            ],
            [
             0.6,
             "#e6f5d0"
            ],
            [
             0.7,
             "#b8e186"
            ],
            [
             0.8,
             "#7fbc41"
            ],
            [
             0.9,
             "#4d9221"
            ],
            [
             1,
             "#276419"
            ]
           ],
           "sequential": [
            [
             0,
             "#0d0887"
            ],
            [
             0.1111111111111111,
             "#46039f"
            ],
            [
             0.2222222222222222,
             "#7201a8"
            ],
            [
             0.3333333333333333,
             "#9c179e"
            ],
            [
             0.4444444444444444,
             "#bd3786"
            ],
            [
             0.5555555555555556,
             "#d8576b"
            ],
            [
             0.6666666666666666,
             "#ed7953"
            ],
            [
             0.7777777777777778,
             "#fb9f3a"
            ],
            [
             0.8888888888888888,
             "#fdca26"
            ],
            [
             1,
             "#f0f921"
            ]
           ],
           "sequentialminus": [
            [
             0,
             "#0d0887"
            ],
            [
             0.1111111111111111,
             "#46039f"
            ],
            [
             0.2222222222222222,
             "#7201a8"
            ],
            [
             0.3333333333333333,
             "#9c179e"
            ],
            [
             0.4444444444444444,
             "#bd3786"
            ],
            [
             0.5555555555555556,
             "#d8576b"
            ],
            [
             0.6666666666666666,
             "#ed7953"
            ],
            [
             0.7777777777777778,
             "#fb9f3a"
            ],
            [
             0.8888888888888888,
             "#fdca26"
            ],
            [
             1,
             "#f0f921"
            ]
           ]
          },
          "colorway": [
           "#636efa",
           "#EF553B",
           "#00cc96",
           "#ab63fa",
           "#FFA15A",
           "#19d3f3",
           "#FF6692",
           "#B6E880",
           "#FF97FF",
           "#FECB52"
          ],
          "font": {
           "color": "#2a3f5f"
          },
          "geo": {
           "bgcolor": "white",
           "lakecolor": "white",
           "landcolor": "#E5ECF6",
           "showlakes": true,
           "showland": true,
           "subunitcolor": "white"
          },
          "hoverlabel": {
           "align": "left"
          },
          "hovermode": "closest",
          "mapbox": {
           "style": "light"
          },
          "paper_bgcolor": "white",
          "plot_bgcolor": "#E5ECF6",
          "polar": {
           "angularaxis": {
            "gridcolor": "white",
            "linecolor": "white",
            "ticks": ""
           },
           "bgcolor": "#E5ECF6",
           "radialaxis": {
            "gridcolor": "white",
            "linecolor": "white",
            "ticks": ""
           }
          },
          "scene": {
           "xaxis": {
            "backgroundcolor": "#E5ECF6",
            "gridcolor": "white",
            "gridwidth": 2,
            "linecolor": "white",
            "showbackground": true,
            "ticks": "",
            "zerolinecolor": "white"
           },
           "yaxis": {
            "backgroundcolor": "#E5ECF6",
            "gridcolor": "white",
            "gridwidth": 2,
            "linecolor": "white",
            "showbackground": true,
            "ticks": "",
            "zerolinecolor": "white"
           },
           "zaxis": {
            "backgroundcolor": "#E5ECF6",
            "gridcolor": "white",
            "gridwidth": 2,
            "linecolor": "white",
            "showbackground": true,
            "ticks": "",
            "zerolinecolor": "white"
           }
          },
          "shapedefaults": {
           "line": {
            "color": "#2a3f5f"
           }
          },
          "ternary": {
           "aaxis": {
            "gridcolor": "white",
            "linecolor": "white",
            "ticks": ""
           },
           "baxis": {
            "gridcolor": "white",
            "linecolor": "white",
            "ticks": ""
           },
           "bgcolor": "#E5ECF6",
           "caxis": {
            "gridcolor": "white",
            "linecolor": "white",
            "ticks": ""
           }
          },
          "title": {
           "x": 0.05
          },
          "xaxis": {
           "automargin": true,
           "gridcolor": "white",
           "linecolor": "white",
           "ticks": "",
           "title": {
            "standoff": 15
           },
           "zerolinecolor": "white",
           "zerolinewidth": 2
          },
          "yaxis": {
           "automargin": true,
           "gridcolor": "white",
           "linecolor": "white",
           "ticks": "",
           "title": {
            "standoff": 15
           },
           "zerolinecolor": "white",
           "zerolinewidth": 2
          }
         }
        },
        "title": {
         "text": "Número de internados de acordo com tipo de sintoma<br>PNAD COVID-19",
         "x": 0.5
        },
        "xaxis": {
         "anchor": "y",
         "domain": [
          0,
          1
         ],
         "title": {
          "text": "Tipo de sintoma"
         }
        },
        "yaxis": {
         "anchor": "x",
         "domain": [
          0,
          1
         ],
         "tickformat": ",.0f",
         "title": {
          "text": "sum of Nº de entrevistados"
         }
        }
       }
      }
     },
     "metadata": {},
     "output_type": "display_data"
    }
   ],
   "source": [
    "fig = px.histogram(final_df, x=\"sintoma\", y=\"n_entrevistados\",\n",
    "             color='internacao', barmode='group',\n",
    "             height=600, title='Número de internados de acordo com tipo de sintoma<br>PNAD COVID-19',\n",
    "             labels=dict(n_entrevistados=\"Nº de entrevistados\", internacao=\"\", sintoma='Tipo de sintoma'))\n",
    "\n",
    "fig.update_layout(title_x=0.5)\n",
    "fig.update_yaxes(tickformat=\",.0f\")\n",
    "\n",
    "fig.show()\n",
    "\n",
    "title_name = 'Numero de internados de acordo com tipo de sintoma'\n",
    "\n",
    "#plotly.offline.plot(fig, filename = f'./plots/{title_name}.html', auto_play=False, auto_open=False)"
   ]
  },
  {
   "cell_type": "markdown",
   "metadata": {},
   "source": [
    "# Sintomáticos por atividade trabalho"
   ]
  },
  {
   "cell_type": "code",
   "execution_count": 45,
   "metadata": {},
   "outputs": [],
   "source": [
    "query_sql = f'''\n",
    "with check_sintomas as (\n",
    "  SELECT\n",
    "    atividade_trabalho,\n",
    "    CASE \n",
    "      WHEN tosse = 1 OR febre = 1 OR olfato_paladar = 1 THEN 1\n",
    "      ELSE 0\n",
    "    END as sintomas,\n",
    "\n",
    "    COUNT (CASE \n",
    "      WHEN tosse = 1 OR febre = 1 OR olfato_paladar = 1 THEN 1\n",
    "      ELSE 0\n",
    "    END) as count_sintomas\n",
    "  FROM `brave-tea-400210.fase_3_tech_challenge.pnad-covid-19`\n",
    "  GROUP BY atividade_trabalho, sintomas\n",
    ")\n",
    "\n",
    "SELECT\n",
    "  atividade_trabalho,\n",
    "  sintomas,\n",
    "  count_sintomas,\n",
    "  ROUND(SUM(count_sintomas)/SUM(count_sintomas) OVER (PARTITION BY atividade_trabalho),4) AS proportion_sintoma\n",
    "FROM check_sintomas\n",
    "WHERE atividade_trabalho != 0\n",
    "GROUP BY\n",
    "  atividade_trabalho, sintomas, count_sintomas\n",
    "ORDER BY atividade_trabalho, count_sintomas DESC\n",
    "'''\n",
    "\n",
    "query_job = client.query(query_sql)\n",
    "df_results = query_job.to_dataframe()"
   ]
  },
  {
   "cell_type": "code",
   "execution_count": 46,
   "metadata": {},
   "outputs": [
    {
     "name": "stderr",
     "output_type": "stream",
     "text": [
      "C:\\Users\\jacks\\AppData\\Local\\Temp\\ipykernel_21676\\117334963.py:1: RuntimeWarning:\n",
      "\n",
      "Engine has switched to 'python' because numexpr does not support extension array dtypes. Please set your engine to python manually.\n",
      "\n"
     ]
    },
    {
     "data": {
      "text/html": [
       "<div>\n",
       "<style scoped>\n",
       "    .dataframe tbody tr th:only-of-type {\n",
       "        vertical-align: middle;\n",
       "    }\n",
       "\n",
       "    .dataframe tbody tr th {\n",
       "        vertical-align: top;\n",
       "    }\n",
       "\n",
       "    .dataframe thead th {\n",
       "        text-align: right;\n",
       "    }\n",
       "</style>\n",
       "<table border=\"1\" class=\"dataframe\">\n",
       "  <thead>\n",
       "    <tr style=\"text-align: right;\">\n",
       "      <th></th>\n",
       "      <th>atividade_trabalho</th>\n",
       "      <th>sintomas</th>\n",
       "      <th>count_sintomas</th>\n",
       "      <th>proportion_sintoma</th>\n",
       "    </tr>\n",
       "  </thead>\n",
       "  <tbody>\n",
       "    <tr>\n",
       "      <th>0</th>\n",
       "      <td>Serviços de entregas</td>\n",
       "      <td>Com sintomas</td>\n",
       "      <td>38</td>\n",
       "      <td>2.44</td>\n",
       "    </tr>\n",
       "    <tr>\n",
       "      <th>1</th>\n",
       "      <td>Administração pública</td>\n",
       "      <td>Com sintomas</td>\n",
       "      <td>578</td>\n",
       "      <td>2.32</td>\n",
       "    </tr>\n",
       "    <tr>\n",
       "      <th>2</th>\n",
       "      <td>Saúde</td>\n",
       "      <td>Com sintomas</td>\n",
       "      <td>669</td>\n",
       "      <td>2.31</td>\n",
       "    </tr>\n",
       "    <tr>\n",
       "      <th>3</th>\n",
       "      <td>Serviço doméstico</td>\n",
       "      <td>Com sintomas</td>\n",
       "      <td>515</td>\n",
       "      <td>2.31</td>\n",
       "    </tr>\n",
       "    <tr>\n",
       "      <th>4</th>\n",
       "      <td>Escritórios</td>\n",
       "      <td>Com sintomas</td>\n",
       "      <td>269</td>\n",
       "      <td>2.30</td>\n",
       "    </tr>\n",
       "    <tr>\n",
       "      <th>5</th>\n",
       "      <td>Instituições financeiras</td>\n",
       "      <td>Com sintomas</td>\n",
       "      <td>133</td>\n",
       "      <td>2.25</td>\n",
       "    </tr>\n",
       "    <tr>\n",
       "      <th>6</th>\n",
       "      <td>Hospedagem</td>\n",
       "      <td>Com sintomas</td>\n",
       "      <td>37</td>\n",
       "      <td>2.22</td>\n",
       "    </tr>\n",
       "    <tr>\n",
       "      <th>7</th>\n",
       "      <td>Imobiliárias</td>\n",
       "      <td>Com sintomas</td>\n",
       "      <td>48</td>\n",
       "      <td>2.19</td>\n",
       "    </tr>\n",
       "    <tr>\n",
       "      <th>8</th>\n",
       "      <td>Informação e comunicação</td>\n",
       "      <td>Com sintomas</td>\n",
       "      <td>168</td>\n",
       "      <td>2.18</td>\n",
       "    </tr>\n",
       "    <tr>\n",
       "      <th>9</th>\n",
       "      <td>Artes e esportes</td>\n",
       "      <td>Com sintomas</td>\n",
       "      <td>68</td>\n",
       "      <td>2.11</td>\n",
       "    </tr>\n",
       "    <tr>\n",
       "      <th>10</th>\n",
       "      <td>Serviços de alimentação</td>\n",
       "      <td>Com sintomas</td>\n",
       "      <td>429</td>\n",
       "      <td>2.09</td>\n",
       "    </tr>\n",
       "  </tbody>\n",
       "</table>\n",
       "</div>"
      ],
      "text/plain": [
       "          atividade_trabalho      sintomas  count_sintomas  proportion_sintoma\n",
       "0       Serviços de entregas  Com sintomas              38                2.44\n",
       "1      Administração pública  Com sintomas             578                2.32\n",
       "2                      Saúde  Com sintomas             669                2.31\n",
       "3          Serviço doméstico  Com sintomas             515                2.31\n",
       "4                Escritórios  Com sintomas             269                2.30\n",
       "5   Instituições financeiras  Com sintomas             133                2.25\n",
       "6                 Hospedagem  Com sintomas              37                2.22\n",
       "7               Imobiliárias  Com sintomas              48                2.19\n",
       "8   Informação e comunicação  Com sintomas             168                2.18\n",
       "9           Artes e esportes  Com sintomas              68                2.11\n",
       "10   Serviços de alimentação  Com sintomas             429                2.09"
      ]
     },
     "execution_count": 46,
     "metadata": {},
     "output_type": "execute_result"
    }
   ],
   "source": [
    "df_results = df_results.query('sintomas == 1')\n",
    "df_results.sort_values(by='proportion_sintoma',ascending=False, inplace=True)\n",
    "df_results.reset_index(drop=True, inplace=True)\n",
    "df_results = df_results.loc[:10,:]\n",
    "df_results['atividade_trabalho'] = df_results['atividade_trabalho'].astype(str).replace(dict_atividade_trabalho)\n",
    "df_results['sintomas'] = df_results['sintomas'].astype(str).replace(dict_sintomas)\n",
    "df_results['proportion_sintoma'] = df_results['proportion_sintoma'] * 100\n",
    "df_results"
   ]
  },
  {
   "cell_type": "code",
   "execution_count": 74,
   "metadata": {},
   "outputs": [
    {
     "data": {
      "application/vnd.plotly.v1+json": {
       "config": {
        "plotlyServerURL": "https://plot.ly"
       },
       "data": [
        {
         "alignmentgroup": "True",
         "hovertemplate": "Proporção de sintomáticos (%)=%{x}<br>=%{y}<extra></extra>",
         "legendgroup": "",
         "marker": {
          "color": "#3366CC",
          "pattern": {
           "shape": ""
          }
         },
         "name": "",
         "offsetgroup": "",
         "orientation": "h",
         "showlegend": false,
         "textposition": "auto",
         "type": "bar",
         "x": [
          2.44,
          2.32,
          2.31,
          2.31,
          2.3,
          2.25,
          2.22,
          2.19,
          2.18,
          2.11,
          2.09
         ],
         "xaxis": "x",
         "y": [
          "Serviços de entregas",
          "Administração pública",
          "Saúde",
          "Serviço doméstico",
          "Escritórios",
          "Instituições financeiras",
          "Hospedagem",
          "Imobiliárias",
          "Informação e comunicação",
          "Artes e esportes",
          "Serviços de alimentação"
         ],
         "yaxis": "y"
        }
       ],
       "layout": {
        "barmode": "relative",
        "height": 400,
        "legend": {
         "tracegroupgap": 0
        },
        "template": {
         "data": {
          "bar": [
           {
            "error_x": {
             "color": "#2a3f5f"
            },
            "error_y": {
             "color": "#2a3f5f"
            },
            "marker": {
             "line": {
              "color": "#E5ECF6",
              "width": 0.5
             },
             "pattern": {
              "fillmode": "overlay",
              "size": 10,
              "solidity": 0.2
             }
            },
            "type": "bar"
           }
          ],
          "barpolar": [
           {
            "marker": {
             "line": {
              "color": "#E5ECF6",
              "width": 0.5
             },
             "pattern": {
              "fillmode": "overlay",
              "size": 10,
              "solidity": 0.2
             }
            },
            "type": "barpolar"
           }
          ],
          "carpet": [
           {
            "aaxis": {
             "endlinecolor": "#2a3f5f",
             "gridcolor": "white",
             "linecolor": "white",
             "minorgridcolor": "white",
             "startlinecolor": "#2a3f5f"
            },
            "baxis": {
             "endlinecolor": "#2a3f5f",
             "gridcolor": "white",
             "linecolor": "white",
             "minorgridcolor": "white",
             "startlinecolor": "#2a3f5f"
            },
            "type": "carpet"
           }
          ],
          "choropleth": [
           {
            "colorbar": {
             "outlinewidth": 0,
             "ticks": ""
            },
            "type": "choropleth"
           }
          ],
          "contour": [
           {
            "colorbar": {
             "outlinewidth": 0,
             "ticks": ""
            },
            "colorscale": [
             [
              0,
              "#0d0887"
             ],
             [
              0.1111111111111111,
              "#46039f"
             ],
             [
              0.2222222222222222,
              "#7201a8"
             ],
             [
              0.3333333333333333,
              "#9c179e"
             ],
             [
              0.4444444444444444,
              "#bd3786"
             ],
             [
              0.5555555555555556,
              "#d8576b"
             ],
             [
              0.6666666666666666,
              "#ed7953"
             ],
             [
              0.7777777777777778,
              "#fb9f3a"
             ],
             [
              0.8888888888888888,
              "#fdca26"
             ],
             [
              1,
              "#f0f921"
             ]
            ],
            "type": "contour"
           }
          ],
          "contourcarpet": [
           {
            "colorbar": {
             "outlinewidth": 0,
             "ticks": ""
            },
            "type": "contourcarpet"
           }
          ],
          "heatmap": [
           {
            "colorbar": {
             "outlinewidth": 0,
             "ticks": ""
            },
            "colorscale": [
             [
              0,
              "#0d0887"
             ],
             [
              0.1111111111111111,
              "#46039f"
             ],
             [
              0.2222222222222222,
              "#7201a8"
             ],
             [
              0.3333333333333333,
              "#9c179e"
             ],
             [
              0.4444444444444444,
              "#bd3786"
             ],
             [
              0.5555555555555556,
              "#d8576b"
             ],
             [
              0.6666666666666666,
              "#ed7953"
             ],
             [
              0.7777777777777778,
              "#fb9f3a"
             ],
             [
              0.8888888888888888,
              "#fdca26"
             ],
             [
              1,
              "#f0f921"
             ]
            ],
            "type": "heatmap"
           }
          ],
          "heatmapgl": [
           {
            "colorbar": {
             "outlinewidth": 0,
             "ticks": ""
            },
            "colorscale": [
             [
              0,
              "#0d0887"
             ],
             [
              0.1111111111111111,
              "#46039f"
             ],
             [
              0.2222222222222222,
              "#7201a8"
             ],
             [
              0.3333333333333333,
              "#9c179e"
             ],
             [
              0.4444444444444444,
              "#bd3786"
             ],
             [
              0.5555555555555556,
              "#d8576b"
             ],
             [
              0.6666666666666666,
              "#ed7953"
             ],
             [
              0.7777777777777778,
              "#fb9f3a"
             ],
             [
              0.8888888888888888,
              "#fdca26"
             ],
             [
              1,
              "#f0f921"
             ]
            ],
            "type": "heatmapgl"
           }
          ],
          "histogram": [
           {
            "marker": {
             "pattern": {
              "fillmode": "overlay",
              "size": 10,
              "solidity": 0.2
             }
            },
            "type": "histogram"
           }
          ],
          "histogram2d": [
           {
            "colorbar": {
             "outlinewidth": 0,
             "ticks": ""
            },
            "colorscale": [
             [
              0,
              "#0d0887"
             ],
             [
              0.1111111111111111,
              "#46039f"
             ],
             [
              0.2222222222222222,
              "#7201a8"
             ],
             [
              0.3333333333333333,
              "#9c179e"
             ],
             [
              0.4444444444444444,
              "#bd3786"
             ],
             [
              0.5555555555555556,
              "#d8576b"
             ],
             [
              0.6666666666666666,
              "#ed7953"
             ],
             [
              0.7777777777777778,
              "#fb9f3a"
             ],
             [
              0.8888888888888888,
              "#fdca26"
             ],
             [
              1,
              "#f0f921"
             ]
            ],
            "type": "histogram2d"
           }
          ],
          "histogram2dcontour": [
           {
            "colorbar": {
             "outlinewidth": 0,
             "ticks": ""
            },
            "colorscale": [
             [
              0,
              "#0d0887"
             ],
             [
              0.1111111111111111,
              "#46039f"
             ],
             [
              0.2222222222222222,
              "#7201a8"
             ],
             [
              0.3333333333333333,
              "#9c179e"
             ],
             [
              0.4444444444444444,
              "#bd3786"
             ],
             [
              0.5555555555555556,
              "#d8576b"
             ],
             [
              0.6666666666666666,
              "#ed7953"
             ],
             [
              0.7777777777777778,
              "#fb9f3a"
             ],
             [
              0.8888888888888888,
              "#fdca26"
             ],
             [
              1,
              "#f0f921"
             ]
            ],
            "type": "histogram2dcontour"
           }
          ],
          "mesh3d": [
           {
            "colorbar": {
             "outlinewidth": 0,
             "ticks": ""
            },
            "type": "mesh3d"
           }
          ],
          "parcoords": [
           {
            "line": {
             "colorbar": {
              "outlinewidth": 0,
              "ticks": ""
             }
            },
            "type": "parcoords"
           }
          ],
          "pie": [
           {
            "automargin": true,
            "type": "pie"
           }
          ],
          "scatter": [
           {
            "fillpattern": {
             "fillmode": "overlay",
             "size": 10,
             "solidity": 0.2
            },
            "type": "scatter"
           }
          ],
          "scatter3d": [
           {
            "line": {
             "colorbar": {
              "outlinewidth": 0,
              "ticks": ""
             }
            },
            "marker": {
             "colorbar": {
              "outlinewidth": 0,
              "ticks": ""
             }
            },
            "type": "scatter3d"
           }
          ],
          "scattercarpet": [
           {
            "marker": {
             "colorbar": {
              "outlinewidth": 0,
              "ticks": ""
             }
            },
            "type": "scattercarpet"
           }
          ],
          "scattergeo": [
           {
            "marker": {
             "colorbar": {
              "outlinewidth": 0,
              "ticks": ""
             }
            },
            "type": "scattergeo"
           }
          ],
          "scattergl": [
           {
            "marker": {
             "colorbar": {
              "outlinewidth": 0,
              "ticks": ""
             }
            },
            "type": "scattergl"
           }
          ],
          "scattermapbox": [
           {
            "marker": {
             "colorbar": {
              "outlinewidth": 0,
              "ticks": ""
             }
            },
            "type": "scattermapbox"
           }
          ],
          "scatterpolar": [
           {
            "marker": {
             "colorbar": {
              "outlinewidth": 0,
              "ticks": ""
             }
            },
            "type": "scatterpolar"
           }
          ],
          "scatterpolargl": [
           {
            "marker": {
             "colorbar": {
              "outlinewidth": 0,
              "ticks": ""
             }
            },
            "type": "scatterpolargl"
           }
          ],
          "scatterternary": [
           {
            "marker": {
             "colorbar": {
              "outlinewidth": 0,
              "ticks": ""
             }
            },
            "type": "scatterternary"
           }
          ],
          "surface": [
           {
            "colorbar": {
             "outlinewidth": 0,
             "ticks": ""
            },
            "colorscale": [
             [
              0,
              "#0d0887"
             ],
             [
              0.1111111111111111,
              "#46039f"
             ],
             [
              0.2222222222222222,
              "#7201a8"
             ],
             [
              0.3333333333333333,
              "#9c179e"
             ],
             [
              0.4444444444444444,
              "#bd3786"
             ],
             [
              0.5555555555555556,
              "#d8576b"
             ],
             [
              0.6666666666666666,
              "#ed7953"
             ],
             [
              0.7777777777777778,
              "#fb9f3a"
             ],
             [
              0.8888888888888888,
              "#fdca26"
             ],
             [
              1,
              "#f0f921"
             ]
            ],
            "type": "surface"
           }
          ],
          "table": [
           {
            "cells": {
             "fill": {
              "color": "#EBF0F8"
             },
             "line": {
              "color": "white"
             }
            },
            "header": {
             "fill": {
              "color": "#C8D4E3"
             },
             "line": {
              "color": "white"
             }
            },
            "type": "table"
           }
          ]
         },
         "layout": {
          "annotationdefaults": {
           "arrowcolor": "#2a3f5f",
           "arrowhead": 0,
           "arrowwidth": 1
          },
          "autotypenumbers": "strict",
          "coloraxis": {
           "colorbar": {
            "outlinewidth": 0,
            "ticks": ""
           }
          },
          "colorscale": {
           "diverging": [
            [
             0,
             "#8e0152"
            ],
            [
             0.1,
             "#c51b7d"
            ],
            [
             0.2,
             "#de77ae"
            ],
            [
             0.3,
             "#f1b6da"
            ],
            [
             0.4,
             "#fde0ef"
            ],
            [
             0.5,
             "#f7f7f7"
            ],
            [
             0.6,
             "#e6f5d0"
            ],
            [
             0.7,
             "#b8e186"
            ],
            [
             0.8,
             "#7fbc41"
            ],
            [
             0.9,
             "#4d9221"
            ],
            [
             1,
             "#276419"
            ]
           ],
           "sequential": [
            [
             0,
             "#0d0887"
            ],
            [
             0.1111111111111111,
             "#46039f"
            ],
            [
             0.2222222222222222,
             "#7201a8"
            ],
            [
             0.3333333333333333,
             "#9c179e"
            ],
            [
             0.4444444444444444,
             "#bd3786"
            ],
            [
             0.5555555555555556,
             "#d8576b"
            ],
            [
             0.6666666666666666,
             "#ed7953"
            ],
            [
             0.7777777777777778,
             "#fb9f3a"
            ],
            [
             0.8888888888888888,
             "#fdca26"
            ],
            [
             1,
             "#f0f921"
            ]
           ],
           "sequentialminus": [
            [
             0,
             "#0d0887"
            ],
            [
             0.1111111111111111,
             "#46039f"
            ],
            [
             0.2222222222222222,
             "#7201a8"
            ],
            [
             0.3333333333333333,
             "#9c179e"
            ],
            [
             0.4444444444444444,
             "#bd3786"
            ],
            [
             0.5555555555555556,
             "#d8576b"
            ],
            [
             0.6666666666666666,
             "#ed7953"
            ],
            [
             0.7777777777777778,
             "#fb9f3a"
            ],
            [
             0.8888888888888888,
             "#fdca26"
            ],
            [
             1,
             "#f0f921"
            ]
           ]
          },
          "colorway": [
           "#636efa",
           "#EF553B",
           "#00cc96",
           "#ab63fa",
           "#FFA15A",
           "#19d3f3",
           "#FF6692",
           "#B6E880",
           "#FF97FF",
           "#FECB52"
          ],
          "font": {
           "color": "#2a3f5f"
          },
          "geo": {
           "bgcolor": "white",
           "lakecolor": "white",
           "landcolor": "#E5ECF6",
           "showlakes": true,
           "showland": true,
           "subunitcolor": "white"
          },
          "hoverlabel": {
           "align": "left"
          },
          "hovermode": "closest",
          "mapbox": {
           "style": "light"
          },
          "paper_bgcolor": "white",
          "plot_bgcolor": "#E5ECF6",
          "polar": {
           "angularaxis": {
            "gridcolor": "white",
            "linecolor": "white",
            "ticks": ""
           },
           "bgcolor": "#E5ECF6",
           "radialaxis": {
            "gridcolor": "white",
            "linecolor": "white",
            "ticks": ""
           }
          },
          "scene": {
           "xaxis": {
            "backgroundcolor": "#E5ECF6",
            "gridcolor": "white",
            "gridwidth": 2,
            "linecolor": "white",
            "showbackground": true,
            "ticks": "",
            "zerolinecolor": "white"
           },
           "yaxis": {
            "backgroundcolor": "#E5ECF6",
            "gridcolor": "white",
            "gridwidth": 2,
            "linecolor": "white",
            "showbackground": true,
            "ticks": "",
            "zerolinecolor": "white"
           },
           "zaxis": {
            "backgroundcolor": "#E5ECF6",
            "gridcolor": "white",
            "gridwidth": 2,
            "linecolor": "white",
            "showbackground": true,
            "ticks": "",
            "zerolinecolor": "white"
           }
          },
          "shapedefaults": {
           "line": {
            "color": "#2a3f5f"
           }
          },
          "ternary": {
           "aaxis": {
            "gridcolor": "white",
            "linecolor": "white",
            "ticks": ""
           },
           "baxis": {
            "gridcolor": "white",
            "linecolor": "white",
            "ticks": ""
           },
           "bgcolor": "#E5ECF6",
           "caxis": {
            "gridcolor": "white",
            "linecolor": "white",
            "ticks": ""
           }
          },
          "title": {
           "x": 0.05
          },
          "xaxis": {
           "automargin": true,
           "gridcolor": "white",
           "linecolor": "white",
           "ticks": "",
           "title": {
            "standoff": 15
           },
           "zerolinecolor": "white",
           "zerolinewidth": 2
          },
          "yaxis": {
           "automargin": true,
           "gridcolor": "white",
           "linecolor": "white",
           "ticks": "",
           "title": {
            "standoff": 15
           },
           "zerolinecolor": "white",
           "zerolinewidth": 2
          }
         }
        },
        "title": {
         "text": "Sintomáticos por setor de trabalho<br>PNAD COVID-19",
         "x": 0.5
        },
        "width": 700,
        "xaxis": {
         "anchor": "y",
         "domain": [
          0,
          1
         ],
         "title": {
          "text": "Proporção de sintomáticos (%)"
         }
        },
        "yaxis": {
         "anchor": "x",
         "autorange": "reversed",
         "domain": [
          0,
          1
         ],
         "title": {
          "text": ""
         }
        }
       }
      }
     },
     "metadata": {},
     "output_type": "display_data"
    },
    {
     "data": {
      "text/plain": [
       "'./plots/Sintomaticos por setor de trabalho.html'"
      ]
     },
     "execution_count": 74,
     "metadata": {},
     "output_type": "execute_result"
    }
   ],
   "source": [
    "fig = px.bar(df_results, x=\"proportion_sintoma\", y=\"atividade_trabalho\", orientation='h',\n",
    "             color_discrete_sequence=px.colors.qualitative.G10, title='Sintomáticos por setor de trabalho<br>PNAD COVID-19',\n",
    "             labels=dict(atividade_trabalho='', proportion_sintoma='Proporção de sintomáticos (%)'),\n",
    "             height=400, width=700)\n",
    "\n",
    "fig.update_layout(yaxis=dict(autorange=\"reversed\"), title_x=0.5)\n",
    "\n",
    "fig.show()\n",
    "\n",
    "title_name = 'Sintomaticos por setor de trabalho'\n",
    "\n",
    "plotly.offline.plot(fig, filename = f'./plots/{title_name}.html', auto_play=False, auto_open=False)"
   ]
  }
 ],
 "metadata": {
  "kernelspec": {
   "display_name": "pyspark_env",
   "language": "python",
   "name": "python3"
  },
  "language_info": {
   "codemirror_mode": {
    "name": "ipython",
    "version": 3
   },
   "file_extension": ".py",
   "mimetype": "text/x-python",
   "name": "python",
   "nbconvert_exporter": "python",
   "pygments_lexer": "ipython3",
   "version": "3.11.4"
  }
 },
 "nbformat": 4,
 "nbformat_minor": 2
}
