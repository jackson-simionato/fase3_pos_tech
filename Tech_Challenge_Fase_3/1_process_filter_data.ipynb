{
 "cells": [
  {
   "cell_type": "markdown",
   "metadata": {},
   "source": [
    "# O Problema: PNAD-COVID 19\n",
    "\n",
    "Você foi contratado por um grande hospital para entender o comportamento da população na época da pandemia da COVID-19 e para definir quais indicadores seriam importantes para o planejamento.\n",
    "\n",
    "O estudo do PNAD COVID-19 foi identificado como uma ótima base para extrair estas respostas, porém não será necessário utilizar todas as informações coletadas pelo IBGE. Basicamente, a análise deve abranger:\n",
    "\n",
    "- Características clínicas dos sintomas;\n",
    "\n",
    "- Características da população;\n",
    "\n",
    "- Características econômicas da sociedade.\n",
    "\n",
    "Além disso, alguns requisitos para a análise são:\n",
    "\n",
    "- Utilizar no máximo 20 questionamentos realizados na pesquisa;\n",
    "\n",
    "- Utilizar 3 meses de dados para construção da solução."
   ]
  },
  {
   "cell_type": "markdown",
   "metadata": {},
   "source": [
    "# Leitura e processamentos dos dados"
   ]
  },
  {
   "cell_type": "markdown",
   "metadata": {},
   "source": [
    "Como fonte das informações, será utilizada a base de microdados do PNAD COVID-19 pois disponibiliza tabelas em formato .csv já parcialmente pré-processadas para análise de dados. A única desvantagem é a necessidade de \"traduzir\" os códigos das colunas para nomes que sejam compreensíveis, além de que os microdados são separados por mês de pesquisa, portanto será necessário concatenar os .csvs de três meses diferentes.\n",
    "\n",
    "Para esta análise, as tabelas de microdados dos últimos três meses de pesquisa foram selecionadas, corresponde aos meses de setembro, outubro e novembro de 2020.\n",
    "\n",
    "Fonte dos dados: https://www.ibge.gov.br/estatisticas/downloads-estatisticas.html?caminho=Trabalho_e_Rendimento/Pesquisa_Nacional_por_Amostra_de_Domicilios_PNAD_COVID19/Microdados/Dados"
   ]
  },
  {
   "cell_type": "code",
   "execution_count": 2,
   "metadata": {},
   "outputs": [],
   "source": [
    "import pandas as pd\n",
    "import os"
   ]
  },
  {
   "cell_type": "markdown",
   "metadata": {},
   "source": [
    "# Leitura dos arquivos brutos"
   ]
  },
  {
   "cell_type": "code",
   "execution_count": 3,
   "metadata": {},
   "outputs": [
    {
     "data": {
      "text/plain": [
       "['./data/PNAD_COVID_092020.csv',\n",
       " './data/PNAD_COVID_102020.csv',\n",
       " './data/PNAD_COVID_112020.csv']"
      ]
     },
     "execution_count": 3,
     "metadata": {},
     "output_type": "execute_result"
    }
   ],
   "source": [
    "data_folder = './data/'\n",
    "\n",
    "pnad_files_path = [os.path.join(data_folder, file) for file in os.listdir(data_folder) if file.startswith('PNAD')]\n",
    "pnad_files_path"
   ]
  },
  {
   "cell_type": "code",
   "execution_count": 4,
   "metadata": {},
   "outputs": [],
   "source": [
    "pnad = pd.read_csv(pnad_files_path[0])"
   ]
  },
  {
   "cell_type": "code",
   "execution_count": 6,
   "metadata": {},
   "outputs": [
    {
     "name": "stdout",
     "output_type": "stream",
     "text": [
      "Colunas: 145\n",
      "Linhas: 387298\n"
     ]
    },
    {
     "data": {
      "text/html": [
       "<div>\n",
       "<style scoped>\n",
       "    .dataframe tbody tr th:only-of-type {\n",
       "        vertical-align: middle;\n",
       "    }\n",
       "\n",
       "    .dataframe tbody tr th {\n",
       "        vertical-align: top;\n",
       "    }\n",
       "\n",
       "    .dataframe thead th {\n",
       "        text-align: right;\n",
       "    }\n",
       "</style>\n",
       "<table border=\"1\" class=\"dataframe\">\n",
       "  <thead>\n",
       "    <tr style=\"text-align: right;\">\n",
       "      <th></th>\n",
       "      <th>Ano</th>\n",
       "      <th>UF</th>\n",
       "      <th>CAPITAL</th>\n",
       "      <th>RM_RIDE</th>\n",
       "      <th>V1008</th>\n",
       "      <th>V1012</th>\n",
       "      <th>V1013</th>\n",
       "      <th>V1016</th>\n",
       "      <th>Estrato</th>\n",
       "      <th>UPA</th>\n",
       "      <th>...</th>\n",
       "      <th>F001</th>\n",
       "      <th>F0021</th>\n",
       "      <th>F0022</th>\n",
       "      <th>F002A1</th>\n",
       "      <th>F002A2</th>\n",
       "      <th>F002A3</th>\n",
       "      <th>F002A4</th>\n",
       "      <th>F002A5</th>\n",
       "      <th>F0061</th>\n",
       "      <th>F006</th>\n",
       "    </tr>\n",
       "  </thead>\n",
       "  <tbody>\n",
       "    <tr>\n",
       "      <th>0</th>\n",
       "      <td>2020</td>\n",
       "      <td>11</td>\n",
       "      <td>11.0</td>\n",
       "      <td>NaN</td>\n",
       "      <td>1</td>\n",
       "      <td>4</td>\n",
       "      <td>9</td>\n",
       "      <td>5</td>\n",
       "      <td>1110011</td>\n",
       "      <td>110015970</td>\n",
       "      <td>...</td>\n",
       "      <td>1</td>\n",
       "      <td>NaN</td>\n",
       "      <td>NaN</td>\n",
       "      <td>1</td>\n",
       "      <td>1</td>\n",
       "      <td>1</td>\n",
       "      <td>2</td>\n",
       "      <td>1</td>\n",
       "      <td>1</td>\n",
       "      <td>1.0</td>\n",
       "    </tr>\n",
       "    <tr>\n",
       "      <th>1</th>\n",
       "      <td>2020</td>\n",
       "      <td>11</td>\n",
       "      <td>11.0</td>\n",
       "      <td>NaN</td>\n",
       "      <td>1</td>\n",
       "      <td>4</td>\n",
       "      <td>9</td>\n",
       "      <td>5</td>\n",
       "      <td>1110011</td>\n",
       "      <td>110015970</td>\n",
       "      <td>...</td>\n",
       "      <td>1</td>\n",
       "      <td>NaN</td>\n",
       "      <td>NaN</td>\n",
       "      <td>1</td>\n",
       "      <td>1</td>\n",
       "      <td>1</td>\n",
       "      <td>2</td>\n",
       "      <td>1</td>\n",
       "      <td>1</td>\n",
       "      <td>1.0</td>\n",
       "    </tr>\n",
       "    <tr>\n",
       "      <th>2</th>\n",
       "      <td>2020</td>\n",
       "      <td>11</td>\n",
       "      <td>11.0</td>\n",
       "      <td>NaN</td>\n",
       "      <td>1</td>\n",
       "      <td>4</td>\n",
       "      <td>9</td>\n",
       "      <td>5</td>\n",
       "      <td>1110011</td>\n",
       "      <td>110015970</td>\n",
       "      <td>...</td>\n",
       "      <td>1</td>\n",
       "      <td>NaN</td>\n",
       "      <td>NaN</td>\n",
       "      <td>1</td>\n",
       "      <td>1</td>\n",
       "      <td>1</td>\n",
       "      <td>2</td>\n",
       "      <td>1</td>\n",
       "      <td>1</td>\n",
       "      <td>1.0</td>\n",
       "    </tr>\n",
       "    <tr>\n",
       "      <th>3</th>\n",
       "      <td>2020</td>\n",
       "      <td>11</td>\n",
       "      <td>11.0</td>\n",
       "      <td>NaN</td>\n",
       "      <td>1</td>\n",
       "      <td>4</td>\n",
       "      <td>9</td>\n",
       "      <td>5</td>\n",
       "      <td>1110011</td>\n",
       "      <td>110015970</td>\n",
       "      <td>...</td>\n",
       "      <td>1</td>\n",
       "      <td>NaN</td>\n",
       "      <td>NaN</td>\n",
       "      <td>1</td>\n",
       "      <td>1</td>\n",
       "      <td>1</td>\n",
       "      <td>2</td>\n",
       "      <td>1</td>\n",
       "      <td>1</td>\n",
       "      <td>1.0</td>\n",
       "    </tr>\n",
       "    <tr>\n",
       "      <th>4</th>\n",
       "      <td>2020</td>\n",
       "      <td>11</td>\n",
       "      <td>11.0</td>\n",
       "      <td>NaN</td>\n",
       "      <td>2</td>\n",
       "      <td>1</td>\n",
       "      <td>9</td>\n",
       "      <td>5</td>\n",
       "      <td>1110011</td>\n",
       "      <td>110015970</td>\n",
       "      <td>...</td>\n",
       "      <td>1</td>\n",
       "      <td>NaN</td>\n",
       "      <td>NaN</td>\n",
       "      <td>1</td>\n",
       "      <td>1</td>\n",
       "      <td>1</td>\n",
       "      <td>2</td>\n",
       "      <td>1</td>\n",
       "      <td>1</td>\n",
       "      <td>1.0</td>\n",
       "    </tr>\n",
       "  </tbody>\n",
       "</table>\n",
       "<p>5 rows × 145 columns</p>\n",
       "</div>"
      ],
      "text/plain": [
       "    Ano  UF  CAPITAL  RM_RIDE  V1008  V1012  V1013  V1016  Estrato        UPA  \\\n",
       "0  2020  11     11.0      NaN      1      4      9      5  1110011  110015970   \n",
       "1  2020  11     11.0      NaN      1      4      9      5  1110011  110015970   \n",
       "2  2020  11     11.0      NaN      1      4      9      5  1110011  110015970   \n",
       "3  2020  11     11.0      NaN      1      4      9      5  1110011  110015970   \n",
       "4  2020  11     11.0      NaN      2      1      9      5  1110011  110015970   \n",
       "\n",
       "   ...  F001  F0021  F0022  F002A1  F002A2  F002A3  F002A4  F002A5  F0061  \\\n",
       "0  ...     1    NaN    NaN       1       1       1       2       1      1   \n",
       "1  ...     1    NaN    NaN       1       1       1       2       1      1   \n",
       "2  ...     1    NaN    NaN       1       1       1       2       1      1   \n",
       "3  ...     1    NaN    NaN       1       1       1       2       1      1   \n",
       "4  ...     1    NaN    NaN       1       1       1       2       1      1   \n",
       "\n",
       "   F006  \n",
       "0   1.0  \n",
       "1   1.0  \n",
       "2   1.0  \n",
       "3   1.0  \n",
       "4   1.0  \n",
       "\n",
       "[5 rows x 145 columns]"
      ]
     },
     "metadata": {},
     "output_type": "display_data"
    }
   ],
   "source": [
    "print(f'Colunas: {len(pnad.columns)}')\n",
    "print(f'Linhas: {len(pnad)}')\n",
    "display(pnad.head())"
   ]
  },
  {
   "cell_type": "markdown",
   "metadata": {},
   "source": [
    "Tem-se então um total de 145 colunas para cada linha do DataFrame. Como especificado no problema, deve-se reduzir este número para algo em torno de 20 colunas.\n",
    "\n",
    "Para selecionar as colunas mais valiosas, o dicionário dos dados deve ser consultado.\n",
    "\n",
    "Dicionário dos dados: https://www.ibge.gov.br/estatisticas/downloads-estatisticas.html?caminho=Trabalho_e_Rendimento/Pesquisa_Nacional_por_Amostra_de_Domicilios_PNAD_COVID19/Microdados/Documentacao"
   ]
  },
  {
   "cell_type": "markdown",
   "metadata": {},
   "source": [
    "# Seleção de colunas\n",
    "\n",
    "**Dicionário de dados das colunas mantidas no dataframe**\n",
    "\n",
    "- Ano: ano de referência\n",
    "\n",
    "- UF: Unidade da Federação\n",
    "\n",
    "- V1013: Mês da pesquisa\n",
    "\n",
    "- V1022: Situação do domicílio\n",
    "\n",
    "- V1023: Tipo de área\n",
    "\n",
    "- A002: idade do morador\n",
    "\n",
    "- A003: sexo\n",
    "\n",
    "- A004: Cor ou raça\n",
    "\n",
    "- A005: escolaridade"
   ]
  },
  {
   "cell_type": "code",
   "execution_count": null,
   "metadata": {},
   "outputs": [],
   "source": []
  }
 ],
 "metadata": {
  "kernelspec": {
   "display_name": "pyspark_env",
   "language": "python",
   "name": "python3"
  },
  "language_info": {
   "codemirror_mode": {
    "name": "ipython",
    "version": 3
   },
   "file_extension": ".py",
   "mimetype": "text/x-python",
   "name": "python",
   "nbconvert_exporter": "python",
   "pygments_lexer": "ipython3",
   "version": "3.10.9"
  },
  "orig_nbformat": 4
 },
 "nbformat": 4,
 "nbformat_minor": 2
}
